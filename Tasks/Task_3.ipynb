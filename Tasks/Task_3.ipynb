{
 "cells": [
  {
   "cell_type": "code",
   "execution_count": 26,
   "id": "cd6f100e",
   "metadata": {},
   "outputs": [
    {
     "ename": "SyntaxError",
     "evalue": "invalid syntax (2329684350.py, line 3)",
     "output_type": "error",
     "traceback": [
      "\u001b[0;36m  File \u001b[0;32m\"/var/folders/72/_q59jbdn7sj2yp5__ym344bc0000gn/T/ipykernel_14434/2329684350.py\"\u001b[0;36m, line \u001b[0;32m3\u001b[0m\n\u001b[0;31m    you have to submit it by next saturday 4th june 2022  :\u001b[0m\n\u001b[0m        ^\u001b[0m\n\u001b[0;31mSyntaxError\u001b[0m\u001b[0;31m:\u001b[0m invalid syntax\n"
     ]
    }
   ],
   "source": [
    "# Your First Challenge : \n",
    "    \n",
    "you have to submit it by next saturday 4th june 2022  : \n",
    "    shivan@ineuron.ai ,sudhanshu@ineuron.ai\n",
    "    \n",
    "q1 : Try to print this by using while loop \n",
    "* \n",
    "* * \n",
    "* * * \n",
    "* * * * \n",
    "* * * * * \n",
    "* * * * * * \n",
    "* * * * * * * \n",
    "* * * * * * * * \n",
    "* * * * * * * * * \n",
    "\n",
    "q2 : try to print below by using while loop : \n",
    "        \n",
    "A\n",
    "B H \n",
    "C I N\n",
    "D J o S\n",
    "E K p T W\n",
    "F L Q U X z\n",
    "G M R V Y \n",
    "\n",
    "q3 : Try to print all the number divisible by 3 in between a range of 40 - 400\n",
    "    \n",
    "q4 : Try to filter out all the vowels form below text by using while loop : \n",
    "```Python is a high-level, interpreted, general-purpose programming language. Its design philosophy emphasizes code readability with the use of significant indentation.[32]\n",
    "\n",
    "Python is dynamically-typed and garbage-collected. It supports multiple programming paradigms, including structured (particularly procedural), object-oriented and functional programming. It is often described as a \"batteries included\" language due to its comprehensive standard library.[33][34]\n",
    "Guido van Rossum began working on Python in the late 1980s as a successor to the ABC programming language and first released it in 1991 as Python 0.9.0.[35] Python 2.0 was released in 2000 and introduced new features such as list comprehensions, cycle-detecting garbage collection, reference counting, and Unicode support. Python 3.0, released in 2008, was a major revision that is not completely backward-compatible with earlier versions. Python 2 was discontinued with version 2.7.18 in 2020.[36]\n",
    "Python consistently ranks as one of the most popular programming languagesc```\n",
    "\n",
    "q5 : Try to generate all the even number between 1- 1000\n",
    "q6 : Define a function for all the above problem statememnt. \n",
    "q7 : write a code to get a time of your system \n",
    "q8 : Write a code to fetch date form your system \n",
    "q9 : Write a code to send a mail to your friend \n",
    "q10 : write a code to trigger alarm for you at scheduled time \n",
    "q11 : write a code to check ip address of your system \n",
    "q12 : Write a code to check a perticular installation in your system\n",
    "q13 : Write a code to convert any text in to voice \n",
    "q14 : you have to write a fun which will take string and return a len of  it without using a inbuilt fun len\n",
    "q15 :write a fun which will be able to print an index of all premitive element which you will pass \n",
    "q16 : Write a fun which will take input as a dict and give me out as a list of all the values even in case of 2 level nesting it should work . \n",
    "q17 : write a function whihc will take multiple list as a input and give me concatnation of all the element as  and output\n",
    "q18 : Write a function which will whould return list of all the file name from a directory . \n",
    "q19 : write a function whihc will be able to read a image file and show it to you .\n",
    "q20 : write a function by which you will be able to append two PDF files . \n",
    "q21 : write a function which can help you to filter only word file from a directory . \n",
    "q22 : write a function which can read video file and play for you . \n",
    "q23 : write a function which will be able to shutdonw your system . \n",
    "q24 : Write a function which will whould return list of all the file name from a directory . \n",
    "q25 : write a function whihc will be able to access your mail . \n",
    "        "
   ]
  },
  {
   "cell_type": "code",
   "execution_count": 23,
   "id": "1a1be00b",
   "metadata": {},
   "outputs": [
    {
     "name": "stdout",
     "output_type": "stream",
     "text": [
      "*  \n",
      "\n",
      "*  *  \n",
      "\n",
      "*  *  *  \n",
      "\n",
      "*  *  *  *  \n",
      "\n",
      "*  *  *  *  *  \n",
      "\n"
     ]
    }
   ],
   "source": [
    "# Q1 :\n",
    "\n",
    "n = 4\n",
    "i = 0\n",
    "while i <= n: \n",
    "    k = 0;\n",
    "    while k <= i:\n",
    "        print(\"* \" ,end=' ');\n",
    "        k+=1\n",
    "    print(\"\\n\");\n",
    "    i+=1;"
   ]
  },
  {
   "cell_type": "code",
   "execution_count": 24,
   "id": "218a0713",
   "metadata": {},
   "outputs": [
    {
     "name": "stdout",
     "output_type": "stream",
     "text": [
      "*  \n",
      "\n",
      "*  *  \n",
      "\n",
      "*  *  *  \n",
      "\n",
      "*  *  *  *  \n",
      "\n",
      "*  *  *  *  *  \n",
      "\n"
     ]
    }
   ],
   "source": [
    "# Q2 : \n",
    "\n",
    "n = 4\n",
    "i = 0\n",
    "while i <= n: \n",
    "    k = 0;\n",
    "    while k <= i:\n",
    "        print(\"* \" ,end=' ');\n",
    "        k+=1\n",
    "    print(\"\\n\");\n",
    "    i+=1;"
   ]
  },
  {
   "cell_type": "code",
   "execution_count": 31,
   "id": "564a03af",
   "metadata": {},
   "outputs": [
    {
     "name": "stdout",
     "output_type": "stream",
     "text": [
      "07:33:06.996054\n"
     ]
    }
   ],
   "source": [
    "# Q4 \n",
    "\n",
    "from datetime import datetime\n",
    "\n",
    "now = datetime.now().time()\n",
    "print(now)"
   ]
  },
  {
   "cell_type": "code",
   "execution_count": 35,
   "id": "f21ed84e",
   "metadata": {},
   "outputs": [
    {
     "name": "stdout",
     "output_type": "stream",
     "text": [
      "2022-06-08\n"
     ]
    }
   ],
   "source": [
    "date = datetime.now().date()\n",
    "print(date)"
   ]
  },
  {
   "cell_type": "code",
   "execution_count": 37,
   "id": "f8071787",
   "metadata": {},
   "outputs": [],
   "source": [
    "import datetime\n"
   ]
  },
  {
   "cell_type": "code",
   "execution_count": 60,
   "id": "9643b6dd",
   "metadata": {},
   "outputs": [],
   "source": [
    "\n",
    "import gtts  \n",
    "from playsound import playsound  \n",
    "\n",
    "t1 = gtts.gTTS(\"Hello Mausa, Mujhe Ek Watch Kharidni hai\")  \n",
    "t1.save(\"welcome.mp3\")   \n",
    "playsound(\"welcome.mp3\")  "
   ]
  },
  {
   "cell_type": "code",
   "execution_count": null,
   "id": "edf0487f",
   "metadata": {},
   "outputs": [],
   "source": []
  },
  {
   "cell_type": "code",
   "execution_count": null,
   "id": "3fa65976",
   "metadata": {},
   "outputs": [],
   "source": []
  }
 ],
 "metadata": {
  "kernelspec": {
   "display_name": "Python 3 (ipykernel)",
   "language": "python",
   "name": "python3"
  },
  "language_info": {
   "codemirror_mode": {
    "name": "ipython",
    "version": 3
   },
   "file_extension": ".py",
   "mimetype": "text/x-python",
   "name": "python",
   "nbconvert_exporter": "python",
   "pygments_lexer": "ipython3",
   "version": "3.9.7"
  }
 },
 "nbformat": 4,
 "nbformat_minor": 5
}
