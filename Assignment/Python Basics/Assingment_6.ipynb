{
 "cells": [
  {
   "cell_type": "markdown",
   "id": "fc5dc747",
   "metadata": {},
   "source": [
    "# Asingment 6 \n",
    "\n",
    "### 1. What are escape characters, and how do you use them?\n",
    "Solution - \n",
    "The escape character allows you to use double quotes when you normally would not be allowed.\n",
    "\n",
    "```\\ ```\n",
    "\n",
    "```txt = \"We are \\\"Vikings\\\"the north.\"```\n",
    "\n",
    "\n",
    "### 2. What do the escape characters n and t stand for?\n",
    "Solution - \n",
    "- ```n``` - new line\n",
    "- ```t``` - Tab"
   ]
  },
  {
   "cell_type": "markdown",
   "id": "567f955c",
   "metadata": {},
   "source": [
    "### 3. What is the way to include backslash characters in a string?\n",
    "\n",
    "\n",
    "solution - ```\"\\\\\"```\n",
    "\n",
    "        text = \"\\\\\"\n",
    "        print(text)\n",
    "        \n",
    "### 4. The string \"Howl's Moving Castle\" is a correct value. Why isn't the single quote character in the word Howl's not escaped a problem?\n",
    "\n",
    "solution -\n",
    "\n",
    "Because the string is surrounded with **``\" \"``** .\n",
    "            \n",
    "            \n",
    "### 5. How do you write a string of newlines if you don't want to use the n character?\n",
    "Solution - Simply Enter the value in new line : \n",
    "\n",
    "    For example - \n",
    "        str_1 = \"\"\"Hire the top \n",
    "        freelance \n",
    "        developers\"\"\"\n",
    "\n",
    "        print(str_1)\n"
   ]
  },
  {
   "cell_type": "markdown",
   "id": "4a74cc22",
   "metadata": {},
   "source": [
    "### 6. What are the values of the given expressions?\n",
    "\n",
    "    'Hello, world!'[1]\n",
    "    'Hello, world!'[0:5]\n",
    "    'Hello, world!'[:5]\n",
    "    'Hello, world!'[3:]\n",
    "**Solution -**\n",
    "\n",
    "\n",
    "    OUTPUT - \n",
    "    'lo, world!'\n",
    "    \n",
    "### 7. What are the values of the following expressions?\n",
    "\n",
    "    'Hello'.upper()\n",
    "    'Hello'.upper().isupper()\n",
    "    'Hello'.upper().lower()\n",
    "\n",
    "**Solution -**\n",
    "\n",
    "    'hello'\n"
   ]
  },
  {
   "cell_type": "markdown",
   "id": "746eecb1",
   "metadata": {},
   "source": [
    "### 8. What are the values of the following expressions?\n",
    "    'Remember, remember, the fifth of July.'.split()\n",
    "    '-'.join('There can only one.'.split())\n",
    "\n",
    "Solution - \n",
    "\n",
    "    'There-can-only-one.'"
   ]
  },
  {
   "cell_type": "markdown",
   "id": "ae7b9f0b",
   "metadata": {},
   "source": [
    "### 9. What are the methods for right-justifying, left-justifying, and centering a string?\n",
    "\n",
    "- ```print (str.ljust(40, '-'))``` - Left Justifing the string\n",
    "\n",
    "- ```print (str.rjust(40, '-'))``` - Right Justifing the string\n",
    "\n",
    "- ```print (str.center(40, '#'))``` - Center Justifing the String\n"
   ]
  },
  {
   "cell_type": "markdown",
   "id": "2b2b0a02",
   "metadata": {},
   "source": [
    "### 10. What is the best way to remove whitespace characters from the start or end?\n",
    "Solution - \n",
    "\n",
    "```str.strip()```"
   ]
  }
 ],
 "metadata": {
  "kernelspec": {
   "display_name": "Python 3 (ipykernel)",
   "language": "python",
   "name": "python3"
  },
  "language_info": {
   "codemirror_mode": {
    "name": "ipython",
    "version": 3
   },
   "file_extension": ".py",
   "mimetype": "text/x-python",
   "name": "python",
   "nbconvert_exporter": "python",
   "pygments_lexer": "ipython3",
   "version": "3.9.7"
  }
 },
 "nbformat": 4,
 "nbformat_minor": 5
}
