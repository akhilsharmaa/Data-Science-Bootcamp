{
 "cells": [
  {
   "cell_type": "markdown",
   "id": "041007ea",
   "metadata": {},
   "source": [
    "# Programming Assignment 11\n",
    "\n",
    "### 1. Write a Python program to find words which are greater than given length k?"
   ]
  },
  {
   "cell_type": "code",
   "execution_count": 1,
   "id": "4a5be528",
   "metadata": {},
   "outputs": [
    {
     "name": "stdout",
     "output_type": "stream",
     "text": [
      "Enter the K: 3\n",
      "Hindi\n",
      "sundhanshu\n",
      "akhil\n"
     ]
    }
   ],
   "source": [
    "l = {'akhil', 'sundhanshu' , 'ji', \"Hindi\",\"Ard\"}\n",
    "\n",
    "k = int(input(\"Enter the K: \"));\n",
    "\n",
    "for i in l : \n",
    "    if len(i) > k:\n",
    "        print(i)"
   ]
  },
  {
   "cell_type": "markdown",
   "id": "87190dfb",
   "metadata": {},
   "source": [
    "### 2. Write a Python program for removing i-th character from a string?"
   ]
  },
  {
   "cell_type": "code",
   "execution_count": 11,
   "id": "67fa0742",
   "metadata": {},
   "outputs": [
    {
     "name": "stdout",
     "output_type": "stream",
     "text": [
      "Enter String: Akhilesh \n",
      "Enter position to remove: 3\n",
      "Akilesh \n"
     ]
    }
   ],
   "source": [
    "str = input(\"Enter String: \");\n",
    "i = int(input(\"Enter position to remove: \"))\n",
    "\n",
    "s2 = str[0:i-1] \n",
    "s3 = str[i:]\n",
    "str = s2 + s3;\n",
    "\n",
    "print(str)"
   ]
  },
  {
   "cell_type": "markdown",
   "id": "f19f9cb7",
   "metadata": {},
   "source": [
    "### 3. Write a Python program to split and join a string?\n"
   ]
  },
  {
   "cell_type": "code",
   "execution_count": 18,
   "id": "81c068f6",
   "metadata": {},
   "outputs": [
    {
     "name": "stdout",
     "output_type": "stream",
     "text": [
      "Enter string to split: Akhil\n",
      "Ak   hil\n"
     ]
    }
   ],
   "source": [
    "# Split String \n",
    "\n",
    "str = input(\"Enter string to split: \")\n",
    "\n",
    "s1 = str[0: int(len(str)/2)]\n",
    "s2 = str[int(len(str)/2): ]\n",
    "\n",
    "print(s1, ' ', s2)"
   ]
  },
  {
   "cell_type": "code",
   "execution_count": 21,
   "id": "273e244d",
   "metadata": {},
   "outputs": [
    {
     "name": "stdout",
     "output_type": "stream",
     "text": [
      "Enter string part 1: Akhil\n",
      "Enter string part 2: Sharma\n",
      "AkhilSharma\n"
     ]
    }
   ],
   "source": [
    "# Join String \n",
    "\n",
    "s1 = input(\"Enter string part 1: \")\n",
    "s2 = input(\"Enter string part 2: \")\n",
    "\n",
    "str = s1 + s2;\n",
    "print(str)"
   ]
  },
  {
   "cell_type": "markdown",
   "id": "23c36611",
   "metadata": {},
   "source": [
    "### 4. Write a Python to check if a given string is binary string or not?"
   ]
  },
  {
   "cell_type": "code",
   "execution_count": 27,
   "id": "2e0162af",
   "metadata": {},
   "outputs": [
    {
     "name": "stdout",
     "output_type": "stream",
     "text": [
      "Enter string: 10010101011\n"
     ]
    },
    {
     "data": {
      "text/plain": [
       "True"
      ]
     },
     "execution_count": 27,
     "metadata": {},
     "output_type": "execute_result"
    }
   ],
   "source": [
    "str = input(\"Enter string: \")\n",
    "\n",
    "ok = True;\n",
    "for i in str: \n",
    "    if i != '0' and i != '1': \n",
    "        ok = False\n",
    "    \n",
    "ok"
   ]
  },
  {
   "cell_type": "markdown",
   "id": "52778574",
   "metadata": {},
   "source": [
    "### 5. Write a Python program to find uncommon words from two Strings?"
   ]
  },
  {
   "cell_type": "code",
   "execution_count": null,
   "id": "a98e2dba",
   "metadata": {},
   "outputs": [],
   "source": [
    "str = input(\"enter string 1 : \")\n",
    "str = input(\"enter string 2 : \")\n",
    "\n"
   ]
  },
  {
   "cell_type": "markdown",
   "id": "f0cd5019",
   "metadata": {},
   "source": [
    "\n",
    "### 6. Write a Python to find all duplicate characters in string?\n"
   ]
  },
  {
   "cell_type": "code",
   "execution_count": 34,
   "id": "112be0b4",
   "metadata": {},
   "outputs": [
    {
     "name": "stdout",
     "output_type": "stream",
     "text": [
      "Enter string : AkhileshSharma\n",
      "A  =  1\n",
      "k  =  1\n",
      "h  =  3\n",
      "i  =  1\n",
      "l  =  1\n",
      "e  =  1\n",
      "s  =  1\n",
      "h  =  3\n",
      "S  =  1\n",
      "h  =  3\n",
      "a  =  2\n",
      "r  =  1\n",
      "m  =  1\n",
      "a  =  2\n"
     ]
    }
   ],
   "source": [
    "str = input(\"Enter string : \")\n",
    "\n",
    "for i in str:\n",
    "    k = str.count(i)\n",
    "    print(i, ' = ', k)"
   ]
  },
  {
   "cell_type": "markdown",
   "id": "455f592f",
   "metadata": {},
   "source": [
    "\n",
    "### 7. Write a Python Program to check if a string contains any special character?"
   ]
  },
  {
   "cell_type": "code",
   "execution_count": 43,
   "id": "b61f3814",
   "metadata": {},
   "outputs": [
    {
     "name": "stdout",
     "output_type": "stream",
     "text": [
      "Enter String: Akhil sharma $ This _ \n",
      "yes, it contains special_characters.\n"
     ]
    }
   ],
   "source": [
    "special_characters = \"!@#$%^&*()-+?_=,<>/\"\n",
    "s=input(\"Enter String: \")\n",
    "# Example: $tackoverflow\n",
    "\n",
    "if any(c in special_characters for c in s):\n",
    "    print(\"yes, it contains special_characters.\")\n",
    "else:\n",
    "    print(\"no, doesn't contains special_characters.\")"
   ]
  },
  {
   "cell_type": "code",
   "execution_count": null,
   "id": "285f821c",
   "metadata": {},
   "outputs": [],
   "source": []
  }
 ],
 "metadata": {
  "kernelspec": {
   "display_name": "Python 3 (ipykernel)",
   "language": "python",
   "name": "python3"
  },
  "language_info": {
   "codemirror_mode": {
    "name": "ipython",
    "version": 3
   },
   "file_extension": ".py",
   "mimetype": "text/x-python",
   "name": "python",
   "nbconvert_exporter": "python",
   "pygments_lexer": "ipython3",
   "version": "3.9.12"
  }
 },
 "nbformat": 4,
 "nbformat_minor": 5
}
