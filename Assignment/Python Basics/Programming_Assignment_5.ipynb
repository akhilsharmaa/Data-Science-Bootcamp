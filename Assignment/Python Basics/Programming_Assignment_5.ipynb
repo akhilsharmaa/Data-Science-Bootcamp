{
 "cells": [
  {
   "cell_type": "markdown",
   "id": "10891394",
   "metadata": {},
   "source": [
    "# Programming Assignment 5 "
   ]
  },
  {
   "cell_type": "markdown",
   "id": "edd027e7",
   "metadata": {},
   "source": [
    "### 1. Write a Python Program to Find LCM?\n",
    "\n",
    "Solution -"
   ]
  },
  {
   "cell_type": "code",
   "execution_count": 32,
   "id": "022d8637",
   "metadata": {},
   "outputs": [
    {
     "name": "stdout",
     "output_type": "stream",
     "text": [
      "The L.C.M. of 23 and 34 is 782\n"
     ]
    }
   ],
   "source": [
    "# defining a function to calculate LCM  \n",
    "def calculate_lcm(x, y):  \n",
    "    # selecting the greater number  \n",
    "    if x > y:  \n",
    "        greater = x  \n",
    "    else:  \n",
    "        greater = y  \n",
    "    while(True):  \n",
    "        if((greater % x == 0) and (greater % y == 0)):  \n",
    "            lcm = greater  \n",
    "            break  \n",
    "        greater += 1  \n",
    "    return lcm    \n",
    "  \n",
    "# taking input from users  \n",
    "num1 = int(input(\"Enter first number: \"))  \n",
    "num2 = int(input(\"Enter second number: \"))  \n",
    "\n",
    "print(\"The L.C.M. of\", num1,\"and\", num2,\"is\", calculate_lcm(num1, num2))  "
   ]
  },
  {
   "cell_type": "markdown",
   "id": "1b5f6de3",
   "metadata": {},
   "source": [
    "### 2. Write a Python Program to Find HCF?\n",
    "\n"
   ]
  },
  {
   "cell_type": "code",
   "execution_count": 2,
   "id": "a229830e",
   "metadata": {},
   "outputs": [
    {
     "name": "stdout",
     "output_type": "stream",
     "text": [
      "The H.C.F. is 6\n"
     ]
    }
   ],
   "source": [
    "def compute_hcf(x, y):\n",
    "\n",
    "    if x > y:\n",
    "        smaller = y\n",
    "    else:\n",
    "        smaller = x\n",
    "    for i in range(1, smaller+1):\n",
    "        if((x % i == 0) and (y % i == 0)):\n",
    "            hcf = i \n",
    "    return hcf\n",
    "\n",
    "num1 = 54 \n",
    "num2 = 24\n",
    "\n",
    "print(\"The H.C.F. is\", compute_hcf(num1, num2))\n"
   ]
  },
  {
   "cell_type": "markdown",
   "id": "b086f406",
   "metadata": {},
   "source": [
    "### 3. Write a Python Program to Convert Decimal to Binary, Octal and Hexadecimal?"
   ]
  },
  {
   "cell_type": "code",
   "execution_count": 3,
   "id": "c50d8367",
   "metadata": {},
   "outputs": [
    {
     "name": "stdout",
     "output_type": "stream",
     "text": [
      "The decimal value of 344 is:\n",
      "0b101011000 in binary.\n",
      "0o530 in octal.\n",
      "0x158 in hexadecimal.\n"
     ]
    }
   ],
   "source": [
    "dec = 344\n",
    "\n",
    "print(\"The decimal value of\", dec, \"is:\")\n",
    "print(bin(dec), \"in binary.\")\n",
    "print(oct(dec), \"in octal.\")\n",
    "print(hex(dec), \"in hexadecimal.\")\n"
   ]
  },
  {
   "cell_type": "markdown",
   "id": "102c6891",
   "metadata": {},
   "source": [
    "### 4. Write a Python Program To Find ASCII value of a character?"
   ]
  },
  {
   "cell_type": "code",
   "execution_count": 5,
   "id": "e8ef6fe4",
   "metadata": {},
   "outputs": [
    {
     "name": "stdout",
     "output_type": "stream",
     "text": [
      "The ASCII value of 'q' is 113\n"
     ]
    }
   ],
   "source": [
    "c = 'q'\n",
    "print(\"The ASCII value of '\" + c + \"' is\", ord(c))\n"
   ]
  },
  {
   "cell_type": "markdown",
   "id": "be83a05c",
   "metadata": {},
   "source": [
    "### 5. Write a Python Program to Make a Simple Calculator with 4 basic mathematical operations?"
   ]
  },
  {
   "cell_type": "code",
   "execution_count": 31,
   "id": "648741bd",
   "metadata": {},
   "outputs": [
    {
     "name": "stdout",
     "output_type": "stream",
     "text": [
      "A+B =  145\n",
      "A-B =  103\n",
      "A*B =  2604\n",
      "A/B =  5.904761904761905\n"
     ]
    }
   ],
   "source": [
    "class Calculate: \n",
    "\n",
    "    def add(self, a,  b):\n",
    "        print(\"A+B = \", a+b)\n",
    "    \n",
    "    def sub(self, a,  b):\n",
    "        print(\"A-B = \", a-b)\n",
    "\n",
    "    def mul(self, a, b):\n",
    "        print(\"A*B = \", a*b)\n",
    "\n",
    "    def div(self, a, b):\n",
    "        print(\"A/B = \", a/b)\n",
    "\n",
    "a = Calculate();\n",
    "a.add(124, 21)\n",
    "a.sub(124, 21)\n",
    "a.mul(124, 21)\n",
    "a.div(124, 21)\n"
   ]
  },
  {
   "cell_type": "code",
   "execution_count": null,
   "id": "fe466526",
   "metadata": {},
   "outputs": [],
   "source": []
  }
 ],
 "metadata": {
  "kernelspec": {
   "display_name": "Python 3.9.12 64-bit",
   "language": "python",
   "name": "python3"
  },
  "language_info": {
   "codemirror_mode": {
    "name": "ipython",
    "version": 3
   },
   "file_extension": ".py",
   "mimetype": "text/x-python",
   "name": "python",
   "nbconvert_exporter": "python",
   "pygments_lexer": "ipython3",
   "version": "3.9.12"
  },
  "vscode": {
   "interpreter": {
    "hash": "b0fa6594d8f4cbf19f97940f81e996739fb7646882a419484c72d19e05852a7e"
   }
  }
 },
 "nbformat": 4,
 "nbformat_minor": 5
}
