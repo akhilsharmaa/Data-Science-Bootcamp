{
 "cells": [
  {
   "cell_type": "markdown",
   "metadata": {},
   "source": [
    "### Assignment_13\n",
    "\n",
    "1.What advantages do Excel spreadsheets have over CSV spreadsheets?\n",
    "\n",
    "Solution - \n",
    "- CSV : It saves data in plain text format, but it cannot protect data like the chart.\t\n",
    "- MS Excel :  can easily save data like charts.\n",
    "\n",
    "\n",
    "2.What do you pass to csv.reader() and csv.writer() to create reader and writer objects?\n",
    "\n",
    "\n",
    "Soution - For ```csv.reader(iterable_file_object)```, the file objects needed to be opened in read mode mode='r' Whereas for csv.writer(iterable_file_object) the file objects needed to be opened in write mode mode='w'\n",
    "\n",
    "4.What method takes a list argument and writes it to a CSV file?\n",
    "\n",
    "Solution - csv.writer class provides two methods for writing to CSV. They are writerow() and writerows(). writerow() method writes a single row at a time. Whereas writerows() method is used to write multiple rows at a time.\n",
    "\n",
    "5.What do the keyword arguments delimiter and line terminator do?\n",
    "\n",
    "Lets take the example of a csv file:\n",
    "\n",
    "```First Name, Last Name, Age```\n",
    "\n",
    "```Akhil, Kittu, 24```\n",
    "\n",
    "```Diyvansh, Lakshya, 21```\n",
    "\n",
    "Here ```','``` is Delimiter. We can use any Character as per our needs if required. Similarly Line Terminator comes at end of line by default it is newline and can be changed accourding to Requirement.\n",
    "\n",
    "\n",
    "\n",
    "6 What function takes a string of JSON data and returns a Python data structure?\n",
    " \n",
    "Solution - loads() method takes a string of JSON data and returns a Python data structure\n",
    "\n",
    "7 .What function takes a Python data structure and returns a string of JSON data?\n",
    "\n",
    "```dumps()```"
   ]
  },
  {
   "cell_type": "markdown",
   "metadata": {},
   "source": []
  },
  {
   "cell_type": "markdown",
   "metadata": {},
   "source": []
  }
 ],
 "metadata": {
  "kernelspec": {
   "display_name": "Python 3.10.4 64-bit",
   "language": "python",
   "name": "python3"
  },
  "language_info": {
   "codemirror_mode": {
    "name": "ipython",
    "version": 3
   },
   "file_extension": ".py",
   "mimetype": "text/x-python",
   "name": "python",
   "nbconvert_exporter": "python",
   "pygments_lexer": "ipython3",
   "version": "3.10.4"
  },
  "orig_nbformat": 4,
  "vscode": {
   "interpreter": {
    "hash": "916dbcbb3f70747c44a77c7bcd40155683ae19c65e1c03b4aa3499c5328201f1"
   }
  }
 },
 "nbformat": 4,
 "nbformat_minor": 2
}
