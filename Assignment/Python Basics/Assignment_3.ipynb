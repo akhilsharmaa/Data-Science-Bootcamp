{
 "cells": [
  {
   "cell_type": "code",
   "execution_count": null,
   "id": "5b7a7557",
   "metadata": {},
   "outputs": [],
   "source": []
  },
  {
   "cell_type": "markdown",
   "id": "5d6e0ae4",
   "metadata": {},
   "source": [
    "### 1. Why are functions advantageous to have in your programs?\n",
    " \n",
    "Solution- \n",
    "\n",
    "Using Functions in your program **Improves** : \n",
    "- Re-use of code.\n",
    "- improve maintainability and scalability.\n"
   ]
  },
  {
   "cell_type": "markdown",
   "id": "c1e53536",
   "metadata": {},
   "source": [
    "### 2. When does the code in a function run: when it's specified or when it's called?\n",
    "\n",
    "Solution - \n",
    "    ***When it is called.***"
   ]
  },
  {
   "cell_type": "markdown",
   "id": "4daa2f73",
   "metadata": {},
   "source": [
    "### 3. What statement creates a function?\n",
    "Solution - \n",
    "```def``` creates a function \n",
    "\n",
    "\n",
    "### 4. What is the difference between a function and a function call?\n",
    "Solution - \n",
    "\n",
    "Function : \n",
    "- Where we define and declare the function \n",
    "\n",
    "Function Call : \n",
    "- We call the function which may or may not a value.\n",
    "- Function only run when we call \n"
   ]
  },
  {
   "cell_type": "markdown",
   "id": "dedff464",
   "metadata": {},
   "source": [
    "### 5. How many global scopes are there in a Python program? How many local scopes?\n",
    "\n",
    "- There is one global scope in Python program.\n",
    "- There is one local scope in python program.\n"
   ]
  },
  {
   "cell_type": "markdown",
   "id": "e108c843",
   "metadata": {},
   "source": [
    "### 6. What happens to variables in a local scope when the function call returns?\n",
    "Solution - \n",
    "\n",
    "A local variable retains its value."
   ]
  },
  {
   "cell_type": "markdown",
   "id": "b153ed93",
   "metadata": {},
   "source": [
    "### 7. What is the concept of a return value? Is it possible to have a return value in an expression?\n",
    "\n",
    "#### Solution - \n",
    "\n",
    "- A return is a value that a function returns after calling the function when it completes its task.\n",
    "- Yes, it possible to have a return value in an expression."
   ]
  },
  {
   "cell_type": "markdown",
   "id": "8eb2cac7",
   "metadata": {},
   "source": [
    "### 8. If a function does not have a return statement, what is the return value of a call to that function?\n",
    "Solution -  Void "
   ]
  },
  {
   "cell_type": "markdown",
   "id": "8331a2c9",
   "metadata": {},
   "source": [
    "### 9. How do you make a function variable refer to the global variable?\n",
    "\n",
    "Solution - \n",
    "By Using the **global** keyword to declare which variables are global."
   ]
  },
  {
   "cell_type": "markdown",
   "id": "9a77ffb4",
   "metadata": {},
   "source": [
    " ### 10. What is the data type of None?\n",
    " Solution - None is a data type of its own (NoneType) \n",
    " \n",
    " \n",
    " ### 11. What does the sentence import areallyourpetsnamederic do?\n",
    " Solution - This will import the file/module named as **areallyourpetsnamederic** in the python.\n",
    " \n",
    " \n",
    " ### 12. If you had a bacon() feature in a spam module, what would you call it after importing spam?\n",
    " Solution - **spam.bacon()**\n",
    " \n",
    " \n",
    " "
   ]
  },
  {
   "cell_type": "markdown",
   "id": "eb8e973a",
   "metadata": {},
   "source": [
    "### 13. What can you do to save a programme from crashing if it encounters an error?"
   ]
  },
  {
   "cell_type": "markdown",
   "id": "cf2eec38",
   "metadata": {},
   "source": [
    "Solution - \n",
    "- I can do **Exception Handling.**\n",
    "- Use Try and Catch in the program"
   ]
  },
  {
   "cell_type": "markdown",
   "id": "35cc1eb2",
   "metadata": {},
   "source": [
    "### 14. What is the purpose of the try clause? What is the purpose of the except clause?\n",
    "\n",
    "Solution - \n",
    "- The try block lets you test a block of code for errors\n",
    "- The except block lets you handle the error. \n"
   ]
  },
  {
   "cell_type": "code",
   "execution_count": null,
   "id": "809621d6",
   "metadata": {},
   "outputs": [],
   "source": []
  }
 ],
 "metadata": {
  "kernelspec": {
   "display_name": "Python 3 (ipykernel)",
   "language": "python",
   "name": "python3"
  },
  "language_info": {
   "codemirror_mode": {
    "name": "ipython",
    "version": 3
   },
   "file_extension": ".py",
   "mimetype": "text/x-python",
   "name": "python",
   "nbconvert_exporter": "python",
   "pygments_lexer": "ipython3",
   "version": "3.9.7"
  }
 },
 "nbformat": 4,
 "nbformat_minor": 5
}
