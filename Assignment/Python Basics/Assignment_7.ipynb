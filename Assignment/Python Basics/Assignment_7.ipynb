{
 "cells": [
  {
   "cell_type": "markdown",
   "id": "75da5fb8",
   "metadata": {},
   "source": [
    "### 1. What is the name of the feature responsible for generating Regex objects?\n",
    "\n",
    "Solution - \n",
    "```re. compile()```\n",
    "\n",
    "### 2. Why do raw strings often appear in Regex objects?\n",
    "Solution - \n"
   ]
  },
  {
   "cell_type": "markdown",
   "id": "29e8f70c",
   "metadata": {},
   "source": []
  },
  {
   "cell_type": "code",
   "execution_count": null,
   "id": "60a91cd4",
   "metadata": {},
   "outputs": [],
   "source": []
  }
 ],
 "metadata": {
  "kernelspec": {
   "display_name": "Python 3 (ipykernel)",
   "language": "python",
   "name": "python3"
  },
  "language_info": {
   "codemirror_mode": {
    "name": "ipython",
    "version": 3
   },
   "file_extension": ".py",
   "mimetype": "text/x-python",
   "name": "python",
   "nbconvert_exporter": "python",
   "pygments_lexer": "ipython3",
   "version": "3.9.7"
  }
 },
 "nbformat": 4,
 "nbformat_minor": 5
}
