{
 "cells": [
  {
   "cell_type": "markdown",
   "id": "75da5fb8",
   "metadata": {},
   "source": [
    "### 1. What is the name of the feature responsible for generating Regex objects?\n",
    "\n",
    "Solution - \n",
    "```re. compile()```\n",
    "\n",
    "### 2. Why do raw strings often appear in Regex objects?\n",
    "Solution - \n",
    "\n",
    "Raw strings are used so that backslashes do not have to be escaped."
   ]
  },
  {
   "cell_type": "markdown",
   "id": "29e8f70c",
   "metadata": {},
   "source": [
    "### 3. What is the return value of the search() method?\n",
    "Solution - \n",
    "\n",
    "    Returns a Match object if there is a match anywhere in the string\n",
    "\n",
    "### 4. From a Match item, how do you get the actual strings that match the pattern?\n",
    "Solution - \n",
    "\n",
    "    The group() method returns strings of the matched text.\n",
    "\n",
    "### 5. In the regex which created from the r'(\\d\\d\\d)-(\\d\\d\\d-\\d\\d\\d\\d)', what does group zero cover? Group 2? Group 1?\n"
   ]
  },
  {
   "cell_type": "code",
   "execution_count": null,
   "id": "60a91cd4",
   "metadata": {},
   "outputs": [],
   "source": []
  }
 ],
 "metadata": {
  "kernelspec": {
   "display_name": "Python 3.9.12 64-bit",
   "language": "python",
   "name": "python3"
  },
  "language_info": {
   "codemirror_mode": {
    "name": "ipython",
    "version": 3
   },
   "file_extension": ".py",
   "mimetype": "text/x-python",
   "name": "python",
   "nbconvert_exporter": "python",
   "pygments_lexer": "ipython3",
   "version": "3.9.12"
  },
  "vscode": {
   "interpreter": {
    "hash": "b0fa6594d8f4cbf19f97940f81e996739fb7646882a419484c72d19e05852a7e"
   }
  }
 },
 "nbformat": 4,
 "nbformat_minor": 5
}
