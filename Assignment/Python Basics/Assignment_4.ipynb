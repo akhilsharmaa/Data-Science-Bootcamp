{
 "cells": [
  {
   "cell_type": "markdown",
   "id": "605181c4",
   "metadata": {},
   "source": [
    "# Assingment - 4 \n"
   ]
  },
  {
   "cell_type": "markdown",
   "id": "3f3a451a",
   "metadata": {},
   "source": [
    "### 1. What exactly is [ ] ?\n",
    "Solution  - \n",
    "- It is a list of empty elements.\n",
    "- Use to assing value at specific index.\n",
    "\n",
    "### Assume - ``` spam =  [2, 4, 6, 8, 10] ```\n",
    "\n",
    "### 2. In a list of values stored in a variable called spam, how would you assign the value &#39;hello&#39; as the third value? \n",
    "\n",
    "\n",
    "Solution  - \n",
    "**```spam[2] = 'hello'```**\n"
   ]
  },
  {
   "cell_type": "markdown",
   "id": "881a35f2",
   "metadata": {},
   "source": [
    "### What is the value of spam[int(int(&#39;3&#39; * 2) / 11)]?\n",
    "Solution - \n",
    "**8**\n",
    "\n",
    "### 4. What is the value of spam[-1]?\n",
    "soution - **10**"
   ]
  },
  {
   "cell_type": "markdown",
   "id": "de0da788",
   "metadata": {},
   "source": [
    "\n",
    "### 5. What is the value of spam[:2]?\n",
    "### solution -\n",
    "[2, 4]"
   ]
  },
  {
   "cell_type": "markdown",
   "id": "88888619",
   "metadata": {},
   "source": [
    "#### Let&#39;s pretend bacon has the list [3.14, &#39;cat,&#39; 11, &#39;cat,&#39; True] for the next three questions.\n",
    "### 6. What is the value of bacon.index(&#39;cat&#39;)?"
   ]
  },
  {
   "cell_type": "markdown",
   "id": "f09aa684",
   "metadata": {},
   "source": [
    "solution - **1**, becase index of \"cat\" value is one."
   ]
  },
  {
   "cell_type": "markdown",
   "id": "3c70f769",
   "metadata": {},
   "source": [
    "### 7. How does bacon.append(99) change the look of the list value in bacon?\n",
    "\n",
    "Solution - [ 3.14, \"cat\", 11, \"cat\", True, **99**] "
   ]
  },
  {
   "cell_type": "markdown",
   "id": "c048a49b",
   "metadata": {},
   "source": [
    "### 8. How does bacon.remove(&#39;cat&#39;) change the look of the list in bacon?"
   ]
  },
  {
   "cell_type": "markdown",
   "id": "0862b61b",
   "metadata": {},
   "source": [
    "Solution - [3.14, 11, 'cat', True, 99].\n",
    "\n",
    "First accurence of \"cat\" will be removed."
   ]
  },
  {
   "cell_type": "markdown",
   "id": "ad43f236",
   "metadata": {},
   "source": [
    "### 9. What are the list concatenation and list replication operators?\n",
    "Solution -\n",
    "\n",
    "- The ```'+' operator``` can be used to **concatenate** two lists.\n",
    "- The ```'*' operator``` can be used to **replicate** list.\n",
    "\n",
    "\n",
    "\n"
   ]
  },
  {
   "cell_type": "markdown",
   "id": "d7de6d05",
   "metadata": {},
   "source": [
    "### 10. What is difference between the list methods append() and insert()?\n",
    "\n",
    "Solution - \n",
    "\n",
    "- ***insert()*** to add a specific element **at a specified index.**\n",
    "- ***append()*** to add the element only at **end of the list.**"
   ]
  },
  {
   "cell_type": "markdown",
   "id": "57fbcd8a",
   "metadata": {},
   "source": [
    "### 11. What are the two methods for removing items from a list?\n",
    "Solution - \n",
    "- ```list.remove(\"value\")``` - Remove the Element by **Value.**\n",
    "- ```list.pop(index)``` - Remove the Element by **Index**."
   ]
  },
  {
   "cell_type": "markdown",
   "id": "8fd6e3ac",
   "metadata": {},
   "source": [
    "### 12. Describe how list values and string values are identical.\n",
    "\n",
    "List values and string values are identical Because :- \n",
    "- We can access **char in string** by index just like **elements in list**.\n",
    "- We can do **pop operation** in both. etc."
   ]
  },
  {
   "cell_type": "markdown",
   "id": "7ee1d1d0",
   "metadata": {},
   "source": [
    "### 13. What's the difference between tuples and lists?\n",
    "Solution - \n",
    "\n",
    "The key difference between the tuples and lists is that while the **tuples are immutable** objects the **lists are mutable.**"
   ]
  },
  {
   "cell_type": "markdown",
   "id": "8bca4b77",
   "metadata": {},
   "source": [
    "### 14. How do you type a tuple value that only contains the integer 42?\n",
    "\n",
    "Soluiton - \n",
    "``` t = (42) ```\n",
    "\n",
    "### 15. How do you get a list value&#39;s tuple form? How do you get a tuple value&#39;s list form?\n"
   ]
  },
  {
   "cell_type": "markdown",
   "id": "523e7cea",
   "metadata": {},
   "source": [
    "Solution - \n",
    "- ```tuple(list_name)``` will return list **as tuple**\n",
    "\n",
    "- ```list(tuple_name)``` will return tuple **as list**\n",
    "\n",
    "### 16. Variables that &quot;contain&quot; list values are not necessarily lists themselves. Instead, what do they contain?\n",
    "\n"
   ]
  },
  {
   "cell_type": "markdown",
   "id": "6468ee2f",
   "metadata": {},
   "source": [
    "Solution - \n",
    "**Elements**"
   ]
  },
  {
   "cell_type": "markdown",
   "id": "12a24e44",
   "metadata": {},
   "source": [
    "\n",
    "### 17. How do you distinguish between ```copy.copy()``` and ```copy.deepcopy()``` ?\n",
    "\n",
    "Solution -  \n",
    "\n",
    "The difference between copy and deep copying is only **relevant for compound objects** (objects that contain other objects, like lists or class instances)."
   ]
  },
  {
   "cell_type": "markdown",
   "id": "00ee3610",
   "metadata": {},
   "source": []
  }
 ],
 "metadata": {
  "kernelspec": {
   "display_name": "Python 3 (ipykernel)",
   "language": "python",
   "name": "python3"
  },
  "language_info": {
   "codemirror_mode": {
    "name": "ipython",
    "version": 3
   },
   "file_extension": ".py",
   "mimetype": "text/x-python",
   "name": "python",
   "nbconvert_exporter": "python",
   "pygments_lexer": "ipython3",
   "version": "3.9.7"
  }
 },
 "nbformat": 4,
 "nbformat_minor": 5
}
