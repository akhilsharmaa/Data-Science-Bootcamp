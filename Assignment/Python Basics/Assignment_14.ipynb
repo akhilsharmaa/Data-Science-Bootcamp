{
 "cells": [
  {
   "cell_type": "markdown",
   "metadata": {},
   "source": [
    "## Assignment 14 \n",
    "\n",
    "#### 1. What does RGBA stand for?\n",
    "Solution - \n",
    "- R: Red \n",
    "- G: Green \n",
    "- B: Blue \n",
    "- A: alpha\n",
    "\n",
    "#### 2. From the Pillow module, how do you get the RGBA value of any images?\n",
    "Solution - \n",
    "\n",
    "\n",
    "#### 3. What is a box tuple, and how does it work?\n",
    "#### 4. Use your image and load in notebook then, How can you find out the width and height of an Image object?\n",
    "#### 5. What method would you call to get Image object for a 100×100 image, excluding the lower-left quarter of it?\n",
    "#### 6. After making changes to an Image object, how could you save it as an image file?\n",
    "#### 7. What module contains Pillow’s shape-drawing code?\n",
    "#### 8. Image objects do not have drawing methods. What kind of object does? How do you get this kind of object?"
   ]
  },
  {
   "cell_type": "code",
   "execution_count": null,
   "metadata": {},
   "outputs": [],
   "source": []
  }
 ],
 "metadata": {
  "kernelspec": {
   "display_name": "Python 3 (ipykernel)",
   "language": "python",
   "name": "python3"
  },
  "language_info": {
   "codemirror_mode": {
    "name": "ipython",
    "version": 3
   },
   "file_extension": ".py",
   "mimetype": "text/x-python",
   "name": "python",
   "nbconvert_exporter": "python",
   "pygments_lexer": "ipython3",
   "version": "3.9.12"
  },
  "vscode": {
   "interpreter": {
    "hash": "916dbcbb3f70747c44a77c7bcd40155683ae19c65e1c03b4aa3499c5328201f1"
   }
  }
 },
 "nbformat": 4,
 "nbformat_minor": 2
}
