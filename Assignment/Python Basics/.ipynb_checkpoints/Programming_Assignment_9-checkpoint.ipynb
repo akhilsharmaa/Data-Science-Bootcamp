{
 "cells": [
  {
   "cell_type": "markdown",
   "id": "5a39f3d5",
   "metadata": {},
   "source": [
    "# Programming Assignment 9\n",
    "\n",
    "### 1. Write a Python program to check if the given number is a Disarium Number?"
   ]
  },
  {
   "cell_type": "code",
   "execution_count": 1,
   "id": "bde1f7e1",
   "metadata": {},
   "outputs": [
    {
     "name": "stdout",
     "output_type": "stream",
     "text": [
      "Enter num : 175\n",
      "175\n",
      "Yes,  175  is Disarium.\n"
     ]
    }
   ],
   "source": [
    "# solution - \n",
    "\n",
    "n = int(input(\"Enter num : \"));\n",
    "k = n;\n",
    "\n",
    "sum = 0\n",
    "p = len(str(n));\n",
    "\n",
    "while n > 0: \n",
    "    digit = n % 10;\n",
    "    sum += pow(digit, p);\n",
    "    n = int(n / 10);\n",
    "    p -= 1\n",
    "\n",
    "if sum == k: \n",
    "    print(\"Yes, \", k , \" is Disarium.\")    \n",
    "else:\n",
    "    print(\"No, \", k , \" is not Disarium.\")    "
   ]
  },
  {
   "cell_type": "markdown",
   "id": "1ee10256",
   "metadata": {},
   "source": [
    "### 2. Write a Python program to print all disarium numbers between 1 to 100?"
   ]
  },
  {
   "cell_type": "code",
   "execution_count": 6,
   "id": "7a015c0f",
   "metadata": {},
   "outputs": [],
   "source": [
    "def isDisarium(n):\n",
    "    k, sum, p= n, 0, len(str(n));\n",
    "\n",
    "    while n > 0: \n",
    "        digit = n % 10;\n",
    "        sum += pow(digit, p);\n",
    "        n = int(n / 10);\n",
    "        p -= 1\n",
    "\n",
    "    return sum == k"
   ]
  },
  {
   "cell_type": "code",
   "execution_count": 14,
   "id": "7567c2c4",
   "metadata": {},
   "outputs": [
    {
     "name": "stdout",
     "output_type": "stream",
     "text": [
      "1 2 3 4 5 6 7 8 9 89 "
     ]
    }
   ],
   "source": [
    "for i in range(1, 100):\n",
    "    if isDisarium(i): \n",
    "        print(i , end= \" \");\n"
   ]
  },
  {
   "cell_type": "markdown",
   "id": "b6f1b912",
   "metadata": {},
   "source": [
    "### 3. Write a Python program to check if the given number is Happy Number?"
   ]
  },
  {
   "cell_type": "code",
   "execution_count": 2,
   "id": "695f992a",
   "metadata": {},
   "outputs": [
    {
     "name": "stdout",
     "output_type": "stream",
     "text": [
      "True\n",
      "True\n",
      "False\n"
     ]
    }
   ],
   "source": [
    "# Solution -\n",
    "\n",
    "def is_Happy_num(n):\n",
    "  past = set()\n",
    "  while n != 1:\n",
    "        n = sum(int(i)**2 for i in str(n))\n",
    "        if n in past:\n",
    "            return False\n",
    "        past.add(n)\n",
    "  return True\n",
    "\n",
    "print(is_Happy_num(7))\n",
    "print(is_Happy_num(932))\n",
    "print(is_Happy_num(6))"
   ]
  },
  {
   "cell_type": "markdown",
   "id": "79d1af6b",
   "metadata": {},
   "source": [
    "### 4. Write a Python program to print all happy numbers between 1 and 100?"
   ]
  },
  {
   "cell_type": "code",
   "execution_count": 6,
   "id": "142aafd5",
   "metadata": {},
   "outputs": [
    {
     "name": "stdout",
     "output_type": "stream",
     "text": [
      "1 7 10 13 19 23 28 31 32 44 49 68 70 79 82 86 91 94 97 "
     ]
    }
   ],
   "source": [
    "# Solution - \n",
    "\n",
    "def is_Happy_num(n):\n",
    "  past = set()\n",
    "  while n != 1:\n",
    "        n = sum(int(i)**2 for i in str(n))\n",
    "        if n in past:\n",
    "            return False\n",
    "        past.add(n)\n",
    "  return True\n",
    "\n",
    "for i in range(1, 100):\n",
    "    if is_Happy_num(i): \n",
    "        print(i , end= \" \");"
   ]
  },
  {
   "cell_type": "markdown",
   "id": "59560ad1",
   "metadata": {},
   "source": [
    "### 5. Write a Python program to determine whether the given number is a Harshad Number?"
   ]
  },
  {
   "cell_type": "code",
   "execution_count": 13,
   "id": "4b3c1614",
   "metadata": {},
   "outputs": [
    {
     "name": "stdout",
     "output_type": "stream",
     "text": [
      "Enter n : 171\n",
      "Yes \n"
     ]
    }
   ],
   "source": [
    "n = int(input(\"Enter n : \"))\n",
    "sum, k = 0, n\n",
    "\n",
    "while n > 0: \n",
    "    digit = n % 10;\n",
    "    sum += digit\n",
    "    n = int(n / 10);\n",
    "\n",
    "if k % sum == 0 : \n",
    "    print(\"Yes \")\n",
    "else :\n",
    "    print(\"No \")"
   ]
  },
  {
   "cell_type": "markdown",
   "id": "e9887838",
   "metadata": {},
   "source": [
    "### 6. Write a Python program to print all pronic numbers between 1 and 100?"
   ]
  },
  {
   "cell_type": "code",
   "execution_count": 15,
   "id": "058a2f6d",
   "metadata": {},
   "outputs": [
    {
     "name": "stdout",
     "output_type": "stream",
     "text": [
      "Pronic numbers between 1 and 100: \n",
      "2 6 12 20 30 42 56 72 90 "
     ]
    }
   ],
   "source": [
    "def isPronicNumber(num):    \n",
    "    flag = False;    \n",
    "        \n",
    "    for j in range(1, num+1):    \n",
    "        if((j*(j+1)) == num):    \n",
    "            flag = True;    \n",
    "            break;    \n",
    "    return flag;    \n",
    "     \n",
    "    \n",
    "print(\"Pronic numbers between 1 and 100: \");    \n",
    "for i in range(1, 101):    \n",
    "    if(isPronicNumber(i)):    \n",
    "        print(i, end=' '),      "
   ]
  },
  {
   "cell_type": "code",
   "execution_count": null,
   "id": "4c255a5f",
   "metadata": {},
   "outputs": [],
   "source": []
  }
 ],
 "metadata": {
  "kernelspec": {
   "display_name": "Python 3 (ipykernel)",
   "language": "python",
   "name": "python3"
  },
  "language_info": {
   "codemirror_mode": {
    "name": "ipython",
    "version": 3
   },
   "file_extension": ".py",
   "mimetype": "text/x-python",
   "name": "python",
   "nbconvert_exporter": "python",
   "pygments_lexer": "ipython3",
   "version": "3.9.7"
  }
 },
 "nbformat": 4,
 "nbformat_minor": 5
}
