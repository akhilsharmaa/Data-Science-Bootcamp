{
 "cells": [
  {
   "cell_type": "markdown",
   "id": "01286084",
   "metadata": {},
   "source": [
    "### 1. Write a Python program to print \"Hello Python\"?\n",
    "\n",
    "Solution - "
   ]
  },
  {
   "cell_type": "code",
   "execution_count": 1,
   "id": "aef43d20",
   "metadata": {},
   "outputs": [
    {
     "name": "stdout",
     "output_type": "stream",
     "text": [
      "Hello Python\n"
     ]
    }
   ],
   "source": [
    "print(\"Hello Python\")"
   ]
  },
  {
   "cell_type": "markdown",
   "id": "581add94",
   "metadata": {},
   "source": [
    "### 2. Write a Python program to do arithmetical operations addition and division.?\n",
    " Solution - \n",
    "\n",
    "   "
   ]
  },
  {
   "cell_type": "code",
   "execution_count": 1,
   "id": "1612cb72",
   "metadata": {},
   "outputs": [
    {
     "name": "stdout",
     "output_type": "stream",
     "text": [
      "Enter value of a 34\n",
      "Enter value of b 12\n",
      "a + b =>  46\n",
      "a / b =>  2.8333333333333335\n"
     ]
    }
   ],
   "source": [
    "a = input(\"Enter value of a\"); \n",
    "b = input(\"Enter value of b\");\n",
    "\n",
    "k = int(a) + int(b);\n",
    "l = int(a) / int(b);\n",
    "\n",
    "print(\"a + b => \", k)\n",
    "print(\"a / b => \", l)"
   ]
  },
  {
   "cell_type": "markdown",
   "id": "5589c0ae",
   "metadata": {},
   "source": [
    "### 3. Write a Python program to find the area of a triangle?\n",
    "\n",
    "Solution - "
   ]
  },
  {
   "cell_type": "code",
   "execution_count": 2,
   "id": "37c0842a",
   "metadata": {},
   "outputs": [
    {
     "name": "stdout",
     "output_type": "stream",
     "text": [
      "Enter height of Triangle : 10\n",
      "Enter Base of Triangle : 20\n",
      "Area the triangle is  100.0\n"
     ]
    }
   ],
   "source": [
    "    l = input(\"Enter height of Triangle : \")\n",
    "    h = input(\"Enter Base of Triangle : \")\n",
    "\n",
    "    ans = 1/2*int(l)*int(h);\n",
    "    print(\"Area the triangle is \", ans)"
   ]
  },
  {
   "cell_type": "markdown",
   "id": "90e2560d",
   "metadata": {},
   "source": [
    "### 4. Write a Python program to swap two variables?\n",
    "\n",
    "Solution - "
   ]
  },
  {
   "cell_type": "code",
   "execution_count": null,
   "id": "c6de6031",
   "metadata": {},
   "outputs": [],
   "source": [
    "    a = input(\"Enter value of a: \")\n",
    "    a = input(\"Enter value of b: \")\n",
    "\n",
    "    temp = a;\n",
    "    a = b;\n",
    "    b = temp\n",
    "\n",
    "    print(\"a = \", a)\n",
    "    print(\"b = \", b)"
   ]
  },
  {
   "cell_type": "markdown",
   "id": "ef4f40f0",
   "metadata": {},
   "source": [
    "### 5. Write a Python program to generate a random number?\n",
    "\n",
    "Solution - \n",
    "    \n",
    "    import random\n",
    "    print(random.randint(0, 100))\n",
    "    \n",
    "    "
   ]
  }
 ],
 "metadata": {
  "kernelspec": {
   "display_name": "Python 3 (ipykernel)",
   "language": "python",
   "name": "python3"
  },
  "language_info": {
   "codemirror_mode": {
    "name": "ipython",
    "version": 3
   },
   "file_extension": ".py",
   "mimetype": "text/x-python",
   "name": "python",
   "nbconvert_exporter": "python",
   "pygments_lexer": "ipython3",
   "version": "3.9.7"
  }
 },
 "nbformat": 4,
 "nbformat_minor": 5
}
