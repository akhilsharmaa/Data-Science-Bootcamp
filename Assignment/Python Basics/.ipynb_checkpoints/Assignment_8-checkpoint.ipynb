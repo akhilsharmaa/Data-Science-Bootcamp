{
 "cells": [
  {
   "cell_type": "markdown",
   "id": "75da5fb8",
   "metadata": {},
   "source": [
    "# Assignment 8 \n",
    "\n",
    "### 1. Is the Python Standard Library included with PyInputPlus?\n",
    "Solution -  **NO**\n",
    "\n",
    "\n",
    "### 2. Why is PyInputPlus commonly imported with import pyinputplus as pypi?\n",
    "Solution - \n",
    "\n",
    "Its **our choice** we can also import by :- \n",
    "\n",
    "```import pyinputplus as p```\n"
   ]
  },
  {
   "cell_type": "markdown",
   "id": "29e8f70c",
   "metadata": {},
   "source": [
    "### 3. How do you distinguish between inputInt() and inputFloat()?\n",
    "Solution - \n",
    "\n",
    "**inputInt()** -> It will get the data from user in the form of Float.\n",
    "\n",
    "**inputFloat()** -> It will get the data from user in the form of Float.\n",
    "\n",
    "### 4. Using PyInputPlus, how do you ensure that the user enters a whole number between 0 and 99?\n",
    "Solution - \n",
    "\n",
    "    import pyinputplus as pyip\n",
    "    result = pyip.inputNum(greaterThan=4, lessThan=6)\n",
    "\n",
    "### 5. What is transferred to the keyword arguments allowRegexes and blockRegexes?\n",
    "Solution - \n",
    "\n",
    "The allowRegexes and blockRegexes keyword arguments take a list of regular expression strings to determine\n",
    " what the PyInputPlus function will accept or reject as valid input.\n",
    "\n",
    "### 6. If a blank input is entered three times, what does inputStr(limit=3) do?\n",
    "\n",
    "SOLUTION - \n",
    "\n",
    "    import pyinputplus as pyip\n",
    "\n",
    "    inp = pyip.inputStr(limit=3,)\n",
    "    print(inp)\n",
    "\n",
    "Exception will be through **RetryLimitException:** \n",
    "\n",
    "### 7. If blank input is entered three times, what does inputStr(limit=3, default=&#39;hello&#39;) do?\n",
    "Solution - \n",
    "    \n",
    "*Default value of inp will be set as **\"Hello\"** .*"
   ]
  },
  {
   "cell_type": "code",
   "execution_count": 3,
   "id": "60a91cd4",
   "metadata": {},
   "outputs": [
    {
     "name": "stdout",
     "output_type": "stream",
     "text": [
      "\n",
      "Blank values are not allowed.\n",
      "\n",
      "Blank values are not allowed.\n",
      "\n",
      "Blank values are not allowed.\n",
      "Hello\n"
     ]
    }
   ],
   "source": [
    "    import pyinputplus as pyip\n",
    "\n",
    "    inp = pyip.inputStr(limit=3,default=\"Hello\")\n",
    "    print(inp)"
   ]
  }
 ],
 "metadata": {
  "kernelspec": {
   "display_name": "Python 3 (ipykernel)",
   "language": "python",
   "name": "python3"
  },
  "language_info": {
   "codemirror_mode": {
    "name": "ipython",
    "version": 3
   },
   "file_extension": ".py",
   "mimetype": "text/x-python",
   "name": "python",
   "nbconvert_exporter": "python",
   "pygments_lexer": "ipython3",
   "version": "3.9.7"
  },
  "vscode": {
   "interpreter": {
    "hash": "b0fa6594d8f4cbf19f97940f81e996739fb7646882a419484c72d19e05852a7e"
   }
  }
 },
 "nbformat": 4,
 "nbformat_minor": 5
}
