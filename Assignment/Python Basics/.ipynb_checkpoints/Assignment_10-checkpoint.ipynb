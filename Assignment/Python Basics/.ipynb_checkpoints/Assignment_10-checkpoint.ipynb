{
 "cells": [
  {
   "cell_type": "markdown",
   "id": "6bc57c0f",
   "metadata": {},
   "source": [
    "# Assignment 10\n",
    "\n",
    "### 1. How do you distinguish between shutil.copy() and shutil.copytree()?\n",
    "Solution - \n",
    "- ```shutil.copytree()``` method recursively copies an entire directory tree rooted at source (src) to the destination directory. \n",
    "\n",
    "- ```shutil.copy()``` method in Python is used to copy the content of source file to destination file or directory. \n",
    "\n",
    "### 2. What function is used to rename files??\n",
    "Solution - \n",
    "```rename()```\n",
    "\n",
    "### 3. What is the difference between the delete functions in the send2trash and shutil modules?\n",
    "Solution - \n",
    "\n",
    "The send2trash functions will move a file or folder to the recycle bin, while shutil functions will permanently delete files and folders.\n",
    "\n",
    "### 4. ZipFile objects have a close() method just like File objects’ close() method.  What ZipFile method is equivalent to File objects’ open() method?\n",
    "Solution - \n",
    "```extract()```\n",
    "\n",
    "### 5. Create a programme that searches a folder tree for files with a certain file extension (such as .pdf or .jpg). Copy these files from whatever location they are in to a new folder.\n",
    "\n",
    "Solution - \n"
   ]
  },
  {
   "cell_type": "code",
   "execution_count": 20,
   "id": "19033038",
   "metadata": {},
   "outputs": [
    {
     "name": "stdout",
     "output_type": "stream",
     "text": [
      "E\n"
     ]
    }
   ],
   "source": [
    "import os\n",
    "\n",
    "# print(os.getcwd())\n",
    "\n",
    "k = []\n",
    "\n",
    "newPath = \"/Users/akhilsharma/GeekSpace/iNeuron-FSDS/Assignment/Python Basics/Test/\";\n",
    "\n",
    "try : \n",
    "    for i in os.listdir():\n",
    "        if i.endswith(\".ipynb\") : \n",
    "            k.append(i)\n",
    "    else: \n",
    "        os.makedirs(newPath)\n",
    "        os.chdir(newPath)\n",
    "        try: \n",
    "            for i in k: \n",
    "                f = open( newPath + i, \"w\")\n",
    "        except: \n",
    "            print(\"E\")\n",
    "except: \n",
    "    print(\"E\")"
   ]
  },
  {
   "cell_type": "code",
   "execution_count": null,
   "id": "ec3a0dc7",
   "metadata": {},
   "outputs": [],
   "source": []
  }
 ],
 "metadata": {
  "kernelspec": {
   "display_name": "Python 3 (ipykernel)",
   "language": "python",
   "name": "python3"
  },
  "language_info": {
   "codemirror_mode": {
    "name": "ipython",
    "version": 3
   },
   "file_extension": ".py",
   "mimetype": "text/x-python",
   "name": "python",
   "nbconvert_exporter": "python",
   "pygments_lexer": "ipython3",
   "version": "3.9.7"
  }
 },
 "nbformat": 4,
 "nbformat_minor": 5
}
