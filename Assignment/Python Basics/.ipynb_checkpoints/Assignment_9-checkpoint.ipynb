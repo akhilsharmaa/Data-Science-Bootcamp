{
 "cells": [
  {
   "cell_type": "markdown",
   "id": "1a429710",
   "metadata": {},
   "source": [
    "# Assignment 9\n",
    "### 1. To what does a relative path refer?\n",
    "Solution - A relative path refers to a location that is relative to a current directory.\n",
    "\n",
    "### 2. What does an absolute path start with your operating system?\n",
    "Solution - **/**\n",
    "\n",
    "### 3. What do the functions os.getcwd() and os.chdir() do?\n",
    "Solution - \n",
    "- ```os.getcwd()``` - Gives The Relative Path\n",
    "\n",
    "- ```os.chdir()``` - used to change the current working directory to specified path.\n",
    "\n",
    "### 4. What are the . and .. folders?\n",
    "Solution - \n",
    "- ```.``` is the current directory\n",
    "\n",
    "-  ```..``` signifies the parent directory\n",
    "\n",
    "### 5. In C:\\bacon\\eggs\\spam.txt, which part is the dir name, and which part is the base name?\n",
    "Solution - \n",
    "- Basename - **eggs**\n",
    "- Dirname - **C:\\bacon**\n",
    "\n",
    "### 6. What are the three “mode” arguments that can be passed to the open() function?\n",
    "Solution - \n",
    "\n",
    "    r - Read\n",
    "    w - Write\n",
    "    a - Append\n",
    "    \n",
    "### 7. What happens if an existing file is opened in write mode?\n",
    "Solution - \n",
    "\n",
    "We can add new data to the file.\n",
    "\n",
    "### 8. How do you tell the difference between read() and readlines()?\n",
    "Solution - \n",
    "- Read - read only single character.\n",
    "- ReadLine - read a line or string from the standard output device. \n",
    "\n",
    "### 9. What data structure does a shelf value resemble?\n",
    "Resembles a dictionary"
   ]
  }
 ],
 "metadata": {
  "kernelspec": {
   "display_name": "Python 3 (ipykernel)",
   "language": "python",
   "name": "python3"
  },
  "language_info": {
   "codemirror_mode": {
    "name": "ipython",
    "version": 3
   },
   "file_extension": ".py",
   "mimetype": "text/x-python",
   "name": "python",
   "nbconvert_exporter": "python",
   "pygments_lexer": "ipython3",
   "version": "3.9.7"
  }
 },
 "nbformat": 4,
 "nbformat_minor": 5
}
