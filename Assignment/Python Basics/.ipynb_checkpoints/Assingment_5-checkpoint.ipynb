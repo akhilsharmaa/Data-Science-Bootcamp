{
 "cells": [
  {
   "cell_type": "markdown",
   "id": "74054aba",
   "metadata": {},
   "source": [
    "# Assingment 5"
   ]
  },
  {
   "cell_type": "markdown",
   "id": "acaf063e",
   "metadata": {},
   "source": [
    "### 1. What does an empty dictionary&#39;s code look like?\n",
    "\n",
    "Solution : **{ }**\n",
    "\n",
    "### 2. What is the value of a dictionary value with the key &#39;foo&#39; and the value 42?"
   ]
  },
  {
   "cell_type": "markdown",
   "id": "244d767b",
   "metadata": {},
   "source": [
    "Solution - **{'foo': 42}**\n",
    "\n",
    "### 3. What is the most significant distinction between a dictionary and a list?\n",
    "Solution - \n",
    "- **List** - Store different values in form of independent datatype.\n",
    "- **Dictionary** - Store different values in the form of **Key & Value.**\n",
    "\n",
    "### 4. What happens if you try to access spam[&#39;foo&#39;] if spam is {&#39;bar&#39;: 100}?"
   ]
  },
  {
   "cell_type": "markdown",
   "id": "3c139e7b",
   "metadata": {},
   "source": [
    "Solution - It will through a Error .\n",
    "\n",
    "**Runtime Error - ```NameError: name 'foo' is not defined```**\n",
    "\n",
    "### 5. If a dictionary is stored in spam, what is the difference between the expressions &#39;cat&#39; in spam and &#39;cat&#39; in spam.keys()?"
   ]
  },
  {
   "cell_type": "markdown",
   "id": "f9dbd32b",
   "metadata": {},
   "source": [
    "Solution - \n",
    "\n",
    "- ```spam.keys()``` Here 'cat' is a **key** \n",
    "\n",
    "- ```spam['cat'] ``` Will return value at key 'cat'"
   ]
  },
  {
   "cell_type": "markdown",
   "id": "724f25e4",
   "metadata": {},
   "source": [
    "### 6. If a dictionary is stored in spam, what is the difference between the expressions &#39;cat&#39; in spam and &#39;cat&#39; in spam.values()?\n",
    "\n",
    "Solution - \n",
    "\n",
    "- ```spam.values()``` Here 'cat' is a **value.** \n",
    "\n",
    "- ```spam['cat'] ``` Will return value at key 'cat'"
   ]
  },
  {
   "cell_type": "markdown",
   "id": "e747fb0f",
   "metadata": {},
   "source": [
    "### 7. What is a shortcut for the following code?\n",
    "    if 'color' not in spam:\n",
    "        spam['color'] = 'black'\n",
    "Solution: \n",
    "\n",
    "```spam[\"color\"] = \"black\"```\n",
    "\n",
    "### 8. How do you \"pretty print\" dictionary values using which module and function?"
   ]
  },
  {
   "cell_type": "markdown",
   "id": "1138dc2d",
   "metadata": {},
   "source": [
    "Solution -  \n"
   ]
  },
  {
   "cell_type": "markdown",
   "id": "f853e649",
   "metadata": {},
   "source": [
    "```pprint()``` to Pretty Print a Dictionary in Python\n",
    "    \n",
    "    import pprint\n",
    "    pprint()"
   ]
  }
 ],
 "metadata": {
  "kernelspec": {
   "display_name": "Python 3 (ipykernel)",
   "language": "python",
   "name": "python3"
  },
  "language_info": {
   "codemirror_mode": {
    "name": "ipython",
    "version": 3
   },
   "file_extension": ".py",
   "mimetype": "text/x-python",
   "name": "python",
   "nbconvert_exporter": "python",
   "pygments_lexer": "ipython3",
   "version": "3.9.7"
  }
 },
 "nbformat": 4,
 "nbformat_minor": 5
}
