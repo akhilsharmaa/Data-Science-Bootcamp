{
 "cells": [
  {
   "cell_type": "markdown",
   "id": "09d8c4d2",
   "metadata": {},
   "source": [
    "# Assignment 12\n",
    "#### 1. In what modes should the PdfFileReader() and PdfFileWriter() File objects will be opened?"
   ]
  },
  {
   "cell_type": "markdown",
   "id": "cf622b79",
   "metadata": {},
   "source": [
    "- PdfFileReader **rb** : Read Mode \n",
    "\n",
    "#### 2. From a PdfFileReader object, how do you get a Page object for page 5?"
   ]
  },
  {
   "cell_type": "markdown",
   "id": "b8bf9fdc",
   "metadata": {},
   "source": [
    "Solution:  \n",
    "\n",
    " object.getPage(1) \n",
    " \n",
    "#### 3. What PdfFileReader variable stores the number of pages in the PDF document?\n",
    "\n",
    "solution - pageNum\n",
    "\n",
    "#### 4. If a PdfFileReader object’s PDF is encrypted with the password swordfish, what must you do before you can obtain Page objects from it?\n",
    "\n",
    "Solution - \n"
   ]
  },
  {
   "cell_type": "code",
   "execution_count": 19,
   "id": "2508cebf",
   "metadata": {},
   "outputs": [],
   "source": [
    "# import PyPDF2 \n",
    "\n",
    "# file = open(\"/home/akhilesh/Documents/Akhilesh Internship certificate.pdf\", \"rb\")\n",
    "# reader = PyPDF2.PdfFileReader(file)"
   ]
  },
  {
   "cell_type": "code",
   "execution_count": 20,
   "id": "07aac417",
   "metadata": {},
   "outputs": [],
   "source": [
    "# pdfData = reader.getPage(0).extract_text()\n",
    "# pdfData"
   ]
  },
  {
   "cell_type": "code",
   "execution_count": null,
   "id": "dded9ca9",
   "metadata": {},
   "outputs": [],
   "source": []
  }
 ],
 "metadata": {
  "kernelspec": {
   "display_name": "Python 3 (ipykernel)",
   "language": "python",
   "name": "python3"
  },
  "language_info": {
   "codemirror_mode": {
    "name": "ipython",
    "version": 3
   },
   "file_extension": ".py",
   "mimetype": "text/x-python",
   "name": "python",
   "nbconvert_exporter": "python",
   "pygments_lexer": "ipython3",
   "version": "3.9.12"
  }
 },
 "nbformat": 4,
 "nbformat_minor": 5
}
