{
 "cells": [
  {
   "cell_type": "markdown",
   "id": "10891394",
   "metadata": {},
   "source": [
    "# Programming Assignment 4"
   ]
  },
  {
   "cell_type": "markdown",
   "id": "edd027e7",
   "metadata": {},
   "source": [
    "### 1. Write a Python Program to Find the Factorial of a Number?\n",
    "\n",
    "Solution -"
   ]
  },
  {
   "cell_type": "code",
   "execution_count": 8,
   "id": "022d8637",
   "metadata": {},
   "outputs": [
    {
     "name": "stdout",
     "output_type": "stream",
     "text": [
      "120\n"
     ]
    }
   ],
   "source": [
    "def fact(n): \n",
    "    if n == 1 :\n",
    "        return 1;\n",
    "    return n * fact(n-1);\n",
    "\n",
    "print(fact(5))"
   ]
  },
  {
   "cell_type": "markdown",
   "id": "1b5f6de3",
   "metadata": {},
   "source": [
    "### 2. Write a Python Program to Display the multiplication Table?"
   ]
  },
  {
   "cell_type": "code",
   "execution_count": 14,
   "id": "a229830e",
   "metadata": {},
   "outputs": [
    {
     "name": "stdout",
     "output_type": "stream",
     "text": [
      "19  x  1  =  19\n",
      "19  x  2  =  38\n",
      "19  x  3  =  57\n",
      "19  x  4  =  76\n",
      "19  x  5  =  95\n",
      "19  x  6  =  114\n",
      "19  x  7  =  133\n",
      "19  x  8  =  152\n",
      "19  x  9  =  171\n"
     ]
    }
   ],
   "source": [
    "def table(n):\n",
    "    for i in range(1, 10):\n",
    "        print(n , \" x \", i , \" = \" , n*i);\n",
    "\n",
    "table(19)"
   ]
  },
  {
   "cell_type": "markdown",
   "id": "b086f406",
   "metadata": {},
   "source": [
    "### 3. Write a Python Program to Print the Fibonacci sequence?"
   ]
  },
  {
   "cell_type": "code",
   "execution_count": 27,
   "id": "c50d8367",
   "metadata": {},
   "outputs": [
    {
     "name": "stdout",
     "output_type": "stream",
     "text": [
      "2 3 5 8 13 21 34 55 89 144 233 377 "
     ]
    }
   ],
   "source": [
    "def fibonacci(n): \n",
    "\n",
    "    a, b = 1, 1\n",
    "    for i in range(n):\n",
    "        a, b = b, a+b;\n",
    "        print(b , end=\" \")\n",
    "\n",
    "fibonacci(12)"
   ]
  },
  {
   "cell_type": "markdown",
   "id": "102c6891",
   "metadata": {},
   "source": [
    "### 4. Write a Python Program to Check Armstrong Number?\n",
    "Solution - "
   ]
  },
  {
   "cell_type": "code",
   "execution_count": 55,
   "id": "e8ef6fe4",
   "metadata": {},
   "outputs": [
    {
     "data": {
      "text/plain": [
       "True"
      ]
     },
     "execution_count": 55,
     "metadata": {},
     "output_type": "execute_result"
    }
   ],
   "source": [
    "def isArmstrong(n):\n",
    "    temp, sum = str(n), 0\n",
    "\n",
    "    for i in temp:\n",
    "        sum += int(i) * int(i) * int(i)\n",
    "\n",
    "    return sum == n;\n",
    "\n",
    "isArmstrong(371)"
   ]
  },
  {
   "cell_type": "markdown",
   "id": "be83a05c",
   "metadata": {},
   "source": [
    "### 5. Write a Python Program to Find Armstrong Number in an Interval?"
   ]
  },
  {
   "cell_type": "code",
   "execution_count": 75,
   "id": "648741bd",
   "metadata": {},
   "outputs": [
    {
     "name": "stdout",
     "output_type": "stream",
     "text": [
      "153 370 371 407 "
     ]
    }
   ],
   "source": [
    "def isArmstrong(n):\n",
    "    temp, sum = str(n), 0;\n",
    "    for i in temp:\n",
    "        sum += int(i) * int(i) * int(i)\n",
    "    return sum == n;\n",
    "\n",
    "k = int(input(\"Enter a : \"))\n",
    "l = int(input(\"Enter b : \"))\n",
    "\n",
    "for i in range(k, l):\n",
    "    if isArmstrong(i) == True: \n",
    "        print(i , end=\" \" )\n",
    "        "
   ]
  },
  {
   "cell_type": "markdown",
   "id": "6e8b7181",
   "metadata": {},
   "source": [
    "### 6. Write a Python Program to Find the Sum of Natural Numbers?"
   ]
  },
  {
   "cell_type": "code",
   "execution_count": 76,
   "id": "3e469857",
   "metadata": {},
   "outputs": [
    {
     "name": "stdout",
     "output_type": "stream",
     "text": [
      "36\n"
     ]
    }
   ],
   "source": [
    "n = int(input(\"Enter n : \"))\n",
    "sum = 0\n",
    "\n",
    "for i in range(1, n):\n",
    "    sum += i\n",
    "\n",
    "print(sum)"
   ]
  },
  {
   "cell_type": "code",
   "execution_count": null,
   "id": "bc2cec43",
   "metadata": {},
   "outputs": [],
   "source": []
  }
 ],
 "metadata": {
  "kernelspec": {
   "display_name": "Python 3 (ipykernel)",
   "language": "python",
   "name": "python3"
  },
  "language_info": {
   "codemirror_mode": {
    "name": "ipython",
    "version": 3
   },
   "file_extension": ".py",
   "mimetype": "text/x-python",
   "name": "python",
   "nbconvert_exporter": "python",
   "pygments_lexer": "ipython3",
   "version": "3.9.7"
  },
  "vscode": {
   "interpreter": {
    "hash": "b0fa6594d8f4cbf19f97940f81e996739fb7646882a419484c72d19e05852a7e"
   }
  }
 },
 "nbformat": 4,
 "nbformat_minor": 5
}
