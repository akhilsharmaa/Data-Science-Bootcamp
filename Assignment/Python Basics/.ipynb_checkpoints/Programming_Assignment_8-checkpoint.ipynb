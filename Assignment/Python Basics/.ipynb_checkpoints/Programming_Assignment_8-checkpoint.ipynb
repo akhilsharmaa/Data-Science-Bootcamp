{
 "cells": [
  {
   "cell_type": "markdown",
   "id": "8dedd41c",
   "metadata": {},
   "source": [
    "# Programming Assignment 8\n",
    "\n",
    "### 1. Write a Python Program to Add Two Matrices?"
   ]
  },
  {
   "cell_type": "code",
   "execution_count": 36,
   "id": "b8cd6091",
   "metadata": {},
   "outputs": [
    {
     "name": "stdout",
     "output_type": "stream",
     "text": [
      "2 4 6 \n",
      "\n",
      "2 4 6 \n",
      "\n",
      "2 4 6 \n",
      "\n"
     ]
    }
   ],
   "source": [
    "a = [\n",
    "    [1, 2, 3],\n",
    "    [1, 2, 3],\n",
    "    [1, 2, 3] \n",
    "]\n",
    "\n",
    "b = [\n",
    "    [1, 2, 3],\n",
    "    [1, 2, 3],\n",
    "    [1, 2, 3]\n",
    "]\n",
    "\n",
    "c = []\n",
    "\n",
    "for i in range(0,3):\n",
    "    t= []\n",
    "    for j in range(0,3): \n",
    "        t.append(a[i][j]+ b[i][j]);\n",
    "    c.append(t)\n",
    "  \n",
    "for i in c: \n",
    "    for j in i: \n",
    "        print(j , end=' ')\n",
    "    print(\"\\n\");"
   ]
  },
  {
   "cell_type": "markdown",
   "id": "cb4b0db0",
   "metadata": {},
   "source": [
    "### 2. Write a Python Program to Multiply Two Matrices?"
   ]
  },
  {
   "cell_type": "code",
   "execution_count": 42,
   "id": "e3db127d",
   "metadata": {},
   "outputs": [
    {
     "name": "stdout",
     "output_type": "stream",
     "text": [
      "32 12 10 \n",
      "\n",
      "16 25 36 \n",
      "\n",
      "49 64 81 \n",
      "\n"
     ]
    }
   ],
   "source": [
    "a = [\n",
    "    [8, 2, 2],\n",
    "    [4, 5, 6],\n",
    "    [7, 8, 9] \n",
    "]\n",
    "\n",
    "b = [\n",
    "    [4, 6, 5],\n",
    "    [4, 5, 6],\n",
    "    [7, 8, 9] \n",
    "]\n",
    "\n",
    "c = []\n",
    "\n",
    "for i in range(0,3):\n",
    "    t= []\n",
    "    for j in range(0,3): \n",
    "        t.append(a[i][j]*  b[i][j]);\n",
    "    c.append(t)\n",
    "  \n",
    "for i in c: \n",
    "    for j in i: \n",
    "        print(j , end=' ')\n",
    "    print(\"\\n\");"
   ]
  },
  {
   "cell_type": "markdown",
   "id": "ede3f5d0",
   "metadata": {},
   "source": [
    "### 3. Write a Python Program to Transpose a Matrix?"
   ]
  },
  {
   "cell_type": "code",
   "execution_count": 45,
   "id": "733e4731",
   "metadata": {},
   "outputs": [
    {
     "name": "stdout",
     "output_type": "stream",
     "text": [
      "1 4 7 \n",
      "\n",
      "2 5 8 \n",
      "\n",
      "3 6 9 \n",
      "\n"
     ]
    }
   ],
   "source": [
    "a = [\n",
    "    [1, 2, 3],\n",
    "    [4, 5, 6],\n",
    "    [7, 8, 9] \n",
    "]\n",
    "\n",
    "c = []\n",
    "\n",
    "for i in range(0,3):\n",
    "    t= []\n",
    "    for j in range(0,3): \n",
    "        t.append(a[j][i]);\n",
    "    c.append(t)\n",
    "  \n",
    "for i in c: \n",
    "    for j in i: \n",
    "        print(j , end=' ')\n",
    "    print(\"\\n\");"
   ]
  },
  {
   "cell_type": "markdown",
   "id": "32db9d95",
   "metadata": {},
   "source": [
    "### 4. Write a Python Program to Sort Words in Alphabetic Order?"
   ]
  },
  {
   "cell_type": "code",
   "execution_count": 52,
   "id": "4ca5e4c9",
   "metadata": {},
   "outputs": [
    {
     "name": "stdout",
     "output_type": "stream",
     "text": [
      "Enter the word : This is Sorting Algo in Python\n",
      "algo in is python sorting this "
     ]
    }
   ],
   "source": [
    "str = input(\"Enter the word : \");\n",
    "\n",
    "# breakdown the string into a list of words\n",
    "words = [word.lower() for word in str.split()]\n",
    "\n",
    "words.sort()\n",
    "\n",
    "for i in words : \n",
    "    print(i , end=\" \")"
   ]
  },
  {
   "cell_type": "markdown",
   "id": "8dbdc2c0",
   "metadata": {},
   "source": [
    "### 5. Write a Python Program to Remove Punctuation From a String?"
   ]
  },
  {
   "cell_type": "code",
   "execution_count": 4,
   "id": "a703f4c3",
   "metadata": {},
   "outputs": [
    {
     "name": "stdout",
     "output_type": "stream",
     "text": [
      "Enter the word : This, is, {Sorting} (Algo) in Python.\n",
      "This is Sorting Algo in Python\n"
     ]
    }
   ],
   "source": [
    "import re\n",
    "str = input(\"Enter the word : \");\n",
    "\n",
    "str = re.sub('[.(){},]', '', str)\n",
    "\n",
    "print(str)"
   ]
  }
 ],
 "metadata": {
  "kernelspec": {
   "display_name": "Python 3 (ipykernel)",
   "language": "python",
   "name": "python3"
  },
  "language_info": {
   "codemirror_mode": {
    "name": "ipython",
    "version": 3
   },
   "file_extension": ".py",
   "mimetype": "text/x-python",
   "name": "python",
   "nbconvert_exporter": "python",
   "pygments_lexer": "ipython3",
   "version": "3.9.7"
  }
 },
 "nbformat": 4,
 "nbformat_minor": 5
}
