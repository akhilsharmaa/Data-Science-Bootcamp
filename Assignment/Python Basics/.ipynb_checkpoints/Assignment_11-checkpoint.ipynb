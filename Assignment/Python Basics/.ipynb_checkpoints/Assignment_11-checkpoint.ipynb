{
 "cells": [
  {
   "cell_type": "markdown",
   "id": "6bc57c0f",
   "metadata": {},
   "source": [
    "# Assignment 11\n",
    "\n",
    "#### 1. Create an assert statement that throws an AssertionError if the variable spam is a negativ integer.\n",
    "Solution - "
   ]
  },
  {
   "cell_type": "code",
   "execution_count": 1,
   "id": "19033038",
   "metadata": {},
   "outputs": [
    {
     "name": "stdout",
     "output_type": "stream",
     "text": [
      "Enter the number-12\n"
     ]
    },
    {
     "ename": "AssertionError",
     "evalue": "Number Should be positive",
     "output_type": "error",
     "traceback": [
      "\u001b[0;31m---------------------------------------------------------------------------\u001b[0m",
      "\u001b[0;31mAssertionError\u001b[0m                            Traceback (most recent call last)",
      "\u001b[0;32m/var/folders/72/_q59jbdn7sj2yp5__ym344bc0000gn/T/ipykernel_65061/2882348005.py\u001b[0m in \u001b[0;36m<module>\u001b[0;34m\u001b[0m\n\u001b[1;32m      2\u001b[0m \u001b[0;34m\u001b[0m\u001b[0m\n\u001b[1;32m      3\u001b[0m \u001b[0;31m#if condition returns False, AssertionError is raised:\u001b[0m\u001b[0;34m\u001b[0m\u001b[0;34m\u001b[0m\u001b[0m\n\u001b[0;32m----> 4\u001b[0;31m \u001b[0;32massert\u001b[0m \u001b[0mx\u001b[0m \u001b[0;34m>=\u001b[0m \u001b[0;36m0\u001b[0m\u001b[0;34m,\u001b[0m \u001b[0;34m\"Number Should be positive\"\u001b[0m\u001b[0;34m\u001b[0m\u001b[0;34m\u001b[0m\u001b[0m\n\u001b[0m",
      "\u001b[0;31mAssertionError\u001b[0m: Number Should be positive"
     ]
    }
   ],
   "source": [
    "x = int(input(\"Enter the number\"))\n",
    "\n",
    "#if condition returns False, AssertionError is raised:\n",
    "assert x >= 0, \"Number Should be positive\""
   ]
  },
  {
   "cell_type": "markdown",
   "id": "6f316603",
   "metadata": {},
   "source": [
    "#### 2. Write an assert statement that triggers an AssertionError if the variables eggs and bacon contain strings that are the same as each other, even if their cases are different (that is, &#39;hello&#39; and &#39;hello&#39; are considered the same, and &#39;goodbye&#39; and &#39;GOODbye&#39; are also considered the same)."
   ]
  },
  {
   "cell_type": "code",
   "execution_count": 6,
   "id": "ec3a0dc7",
   "metadata": {},
   "outputs": [
    {
     "name": "stdout",
     "output_type": "stream",
     "text": [
      "Enter egg :Akhil\n",
      "Enter bacon :akhil\n"
     ]
    },
    {
     "ename": "AssertionError",
     "evalue": "ege and bacon should not same!!",
     "output_type": "error",
     "traceback": [
      "\u001b[0;31m---------------------------------------------------------------------------\u001b[0m",
      "\u001b[0;31mAssertionError\u001b[0m                            Traceback (most recent call last)",
      "\u001b[0;32m/var/folders/72/_q59jbdn7sj2yp5__ym344bc0000gn/T/ipykernel_65266/1570929300.py\u001b[0m in \u001b[0;36m<module>\u001b[0;34m\u001b[0m\n\u001b[1;32m      5\u001b[0m \u001b[0;34m\u001b[0m\u001b[0m\n\u001b[1;32m      6\u001b[0m \u001b[0;34m\u001b[0m\u001b[0m\n\u001b[0;32m----> 7\u001b[0;31m \u001b[0;32massert\u001b[0m \u001b[0megg\u001b[0m\u001b[0;34m.\u001b[0m\u001b[0mlower\u001b[0m\u001b[0;34m(\u001b[0m\u001b[0;34m)\u001b[0m \u001b[0;34m!=\u001b[0m  \u001b[0mbacon\u001b[0m\u001b[0;34m.\u001b[0m\u001b[0mlower\u001b[0m\u001b[0;34m(\u001b[0m\u001b[0;34m)\u001b[0m \u001b[0;34m,\u001b[0m \u001b[0;34m\"ege and bacon should not same!!\"\u001b[0m\u001b[0;34m\u001b[0m\u001b[0;34m\u001b[0m\u001b[0m\n\u001b[0m",
      "\u001b[0;31mAssertionError\u001b[0m: ege and bacon should not same!!"
     ]
    }
   ],
   "source": [
    "# Solution - \n",
    "egg = input(\"Enter egg :\")\n",
    "bacon = input(\"Enter bacon :\")\n",
    "\n",
    "\n",
    "\n",
    "assert egg.lower() !=  bacon.lower() , \"ege and bacon should not same!!\"\n"
   ]
  },
  {
   "cell_type": "markdown",
   "id": "559f5ac7",
   "metadata": {},
   "source": [
    "#### 3. Create an assert statement that throws an AssertionError every time."
   ]
  },
  {
   "cell_type": "code",
   "execution_count": 11,
   "id": "6b747def",
   "metadata": {},
   "outputs": [
    {
     "name": "stdout",
     "output_type": "stream",
     "text": [
      "Enter anything Askh\n"
     ]
    },
    {
     "ename": "AssertionError",
     "evalue": "Anytime This will show error",
     "output_type": "error",
     "traceback": [
      "\u001b[0;31m---------------------------------------------------------------------------\u001b[0m",
      "\u001b[0;31mAssertionError\u001b[0m                            Traceback (most recent call last)",
      "\u001b[0;32m/var/folders/72/_q59jbdn7sj2yp5__ym344bc0000gn/T/ipykernel_65266/476949448.py\u001b[0m in \u001b[0;36m<module>\u001b[0;34m\u001b[0m\n\u001b[1;32m      3\u001b[0m \u001b[0mbacon\u001b[0m \u001b[0;34m=\u001b[0m \u001b[0minput\u001b[0m\u001b[0;34m(\u001b[0m\u001b[0;34m\"Enter anything \"\u001b[0m\u001b[0;34m)\u001b[0m\u001b[0;34m;\u001b[0m\u001b[0;34m\u001b[0m\u001b[0;34m\u001b[0m\u001b[0m\n\u001b[1;32m      4\u001b[0m \u001b[0;34m\u001b[0m\u001b[0m\n\u001b[0;32m----> 5\u001b[0;31m \u001b[0;32massert\u001b[0m \u001b[0;36m1\u001b[0m \u001b[0;34m!=\u001b[0m \u001b[0;36m1\u001b[0m\u001b[0;34m,\u001b[0m \u001b[0;34m\"Anytime This will show error\"\u001b[0m\u001b[0;34m\u001b[0m\u001b[0;34m\u001b[0m\u001b[0m\n\u001b[0m",
      "\u001b[0;31mAssertionError\u001b[0m: Anytime This will show error"
     ]
    }
   ],
   "source": [
    "# Solution - \n",
    "\n",
    "bacon = input(\"Enter anything \");\n",
    "\n",
    "assert 1 != 1, \"Anytime This will show error\""
   ]
  },
  {
   "cell_type": "markdown",
   "id": "85757d0a",
   "metadata": {},
   "source": [
    "#### 4. What are the two lines that must be present in your software in order to call logging.debug()?"
   ]
  },
  {
   "cell_type": "code",
   "execution_count": 5,
   "id": "802cb2ad",
   "metadata": {},
   "outputs": [],
   "source": [
    "import logging\n",
    " \n",
    "# Create and configure logger\n",
    "logging.basicConfig(filename=\"newfile.log\", format='%(asctime)s %(message)s', filemode='w')\n",
    "\n",
    "logger = logging.getLogger();"
   ]
  },
  {
   "cell_type": "markdown",
   "id": "be06903c",
   "metadata": {},
   "source": [
    "#### 5. What are the two lines that your program must have in order to have logging.debug() send a logging message to a file named programLog.txt?"
   ]
  },
  {
   "cell_type": "code",
   "execution_count": 6,
   "id": "2268af88",
   "metadata": {},
   "outputs": [],
   "source": [
    "logger = logging.getLogger()\n",
    "logger.setLevel(logging.DEBUG)"
   ]
  },
  {
   "cell_type": "markdown",
   "id": "21e16730",
   "metadata": {},
   "source": [
    "#### 6. What are the five levels of logging?"
   ]
  },
  {
   "cell_type": "markdown",
   "id": "8d104ca9",
   "metadata": {},
   "source": [
    "Solution -\n",
    "Five level of debugging :- \n",
    "- **Debug** - 10 \n",
    "- **Info** - 20 \n",
    "- **Warning** - 30 \n",
    "- **Error** - 40 \n",
    "- **Critical** - 50\n",
    "\n",
    "\n",
    "#### 7. What line of code would you add to your software to disable all logging messages?"
   ]
  },
  {
   "cell_type": "code",
   "execution_count": 10,
   "id": "3843babf",
   "metadata": {},
   "outputs": [],
   "source": [
    "logger.disabled = True"
   ]
  },
  {
   "cell_type": "markdown",
   "id": "6b7e8b21",
   "metadata": {},
   "source": [
    "#### 8.Why is using logging messages better than using print() to display the same message?"
   ]
  },
  {
   "cell_type": "markdown",
   "id": "fc4e1726",
   "metadata": {},
   "source": [
    "Solution - \n",
    "\n",
    "Because it have multiple feature like setting the levels of log...etc. \n",
    "\n",
    "#### 9. What are the differences between the Step Over, Step In, and Step Out buttons in the debugger?\n",
    "\n",
    "Solution - "
   ]
  },
  {
   "cell_type": "markdown",
   "id": "df4b811d",
   "metadata": {},
   "source": [
    "- **Step Into**: Step Into is used for debugging the test steps line by line. When the procedure gets called, Step Into enables you to get inside the procedure and debugs the procedure steps line by line.\n",
    "- **Step Over**: Step Over will enable, only after the debugging is started with Step Into / Run From Step / Run to Step. Step Over is used for debugging the test steps line by line, but when the procedure is called, the entire procedure call will be executed as single step. The cursor never gets inside the procedure.\n",
    "- **Step Out**: Step Out will enable, only after the debugging cursor gets inside a procedure. The cursor will get inside a procedure only when the test is debugged with Step Into.\n",
    "\n",
    "#### 10. After you click Continue, when will the debugger stop ?\n"
   ]
  },
  {
   "cell_type": "markdown",
   "id": "a91bbe51",
   "metadata": {},
   "source": [
    "Solution - \n",
    "\n",
    "At Next Assignment/modification in value."
   ]
  }
 ],
 "metadata": {
  "kernelspec": {
   "display_name": "Python 3 (ipykernel)",
   "language": "python",
   "name": "python3"
  },
  "language_info": {
   "codemirror_mode": {
    "name": "ipython",
    "version": 3
   },
   "file_extension": ".py",
   "mimetype": "text/x-python",
   "name": "python",
   "nbconvert_exporter": "python",
   "pygments_lexer": "ipython3",
   "version": "3.9.7"
  },
  "vscode": {
   "interpreter": {
    "hash": "b0fa6594d8f4cbf19f97940f81e996739fb7646882a419484c72d19e05852a7e"
   }
  }
 },
 "nbformat": 4,
 "nbformat_minor": 5
}
