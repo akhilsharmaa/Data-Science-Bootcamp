{
 "cells": [
  {
   "cell_type": "markdown",
   "id": "c8fbb7af",
   "metadata": {},
   "source": [
    "### 1. In the below elements which of them are values or an expression? eg:- values can be integer or string and expressions will be mathematical operators.\n",
    "\n",
    "*\n",
    "&#39;hello&#39;\n",
    "-87.8\n",
    "-\n",
    "/\n",
    "+\n",
    "6\n",
    "\n",
    "#### Solution - \n",
    "Values => -87.8 , 6 \"hello\"\n",
    "\n",
    "Expression => * , / , + , "
   ]
  },
  {
   "cell_type": "markdown",
   "id": "efd34dcf",
   "metadata": {},
   "source": [
    "."
   ]
  },
  {
   "cell_type": "markdown",
   "id": "05cd9062",
   "metadata": {},
   "source": [
    "### 2. What is the difference between string and variable?"
   ]
  },
  {
   "cell_type": "markdown",
   "id": "dc5aa520",
   "metadata": {},
   "source": [
    "#### Solution - \n",
    "A Variable is a store of information, and a String is a type of information you would store in a Variable"
   ]
  },
  {
   "cell_type": "markdown",
   "id": "0e35ebc6",
   "metadata": {},
   "source": [
    ".\n"
   ]
  },
  {
   "cell_type": "markdown",
   "id": "80d83b30",
   "metadata": {},
   "source": [
    "### 3. Describe three different data types.\n",
    "\n",
    "##### solution - \n",
    "   \n",
    "char - use to store one letter or symbol etc.\n",
    "\n",
    "String - Use to store arrray of character\n",
    "\n",
    "Int - use to store the number\n",
    "\n",
    "Bool - use to store the true or false\n",
    "\n"
   ]
  },
  {
   "cell_type": "markdown",
   "id": "98712b7e",
   "metadata": {},
   "source": [
    "### 4. What is an expression made up of? What do all expressions do?\n",
    "\n",
    "##### Solution - \n",
    "\n",
    "An expression is a construct made up of variables, operators, and method invocations,\n",
    "\n",
    "Expressions are representations of value"
   ]
  },
  {
   "cell_type": "markdown",
   "id": "e394115a",
   "metadata": {},
   "source": [
    "### 5. This assignment statements, like spam = 10. What is the difference between an expression and a statement?\n",
    "\n",
    "#### Solution -  \n",
    "An Expression always evaluates to a value. And, A statement does something, like creating a variable or displaying a value, it only does whatever the statement says\n",
    "\n",
    "\n"
   ]
  },
  {
   "cell_type": "markdown",
   "id": "cc341bbe",
   "metadata": {},
   "source": [
    "### 6. After running the following code, what does the variable bacon contain?\n",
    "bacon = 22\n",
    "bacon + 1\n",
    "\n",
    "\n",
    "#### Solution - \n",
    " Bacon contains  22 "
   ]
  },
  {
   "cell_type": "markdown",
   "id": "45ca24c4",
   "metadata": {},
   "source": [
    "### 7. What should the values of the following two terms be? \n",
    "spam + 'spamspam'\n",
    "'spam' * 3\n",
    "\n",
    "#### Solution - \n",
    "\n",
    "value should be \"spamspamspam\""
   ]
  },
  {
   "cell_type": "markdown",
   "id": "8a6cf6c8",
   "metadata": {},
   "source": [
    "### 8. Why is eggs a valid variable name while 100 is invalid?\n",
    "Can't Understand the question "
   ]
  },
  {
   "cell_type": "markdown",
   "id": "642e758f",
   "metadata": {},
   "source": [
    "### 9. What three functions can be used to get the integer, floating-point number, or string version of a value?\n",
    "\n",
    "#### Solution - \n",
    "\n",
    "\n"
   ]
  },
  {
   "cell_type": "code",
   "execution_count": 7,
   "id": "42e88a51",
   "metadata": {
    "scrolled": true
   },
   "outputs": [
    {
     "ename": "SyntaxError",
     "evalue": "invalid syntax (1885169875.py, line 1)",
     "output_type": "error",
     "traceback": [
      "\u001b[0;36m  File \u001b[0;32m\"/var/folders/72/_q59jbdn7sj2yp5__ym344bc0000gn/T/ipykernel_900/1885169875.py\"\u001b[0;36m, line \u001b[0;32m1\u001b[0m\n\u001b[0;31m    def\u001b[0m\n\u001b[0m        ^\u001b[0m\n\u001b[0;31mSyntaxError\u001b[0m\u001b[0;31m:\u001b[0m invalid syntax\n"
     ]
    }
   ],
   "source": [
    "def "
   ]
  },
  {
   "cell_type": "markdown",
   "id": "3290580d",
   "metadata": {},
   "source": [
    "### 10. Why does this expression cause an error? How can you fix it?\n",
    "``` 'I have eaten' + 99 +  'burritos'  ```\n",
    "\n",
    "Solution \n",
    "\n",
    "Error cause : because 99 is a integer we can add int with string.\n",
    "\n",
    "Fix : ``` 'I have eaten' + '99' +  'burritos'  ```\n"
   ]
  }
 ],
 "metadata": {
  "kernelspec": {
   "display_name": "Python 3 (ipykernel)",
   "language": "python",
   "name": "python3"
  },
  "language_info": {
   "codemirror_mode": {
    "name": "ipython",
    "version": 3
   },
   "file_extension": ".py",
   "mimetype": "text/x-python",
   "name": "python",
   "nbconvert_exporter": "python",
   "pygments_lexer": "ipython3",
   "version": "3.9.7"
  }
 },
 "nbformat": 4,
 "nbformat_minor": 5
}
