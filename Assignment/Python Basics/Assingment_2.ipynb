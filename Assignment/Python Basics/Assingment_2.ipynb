{
 "cells": [
  {
   "cell_type": "markdown",
   "id": "82e51eb5",
   "metadata": {},
   "source": [
    "#### 1.What are the two values of the Boolean data type? How do you write them?\n",
    "Solution - ```True```  & ```False```"
   ]
  },
  {
   "cell_type": "markdown",
   "id": "ff4756c9",
   "metadata": {},
   "source": [
    "#### 2. What are the three different types of Boolean operators?\n",
    "solution - ```AND```   ```OR``` ``` NOT ```\n",
    "\n",
    "\n",
    "#### 3. Make a list of each Boolean operator&#39;s truth tables  (i.e. every possible combination of Boolean values for the operator and what it evaluate).\n"
   ]
  },
  {
   "cell_type": "code",
   "execution_count": null,
   "id": "87036d15",
   "metadata": {},
   "outputs": [],
   "source": []
  }
 ],
 "metadata": {
  "kernelspec": {
   "display_name": "Python 3 (ipykernel)",
   "language": "python",
   "name": "python3"
  },
  "language_info": {
   "codemirror_mode": {
    "name": "ipython",
    "version": 3
   },
   "file_extension": ".py",
   "mimetype": "text/x-python",
   "name": "python",
   "nbconvert_exporter": "python",
   "pygments_lexer": "ipython3",
   "version": "3.9.7"
  }
 },
 "nbformat": 4,
 "nbformat_minor": 5
}
