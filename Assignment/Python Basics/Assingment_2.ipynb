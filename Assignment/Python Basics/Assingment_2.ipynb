{
 "cells": [
  {
   "cell_type": "markdown",
   "id": "ff4756c9",
   "metadata": {},
   "source": [
    "###  1.What are the two values of the Boolean data type? How do you write them?\n",
    "Solution - ```True```  & ```False```\n",
    "\n",
    "### 2. What are the three different types of Boolean operators?\n",
    "solution - ```and```   ```or``` ``` not ```\n",
    "\n",
    "\n",
    "### 3. Make a list of each Boolean operator&#39;s truth tables  (i.e. every possible combination of Boolean values for the operator and what it evaluate).\n"
   ]
  },
  {
   "cell_type": "markdown",
   "id": "a1a402c3",
   "metadata": {},
   "source": [
    "Solution - \n",
    "\n",
    "### OR Operator\n",
    "| Operator A| Operator B | OR Result |\n",
    "| --- | --- | --- |\n",
    "| True | True | True |\n",
    "| True | False | True |\n",
    "| False| True  | True |\n",
    "| False| False | False|\n",
    "\n",
    "\n",
    "### AND Operator\n",
    "| Operator A| Operator B | AND Result |\n",
    "| --- | --- | --- |\n",
    "| True | True | True |\n",
    "| True | False | False |\n",
    "| False| True  | False |\n",
    "| False| False | False|\n",
    "\n",
    "\n",
    "\n",
    "### NOT Operator\n",
    "| Operator A | Not Result |\n",
    "| --- |  --- |\n",
    "| True | False |\n",
    "| False | True |\n"
   ]
  },
  {
   "cell_type": "markdown",
   "id": "e159cbcd",
   "metadata": {},
   "source": [
    "### 4. What are the values of the following expressions?\n",
    "\n",
    "Solution -\n",
    "\n",
    "```(5 > 4) and (3 == 5)``` => False\n",
    "\n",
    "```not (5 > 4)``` => False\n",
    "\n",
    "```(5 > 4) or (3 == 5)``` => True\n",
    "\n",
    "```not ((5 > 4) or (3 == 5))``` => False\n",
    "\n",
    "```(True and True) and (True == False)``` => False\n",
    "\n",
    "```(not False) or (not True)``` => True\n",
    "\n",
    "### 5. What are the six comparison operators?\n",
    "\n",
    "Solution - \n",
    "\n",
    "- Less than ( < )\n",
    "- Less than or equal to (<=)\n",
    "- Greater than (>)\n",
    "- Greater than or equal to (>=)\n",
    "- Equal to ( == )\n",
    "- Not equal to ( != )\n"
   ]
  },
  {
   "cell_type": "markdown",
   "id": "f3bd11ab",
   "metadata": {},
   "source": [
    "### 6. How do you tell the difference between the equal to and assignment operators?Describe a  condition and when you would use one.\n",
    "\n",
    "Solution - \n",
    "\n",
    "| Equal to | Assingment Operator | \n",
    "|----------|---------------------|\n",
    "| ***==***  |         ***=***     | \n",
    "| It is a relational or comparison operator. |It is an assignment operator.|\n",
    "| **when we have to compare two values** | **when we have to set or initial a value.** |\n"
   ]
  },
  {
   "cell_type": "markdown",
   "id": "c116f34a",
   "metadata": {},
   "source": [
    "### 7. Identify the three blocks in this code:\n"
   ]
  },
  {
   "cell_type": "code",
   "execution_count": 8,
   "id": "1ff68a61",
   "metadata": {},
   "outputs": [
    {
     "name": "stdout",
     "output_type": "stream",
     "text": [
      "spam\n"
     ]
    }
   ],
   "source": [
    "spam = 0                 # Block 1 \n",
    "if spam == 10:           # Block 1 \n",
    "    print(\"eggs\")        # Block 2\n",
    "    if spam > 5:         # Block 2\n",
    "        print(\"bacon\")   # Block 3 \n",
    "    else:                # Block 2\n",
    "        print(\"ham\")     # Block 3\n",
    "    print(\"spam\")        # Block 2\n",
    "print(\"spam\")            # Block 2"
   ]
  },
  {
   "cell_type": "markdown",
   "id": "7cc7c41e",
   "metadata": {},
   "source": [
    "### 8. Write code that prints Hello if 1 is stored in spam, prints Howdy if 2 is stored in spam, and prints Greetings! if  anything else is stored in spam."
   ]
  },
  {
   "cell_type": "code",
   "execution_count": 26,
   "id": "2da3498d",
   "metadata": {},
   "outputs": [
    {
     "name": "stdout",
     "output_type": "stream",
     "text": [
      "Hello\n"
     ]
    }
   ],
   "source": [
    "# Solution - \n",
    "\n",
    "spam = 1\n",
    "if spam == 1:    \n",
    "    print(\"Hello\");\n",
    "elif spam == 2:\n",
    "    print(\"Howdy\");\n",
    "else:\n",
    "    print(\"Greetings\");"
   ]
  },
  {
   "cell_type": "markdown",
   "id": "add0fa53",
   "metadata": {},
   "source": [
    "### 9. If your programme is stuck in an endless loop, what keys you’ll press?\n",
    "Solution - \n",
    "\n",
    "```Ctrl + c```"
   ]
  },
  {
   "cell_type": "markdown",
   "id": "acbfa6e5",
   "metadata": {},
   "source": [
    "### 10. How can you tell the difference between break and continue?\n",
    "\n",
    "Solution -\n",
    "\n",
    "```break``` -  statement leads to an immediate exit of the loop.\n",
    "\n",
    "```continue``` - statement begins the next iteration of the loop."
   ]
  }
 ],
 "metadata": {
  "kernelspec": {
   "display_name": "Python 3 (ipykernel)",
   "language": "python",
   "name": "python3"
  },
  "language_info": {
   "codemirror_mode": {
    "name": "ipython",
    "version": 3
   },
   "file_extension": ".py",
   "mimetype": "text/x-python",
   "name": "python",
   "nbconvert_exporter": "python",
   "pygments_lexer": "ipython3",
   "version": "3.9.7"
  }
 },
 "nbformat": 4,
 "nbformat_minor": 5
}
