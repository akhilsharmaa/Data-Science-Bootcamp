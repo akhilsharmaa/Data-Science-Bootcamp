{
 "cells": [
  {
   "cell_type": "markdown",
   "id": "09d8c4d2",
   "metadata": {},
   "source": [
    "# Assignment 12\n",
    "#### 1. In what modes should the PdfFileReader() and PdfFileWriter() File objects will be opened?"
   ]
  },
  {
   "cell_type": "markdown",
   "id": "cf622b79",
   "metadata": {},
   "source": [
    "- PdfFileReader **rb** : Read Mode \n",
    "\n",
    "#### 2. From a PdfFileReader object, how do you get a Page object for page 5?"
   ]
  },
  {
   "cell_type": "markdown",
   "id": "b8bf9fdc",
   "metadata": {},
   "source": [
    "Solution:  \n",
    "\n",
    " object.getPage(1) \n",
    " \n",
    "#### 3. What PdfFileReader variable stores the number of pages in the PDF document?\n",
    "\n",
    "solution - pageNum\n",
    "\n",
    "#### 4. If a PdfFileReader object’s PDF is encrypted with the password swordfish, what must you do before you can obtain Page objects from it?\n",
    "\n",
    "Solution - \n",
    "writer.decrypt(password)\n"
   ]
  },
  {
   "cell_type": "code",
   "execution_count": null,
   "id": "2508cebf",
   "metadata": {},
   "outputs": [],
   "source": []
  },
  {
   "cell_type": "markdown",
   "id": "bf9cf9c5",
   "metadata": {},
   "source": []
  },
  {
   "cell_type": "code",
   "execution_count": 3,
   "id": "07aac417",
   "metadata": {},
   "outputs": [
    {
     "ename": "SyntaxError",
     "evalue": "invalid character '’' (U+2019) (826269734.py, line 11)",
     "output_type": "error",
     "traceback": [
      "\u001b[0;36m  Input \u001b[0;32mIn [3]\u001b[0;36m\u001b[0m\n\u001b[0;31m    7. How do you obtain a list of Paragraph objects for a Document object that’s stored in a variable\u001b[0m\n\u001b[0m                                                                               ^\u001b[0m\n\u001b[0;31mSyntaxError\u001b[0m\u001b[0;31m:\u001b[0m invalid character '’' (U+2019)\n"
     ]
    }
   ],
   "source": [
    "5. What methods do you use to rotate a page?\n",
    "Solution - \n",
    "\n",
    "page.rotateClockwise(180)\n",
    "\n",
    "6. What is the difference between a Run object and a Paragraph object?\n",
    "\n",
    "Each Paragraph object also has a runs attribute that is a list of Run objects. Run objects also \n",
    "have a text attribute, containing just the text in that particular run.\n",
    "\n",
    "7. How do you obtain a list of Paragraph objects for a Document object that’s stored in a variable\n",
    "named doc?\n",
    "\n",
    "import docx\n",
    "doc = docx.Document('abc.docx')\n",
    "doc.paragraphs\n",
    "\n",
    "8. What type of object has bold, underline, italic, strike, and outline variables?\n",
    "Solution -  \n",
    "A Run object has bold, underline,italic,strike and outline variables\n",
    "\n",
    "\n",
    "9. What is the difference between False, True, and None for the bold variable?\n",
    "\n",
    "True -  (the attribute is always enabled, no matter what other styles are applied to the run),\n",
    "False -  (the attribute is always disabled),\n",
    "None - (defaults to whatever the run’s style is set to)\n",
    "\n",
    "True always makes the Run object bolded and False makes it always not bolded, no matter what the style’s bold setting is. None will make the Run object just use the style’s bold setting\n",
    "\n",
    "10. How do you create a Document object for a new Word document?\n",
    "By Calling the docx.Document() function.\n",
    "\n",
    "11.  How do you add a paragraph with the text 'Hello, there!'' to a Document object stored in a variable named doc?\n",
    "\n",
    "import docx\n",
    "doc = docx.Document()\n",
    "\n",
    "doc.add_paragraph('Hello there!')\n",
    "doc.save('hellothere.docx')\n",
    "\n",
    "12. What integers represent the levels of headings available in Word documents?\n",
    "\n",
    "integer from 0 to 4\n",
    "\n",
    "The arguments to add_heading() are a string of the heading text and an integer from 0 to 4. The integer 0 makes the heading the Title style, which is used for the top of the document. Integers 1 to 4 are for various heading levels, with 1 being the main heading and 4 the lowest subheading"
   ]
  },
  {
   "cell_type": "code",
   "execution_count": null,
   "id": "dded9ca9",
   "metadata": {},
   "outputs": [],
   "source": []
  }
 ],
 "metadata": {
  "kernelspec": {
   "display_name": "Python 3.10.4 64-bit",
   "language": "python",
   "name": "python3"
  },
  "language_info": {
   "codemirror_mode": {
    "name": "ipython",
    "version": 3
   },
   "file_extension": ".py",
   "mimetype": "text/x-python",
   "name": "python",
   "nbconvert_exporter": "python",
   "pygments_lexer": "ipython3",
   "version": "3.10.4"
  },
  "vscode": {
   "interpreter": {
    "hash": "916dbcbb3f70747c44a77c7bcd40155683ae19c65e1c03b4aa3499c5328201f1"
   }
  }
 },
 "nbformat": 4,
 "nbformat_minor": 5
}
