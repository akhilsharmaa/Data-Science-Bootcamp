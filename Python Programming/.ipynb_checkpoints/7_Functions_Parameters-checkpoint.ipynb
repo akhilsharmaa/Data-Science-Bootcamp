{
 "cells": [
  {
   "cell_type": "markdown",
   "id": "b118dd09",
   "metadata": {},
   "source": [
    "## Function Arguments \n"
   ]
  },
  {
   "cell_type": "code",
   "execution_count": 5,
   "id": "30338136",
   "metadata": {},
   "outputs": [],
   "source": [
    "def test(a, b):\n",
    "    return a + b;"
   ]
  },
  {
   "cell_type": "markdown",
   "id": "22e3a385",
   "metadata": {},
   "source": [
    "### Parameters "
   ]
  },
  {
   "cell_type": "code",
   "execution_count": 6,
   "id": "aec0782c",
   "metadata": {},
   "outputs": [
    {
     "data": {
      "text/plain": [
       "3"
      ]
     },
     "execution_count": 6,
     "metadata": {},
     "output_type": "execute_result"
    }
   ],
   "source": [
    "test(1, 2)"
   ]
  },
  {
   "cell_type": "code",
   "execution_count": 7,
   "id": "43fa0c53",
   "metadata": {},
   "outputs": [
    {
     "data": {
      "text/plain": [
       "'3223'"
      ]
     },
     "execution_count": 7,
     "metadata": {},
     "output_type": "execute_result"
    }
   ],
   "source": [
    "test (b = \"23\", a = \"32\")"
   ]
  },
  {
   "cell_type": "code",
   "execution_count": 8,
   "id": "6db40676",
   "metadata": {},
   "outputs": [
    {
     "ename": "TypeError",
     "evalue": "test() takes 2 positional arguments but 3 were given",
     "output_type": "error",
     "traceback": [
      "\u001b[0;31m---------------------------------------------------------------------------\u001b[0m",
      "\u001b[0;31mTypeError\u001b[0m                                 Traceback (most recent call last)",
      "\u001b[0;32m/var/folders/72/_q59jbdn7sj2yp5__ym344bc0000gn/T/ipykernel_33933/1809415459.py\u001b[0m in \u001b[0;36m<module>\u001b[0;34m\u001b[0m\n\u001b[1;32m      2\u001b[0m \u001b[0;31m# required parameter and passed parameter is diffrent.\u001b[0m\u001b[0;34m\u001b[0m\u001b[0;34m\u001b[0m\u001b[0m\n\u001b[1;32m      3\u001b[0m \u001b[0;34m\u001b[0m\u001b[0m\n\u001b[0;32m----> 4\u001b[0;31m \u001b[0mtest\u001b[0m\u001b[0;34m(\u001b[0m\u001b[0;36m1\u001b[0m\u001b[0;34m,\u001b[0m \u001b[0;36m23\u001b[0m\u001b[0;34m,\u001b[0m \u001b[0;36m4\u001b[0m\u001b[0;34m)\u001b[0m\u001b[0;34m\u001b[0m\u001b[0;34m\u001b[0m\u001b[0m\n\u001b[0m",
      "\u001b[0;31mTypeError\u001b[0m: test() takes 2 positional arguments but 3 were given"
     ]
    }
   ],
   "source": [
    "# This will give error because \n",
    "# required parameter and passed parameter is diffrent.\n",
    "\n",
    "test(1, 23, 4)"
   ]
  },
  {
   "cell_type": "markdown",
   "id": "a4387b5a",
   "metadata": {},
   "source": [
    "### Astrick Opertion "
   ]
  },
  {
   "cell_type": "code",
   "execution_count": 9,
   "id": "972c66b0",
   "metadata": {},
   "outputs": [],
   "source": [
    "# *a => Here you can pass any number of aguments in the Function.\n",
    "\n",
    "def test2(*a):\n",
    "    return a;"
   ]
  },
  {
   "cell_type": "code",
   "execution_count": 10,
   "id": "abf6524e",
   "metadata": {},
   "outputs": [
    {
     "name": "stdout",
     "output_type": "stream",
     "text": [
      "(1,)\n",
      "(3, 2, 4, 5, 2121)\n",
      "(3, 2, 4, 5, 12, (12, 4, 5), {1, 2, 4, 33}, 2121)\n"
     ]
    }
   ],
   "source": [
    "# As you can see a\n",
    "print(test2(1))\n",
    "print(test2(3, 2, 4, 5, 2121))\n",
    "print(test2(3, 2, 4, 5,12, (12, 4, 5), {1, 2, 33, 4}, 2121))"
   ]
  },
  {
   "cell_type": "code",
   "execution_count": 11,
   "id": "016a19d6",
   "metadata": {},
   "outputs": [],
   "source": [
    "def test3(a, b, c, *args):\n",
    "    return a ,b ,c, args;"
   ]
  },
  {
   "cell_type": "code",
   "execution_count": 12,
   "id": "c7505cf5",
   "metadata": {},
   "outputs": [
    {
     "data": {
      "text/plain": [
       "(1, 2, 3, (4, 5, 6, 5))"
      ]
     },
     "execution_count": 12,
     "metadata": {},
     "output_type": "execute_result"
    }
   ],
   "source": [
    "# It will automatically detect the argumentents\n",
    "# It is not not giving error because args is at last.\n",
    "\n",
    "test3(1, 2, 3, 4, 5, 6, 5)"
   ]
  },
  {
   "cell_type": "code",
   "execution_count": 13,
   "id": "b6ed91f3",
   "metadata": {},
   "outputs": [],
   "source": [
    "def test4(*args, a, b, c):\n",
    "    return args, a ,b , c;"
   ]
  },
  {
   "cell_type": "code",
   "execution_count": 17,
   "id": "f429521f",
   "metadata": {},
   "outputs": [
    {
     "ename": "TypeError",
     "evalue": "test4() missing 3 required keyword-only arguments: 'a', 'b', and 'c'",
     "output_type": "error",
     "traceback": [
      "\u001b[0;31m---------------------------------------------------------------------------\u001b[0m",
      "\u001b[0;31mTypeError\u001b[0m                                 Traceback (most recent call last)",
      "\u001b[0;32m/var/folders/72/_q59jbdn7sj2yp5__ym344bc0000gn/T/ipykernel_33933/2357773420.py\u001b[0m in \u001b[0;36m<module>\u001b[0;34m\u001b[0m\n\u001b[0;32m----> 1\u001b[0;31m \u001b[0mtest4\u001b[0m\u001b[0;34m(\u001b[0m\u001b[0;36m1\u001b[0m\u001b[0;34m,\u001b[0m \u001b[0;36m2\u001b[0m\u001b[0;34m,\u001b[0m \u001b[0;36m3\u001b[0m\u001b[0;34m,\u001b[0m \u001b[0;36m4\u001b[0m\u001b[0;34m,\u001b[0m \u001b[0;36m5\u001b[0m\u001b[0;34m,\u001b[0m \u001b[0;36m6\u001b[0m\u001b[0;34m,\u001b[0m \u001b[0;36m5\u001b[0m\u001b[0;34m)\u001b[0m\u001b[0;34m\u001b[0m\u001b[0;34m\u001b[0m\u001b[0m\n\u001b[0m\u001b[1;32m      2\u001b[0m \u001b[0;31m# It is giving error because not args is not in front\u001b[0m\u001b[0;34m\u001b[0m\u001b[0;34m\u001b[0m\u001b[0m\n",
      "\u001b[0;31mTypeError\u001b[0m: test4() missing 3 required keyword-only arguments: 'a', 'b', and 'c'"
     ]
    }
   ],
   "source": [
    "test4(1, 2, 3, 4, 5, 6, 5)\n",
    "# It is giving error because not args is not in front  "
   ]
  },
  {
   "cell_type": "code",
   "execution_count": 19,
   "id": "c365a6f8",
   "metadata": {},
   "outputs": [
    {
     "data": {
      "text/plain": [
       "((1, 2, 3), 4, 5, 6)"
      ]
     },
     "execution_count": 19,
     "metadata": {},
     "output_type": "execute_result"
    }
   ],
   "source": [
    "# we can fix it by specifing the argument name\n",
    "test4(1, 2, 3, a = 4, b = 5, c = 6)"
   ]
  },
  {
   "cell_type": "code",
   "execution_count": 20,
   "id": "ea4c7844",
   "metadata": {},
   "outputs": [],
   "source": [
    "# All the astrick as dictonary \n",
    "\n",
    "def test6(**dicArgs):\n",
    "    return dicArgs;"
   ]
  },
  {
   "cell_type": "code",
   "execution_count": 22,
   "id": "9158398b",
   "metadata": {},
   "outputs": [
    {
     "name": "stdout",
     "output_type": "stream",
     "text": [
      "{'key1': 'Akhil', 'key2': 'Akhilesh', 'key3': 'Sharma'}\n"
     ]
    }
   ],
   "source": [
    "print(test6(key1 = \"Akhil\", key2 = \"Akhilesh\", key3 = \"Sharma\"));"
   ]
  },
  {
   "cell_type": "code",
   "execution_count": 24,
   "id": "6e703b7a",
   "metadata": {},
   "outputs": [],
   "source": [
    "def test7(*a, **m):\n",
    "    return m , a;"
   ]
  },
  {
   "cell_type": "code",
   "execution_count": 26,
   "id": "a2a43aa4",
   "metadata": {},
   "outputs": [
    {
     "name": "stdout",
     "output_type": "stream",
     "text": [
      "({'a': 2, 'b': 12, 'c': 13, 'd': 10}, (1, 3, 4, 5, 'akhil'))\n"
     ]
    }
   ],
   "source": [
    "print(test7(1, 3, 4, 5, \"akhil\", a = 2, b = 12, c = 13, d = 10));"
   ]
  },
  {
   "cell_type": "code",
   "execution_count": 35,
   "id": "83b1ca1b",
   "metadata": {},
   "outputs": [],
   "source": [
    "def test8(*a):\n",
    "    '''This function will return sum of all the integer in the arguments'''\n",
    "    n = 0;\n",
    "    for i in a:\n",
    "        if type(i) == int:\n",
    "            n = n + i;\n",
    "            \n",
    "    return n;"
   ]
  },
  {
   "cell_type": "code",
   "execution_count": 36,
   "id": "918929a8",
   "metadata": {},
   "outputs": [
    {
     "data": {
      "text/plain": [
       "20"
      ]
     },
     "execution_count": 36,
     "metadata": {},
     "output_type": "execute_result"
    }
   ],
   "source": [
    "test8(2, 3, 4, 5, 6)"
   ]
  },
  {
   "cell_type": "markdown",
   "id": "5785e315",
   "metadata": {},
   "source": [
    "### Lambda Function \n",
    "it is a anonymus function where \n",
    "\n",
    "```n = lambda a, b : a + b``` =  ```def func(a, b): return a + b;```"
   ]
  },
  {
   "cell_type": "code",
   "execution_count": 43,
   "id": "04106b07",
   "metadata": {},
   "outputs": [],
   "source": [
    "n = lambda a, b : a + b"
   ]
  },
  {
   "cell_type": "code",
   "execution_count": 48,
   "id": "cbf72a7c",
   "metadata": {},
   "outputs": [
    {
     "data": {
      "text/plain": [
       "36"
      ]
     },
     "execution_count": 48,
     "metadata": {},
     "output_type": "execute_result"
    }
   ],
   "source": [
    "n(12, 24)"
   ]
  },
  {
   "cell_type": "code",
   "execution_count": 53,
   "id": "090c5718",
   "metadata": {},
   "outputs": [],
   "source": [
    "t = (3, 4, 4, 5, 6, 67, 7, 7)\n",
    "l = []\n",
    "for i in t:\n",
    "    l.append(i)"
   ]
  },
  {
   "cell_type": "code",
   "execution_count": 54,
   "id": "7fd039f5",
   "metadata": {},
   "outputs": [
    {
     "data": {
      "text/plain": [
       "[3, 4, 4, 5, 6, 67, 7, 7]"
      ]
     },
     "execution_count": 54,
     "metadata": {},
     "output_type": "execute_result"
    }
   ],
   "source": [
    "l"
   ]
  },
  {
   "cell_type": "code",
   "execution_count": 58,
   "id": "ca948cc5",
   "metadata": {},
   "outputs": [
    {
     "data": {
      "text/plain": [
       "[3, 4, 4, 5, 6, 67, 7, 7]"
      ]
     },
     "execution_count": 58,
     "metadata": {},
     "output_type": "execute_result"
    }
   ],
   "source": [
    "[i for i in t]"
   ]
  },
  {
   "cell_type": "markdown",
   "id": "cb24d915",
   "metadata": {},
   "source": [
    "Todoys Task : \n",
    "    q1 : print a prime number prime number in between 1 - 1000;\n",
    "    q2 : write a function which is eqiualent to print function in python.\n",
    "    q3 : write a func lambda which return concatination of all the string that we pass.\n",
    "    q4 : write a lambda func which return list of square between 1 - 100;\n",
    "    q5 : write a function which can perform a read operation in from .txt file "
   ]
  },
  {
   "cell_type": "code",
   "execution_count": 66,
   "id": "f26c627b",
   "metadata": {},
   "outputs": [
    {
     "name": "stdout",
     "output_type": "stream",
     "text": [
      "2 3 5 7 11 13 17 19 23 29 31 37 41 43 47 53 59 61 67 71 73 79 83 89 97 101 103 107 109 113 127 131 137 139 149 151 157 163 167 173 179 181 191 193 197 199 211 223 227 229 233 239 241 251 257 263 269 271 277 281 283 293 307 311 313 317 331 337 347 349 353 359 367 373 379 383 389 397 401 409 419 421 431 433 439 443 449 457 461 463 467 479 487 491 499 503 509 521 523 541 547 557 563 569 571 577 587 593 599 601 607 613 617 619 631 641 643 647 653 659 661 673 677 683 691 701 709 719 727 733 739 743 751 757 761 769 773 787 797 809 811 821 823 827 829 839 853 857 859 863 877 881 883 887 907 911 919 929 937 941 947 953 967 971 977 983 991 997 "
     ]
    }
   ],
   "source": [
    "# Q1 \n",
    "\n",
    "for i in range(2, 1000):\n",
    "    for j in range(2, i-1):\n",
    "        if i % j == 0 : \n",
    "            break;\n",
    "    else : \n",
    "        print(i, end= \" \")"
   ]
  },
  {
   "cell_type": "code",
   "execution_count": 105,
   "id": "459c32cf",
   "metadata": {},
   "outputs": [],
   "source": [
    "# Q2 \n",
    "def printf(args):\n",
    "    print(args)"
   ]
  },
  {
   "cell_type": "code",
   "execution_count": 106,
   "id": "81c10e57",
   "metadata": {},
   "outputs": [
    {
     "name": "stdout",
     "output_type": "stream",
     "text": [
      "Akhil\n"
     ]
    }
   ],
   "source": [
    "printf(\"Akhil\")"
   ]
  },
  {
   "cell_type": "code",
   "execution_count": 120,
   "id": "7aa7b605",
   "metadata": {},
   "outputs": [],
   "source": [
    "k = lambda *args:[k for i in args]"
   ]
  },
  {
   "cell_type": "code",
   "execution_count": 121,
   "id": "b549dc83",
   "metadata": {},
   "outputs": [
    {
     "data": {
      "text/plain": [
       "[<function __main__.<lambda>(*args)>, <function __main__.<lambda>(*args)>]"
      ]
     },
     "execution_count": 121,
     "metadata": {},
     "output_type": "execute_result"
    }
   ],
   "source": [
    "k(\"AKHIL\", \" SHAMR\")"
   ]
  },
  {
   "cell_type": "code",
   "execution_count": 109,
   "id": "56edfa64",
   "metadata": {},
   "outputs": [
    {
     "data": {
      "text/plain": [
       "[1, 4, 9, 16, 25, 36, 49, 64, 81, 100]"
      ]
     },
     "execution_count": 109,
     "metadata": {},
     "output_type": "execute_result"
    }
   ],
   "source": [
    "# Q4\n",
    "\n",
    "l = lambda a, b : [i * i for i in range(a, b+1)]\n",
    "l(1, 10)"
   ]
  },
  {
   "cell_type": "code",
   "execution_count": 110,
   "id": "b70c0da9",
   "metadata": {
    "scrolled": true
   },
   "outputs": [
    {
     "name": "stdout",
     "output_type": "stream",
     "text": [
      "Hey I am Akhil.\n",
      "\n",
      "This is a file, This is contents under the test.txt file\n",
      "\n"
     ]
    }
   ],
   "source": [
    "# Q5 \n",
    "f = open(\"text.txt\", mode='r', encoding='utf-8')\n",
    "print(f.read())"
   ]
  },
  {
   "cell_type": "code",
   "execution_count": null,
   "id": "2e6e9ac2",
   "metadata": {},
   "outputs": [],
   "source": []
  },
  {
   "cell_type": "code",
   "execution_count": null,
   "id": "10fc8875",
   "metadata": {},
   "outputs": [],
   "source": []
  }
 ],
 "metadata": {
  "kernelspec": {
   "display_name": "Python 3 (ipykernel)",
   "language": "python",
   "name": "python3"
  },
  "language_info": {
   "codemirror_mode": {
    "name": "ipython",
    "version": 3
   },
   "file_extension": ".py",
   "mimetype": "text/x-python",
   "name": "python",
   "nbconvert_exporter": "python",
   "pygments_lexer": "ipython3",
   "version": "3.9.7"
  }
 },
 "nbformat": 4,
 "nbformat_minor": 5
}
