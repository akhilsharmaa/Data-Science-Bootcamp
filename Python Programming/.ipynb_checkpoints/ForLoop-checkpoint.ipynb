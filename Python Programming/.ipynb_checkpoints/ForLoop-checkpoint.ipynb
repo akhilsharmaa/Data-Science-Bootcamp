{
 "cells": [
  {
   "cell_type": "markdown",
   "id": "618eefc7",
   "metadata": {},
   "source": [
    "# For Loop"
   ]
  },
  {
   "cell_type": "code",
   "execution_count": 43,
   "id": "352b804f",
   "metadata": {},
   "outputs": [],
   "source": [
    "l = [1, 2, 3, 4, \"a\", \"c\", \"akhil\", \"*\"]"
   ]
  },
  {
   "cell_type": "code",
   "execution_count": 14,
   "id": "575548cc",
   "metadata": {},
   "outputs": [
    {
     "name": "stdout",
     "output_type": "stream",
     "text": [
      "1\n",
      "2\n",
      "23\n",
      "Aji\n",
      "*\n"
     ]
    }
   ],
   "source": [
    " for i in l :\n",
    "        print(i)"
   ]
  },
  {
   "cell_type": "code",
   "execution_count": 15,
   "id": "acfd5c66",
   "metadata": {},
   "outputs": [],
   "source": [
    " for i in l : \n",
    "    pass"
   ]
  },
  {
   "cell_type": "code",
   "execution_count": 16,
   "id": "47fb0077",
   "metadata": {},
   "outputs": [],
   "source": [
    "s = \"sudh\""
   ]
  },
  {
   "cell_type": "code",
   "execution_count": 17,
   "id": "51af2288",
   "metadata": {},
   "outputs": [
    {
     "name": "stdout",
     "output_type": "stream",
     "text": [
      "s\n",
      "u\n",
      "d\n",
      "h\n"
     ]
    }
   ],
   "source": [
    "for i in s : \n",
    "    print(i)"
   ]
  },
  {
   "cell_type": "markdown",
   "id": "452a41b8",
   "metadata": {},
   "source": [
    "### For Else Loop"
   ]
  },
  {
   "cell_type": "code",
   "execution_count": 36,
   "id": "d28f66c5",
   "metadata": {
    "scrolled": true
   },
   "outputs": [
    {
     "name": "stdout",
     "output_type": "stream",
     "text": [
      "1\n",
      "2\n",
      "23\n",
      "Aji\n",
      "*\n",
      "This will execute only if for is going to complete itself.\n"
     ]
    }
   ],
   "source": [
    "for i in l : \n",
    "    print(i);\n",
    "else : \n",
    "    print(\"This will execute only if for is going to complete itself.\");"
   ]
  },
  {
   "cell_type": "code",
   "execution_count": 34,
   "id": "a7dcd851",
   "metadata": {},
   "outputs": [
    {
     "name": "stdout",
     "output_type": "stream",
     "text": [
      "1\n",
      "2\n"
     ]
    }
   ],
   "source": [
    "for i in l : \n",
    "    if i == \"23\":\n",
    "        break;\n",
    "    print(i)\n",
    "else : \n",
    "    print(\"This will execute only if for is going to complete itself.\");"
   ]
  },
  {
   "cell_type": "code",
   "execution_count": 53,
   "id": "80cab5de",
   "metadata": {},
   "outputs": [
    {
     "name": "stdout",
     "output_type": "stream",
     "text": [
      "print char :  A\n",
      "print char :  k\n",
      "print char :  h\n",
      "print char :  i\n"
     ]
    }
   ],
   "source": [
    "a = \"Akhilesh\"\n",
    "\n",
    "for i in a :\n",
    "    if i == 'l' :\n",
    "        break;\n",
    "    print(\"print char : \", i)"
   ]
  },
  {
   "cell_type": "code",
   "execution_count": 61,
   "id": "37d9c0e1",
   "metadata": {},
   "outputs": [],
   "source": [
    "s = {1, 2, 3, 3, 45, 45, 45, 45, \"akhil\"}"
   ]
  },
  {
   "cell_type": "code",
   "execution_count": 62,
   "id": "df8564f5",
   "metadata": {},
   "outputs": [
    {
     "data": {
      "text/plain": [
       "set"
      ]
     },
     "execution_count": 62,
     "metadata": {},
     "output_type": "execute_result"
    }
   ],
   "source": [
    "type(s)"
   ]
  },
  {
   "cell_type": "code",
   "execution_count": 63,
   "id": "3be886cd",
   "metadata": {},
   "outputs": [
    {
     "name": "stdout",
     "output_type": "stream",
     "text": [
      "1\n",
      "2\n",
      "3\n",
      "akhil\n",
      "45\n"
     ]
    }
   ],
   "source": [
    "for i in s: \n",
    "    print(i)"
   ]
  },
  {
   "cell_type": "code",
   "execution_count": 65,
   "id": "c3aacf9c",
   "metadata": {},
   "outputs": [],
   "source": [
    "d = {\"k\":\"Kittu\", \"a\": \"Akhil\", \"f\":\"Farah\"}"
   ]
  },
  {
   "cell_type": "code",
   "execution_count": 66,
   "id": "d87ee7f0",
   "metadata": {},
   "outputs": [
    {
     "data": {
      "text/plain": [
       "dict"
      ]
     },
     "execution_count": 66,
     "metadata": {},
     "output_type": "execute_result"
    }
   ],
   "source": [
    "type(d)"
   ]
  },
  {
   "cell_type": "code",
   "execution_count": 75,
   "id": "182dc169",
   "metadata": {},
   "outputs": [
    {
     "name": "stdout",
     "output_type": "stream",
     "text": [
      "k\n",
      "a\n",
      "f\n"
     ]
    }
   ],
   "source": [
    "for i in d : \n",
    "    print(i) "
   ]
  },
  {
   "cell_type": "code",
   "execution_count": 77,
   "id": "b201160b",
   "metadata": {},
   "outputs": [
    {
     "name": "stdout",
     "output_type": "stream",
     "text": [
      "Kittu\n",
      "Akhil\n",
      "Farah\n"
     ]
    }
   ],
   "source": [
    "for i in d :  \n",
    "    print(d[i])"
   ]
  },
  {
   "cell_type": "code",
   "execution_count": 81,
   "id": "a27fbebd",
   "metadata": {},
   "outputs": [
    {
     "data": {
      "text/plain": [
       "range(0, 9)"
      ]
     },
     "execution_count": 81,
     "metadata": {},
     "output_type": "execute_result"
    }
   ],
   "source": [
    "range(9)"
   ]
  },
  {
   "cell_type": "code",
   "execution_count": 82,
   "id": "c84cd15a",
   "metadata": {},
   "outputs": [
    {
     "data": {
      "text/plain": [
       "range(2, 9)"
      ]
     },
     "execution_count": 82,
     "metadata": {},
     "output_type": "execute_result"
    }
   ],
   "source": [
    "range(2, 9)"
   ]
  },
  {
   "cell_type": "code",
   "execution_count": 83,
   "id": "6f77c02e",
   "metadata": {},
   "outputs": [
    {
     "name": "stdout",
     "output_type": "stream",
     "text": [
      "0\n",
      "1\n",
      "2\n",
      "3\n",
      "4\n",
      "5\n",
      "6\n",
      "7\n",
      "8\n"
     ]
    }
   ],
   "source": [
    "for i in range(0,9):\n",
    "    print(i)"
   ]
  },
  {
   "cell_type": "code",
   "execution_count": 84,
   "id": "afa039e9",
   "metadata": {},
   "outputs": [
    {
     "data": {
      "text/plain": [
       "[0, 1, 2, 3]"
      ]
     },
     "execution_count": 84,
     "metadata": {},
     "output_type": "execute_result"
    }
   ],
   "source": [
    "list(range(4))"
   ]
  },
  {
   "cell_type": "code",
   "execution_count": 85,
   "id": "d8a4f0be",
   "metadata": {},
   "outputs": [
    {
     "data": {
      "text/plain": [
       "[3, 4, 5, 6, 7, 8, 9]"
      ]
     },
     "execution_count": 85,
     "metadata": {},
     "output_type": "execute_result"
    }
   ],
   "source": [
    "list(range(3, 10))"
   ]
  },
  {
   "cell_type": "markdown",
   "id": "696fbb5b",
   "metadata": {},
   "source": [
    "### List of range b/w  4 to 10 with jump of 2"
   ]
  },
  {
   "cell_type": "code",
   "execution_count": 87,
   "id": "3cdc2320",
   "metadata": {},
   "outputs": [
    {
     "data": {
      "text/plain": [
       "[4, 6, 8]"
      ]
     },
     "execution_count": 87,
     "metadata": {},
     "output_type": "execute_result"
    }
   ],
   "source": [
    "list(range(4, 10, 2))"
   ]
  },
  {
   "cell_type": "code",
   "execution_count": 88,
   "id": "8176e9b6",
   "metadata": {},
   "outputs": [
    {
     "data": {
      "text/plain": [
       "[9, 8, 7, 6, 5, 4, 3, 2, 1]"
      ]
     },
     "execution_count": 88,
     "metadata": {},
     "output_type": "execute_result"
    }
   ],
   "source": [
    "list(range(9, 0, -1))"
   ]
  },
  {
   "cell_type": "markdown",
   "id": "39ed7e8f",
   "metadata": {},
   "source": [
    "## PATTERNS "
   ]
  },
  {
   "cell_type": "code",
   "execution_count": 92,
   "id": "a2cf7cd4",
   "metadata": {},
   "outputs": [
    {
     "name": "stdout",
     "output_type": "stream",
     "text": [
      "sudh \n",
      "\n",
      "sudh sudh \n",
      "\n",
      "sudh sudh sudh \n",
      "\n",
      "sudh sudh sudh sudh \n",
      "\n"
     ]
    }
   ],
   "source": [
    "n = 4\n",
    "for i in range(n):\n",
    "    for j in range(0, i+1):\n",
    "        print(\"sudh\", end = \" \" )\n",
    "    print(\"\\n\")"
   ]
  },
  {
   "cell_type": "code",
   "execution_count": 98,
   "id": "555f80a2",
   "metadata": {},
   "outputs": [
    {
     "name": "stdout",
     "output_type": "stream",
     "text": [
      "Akhil Akhil Akhil Akhil \n",
      "\n",
      "Akhil Akhil Akhil \n",
      "\n",
      "Akhil Akhil \n",
      "\n",
      "Akhil \n",
      "\n"
     ]
    }
   ],
   "source": [
    "for i in range(4, 0, -1):\n",
    "    for j in range(i): \n",
    "        print(\"Akhil\", end = \" \")\n",
    "    print(\"\\n\")\n",
    "    "
   ]
  },
  {
   "cell_type": "code",
   "execution_count": 122,
   "id": "9955e61c",
   "metadata": {},
   "outputs": [
    {
     "name": "stdout",
     "output_type": "stream",
     "text": [
      "                akhil \n",
      "\n",
      "             akhil  akhil \n",
      "\n",
      "          akhil  akhil  akhil \n",
      "\n",
      "       akhil  akhil  akhil  akhil \n",
      "\n",
      "    akhil  akhil  akhil  akhil  akhil \n",
      "\n",
      " akhil  akhil  akhil  akhil  akhil  akhil \n",
      "\n"
     ]
    }
   ],
   "source": [
    "n = 6;\n",
    "for i in range(1, n+1):\n",
    "    k = n - i;\n",
    "    for k in range(k):\n",
    "        print(\"   \", end = \"\");\n",
    "    for j in range(i):\n",
    "        print(\" akhil \", end = \"\")\n",
    "    print(\"\\n\")"
   ]
  },
  {
   "cell_type": "markdown",
   "id": "cdc4b95f",
   "metadata": {},
   "source": [
    "#### Store range in List "
   ]
  },
  {
   "cell_type": "code",
   "execution_count": 123,
   "id": "0d238857",
   "metadata": {},
   "outputs": [],
   "source": [
    "l = (list(range(0, 8)))"
   ]
  },
  {
   "cell_type": "code",
   "execution_count": 124,
   "id": "35e28fdb",
   "metadata": {},
   "outputs": [
    {
     "data": {
      "text/plain": [
       "[0, 1, 2, 3, 4, 5, 6, 7]"
      ]
     },
     "execution_count": 124,
     "metadata": {},
     "output_type": "execute_result"
    }
   ],
   "source": [
    "l"
   ]
  },
  {
   "cell_type": "code",
   "execution_count": 125,
   "id": "d461d67b",
   "metadata": {},
   "outputs": [],
   "source": [
    "l = list(range(9, 0, -1))"
   ]
  },
  {
   "cell_type": "code",
   "execution_count": 126,
   "id": "db9bc950",
   "metadata": {},
   "outputs": [
    {
     "data": {
      "text/plain": [
       "[9, 8, 7, 6, 5, 4, 3, 2, 1]"
      ]
     },
     "execution_count": 126,
     "metadata": {},
     "output_type": "execute_result"
    }
   ],
   "source": [
    "l"
   ]
  },
  {
   "cell_type": "code",
   "execution_count": null,
   "id": "e5b110cf",
   "metadata": {},
   "outputs": [],
   "source": []
  }
 ],
 "metadata": {
  "kernelspec": {
   "display_name": "Python 3 (ipykernel)",
   "language": "python",
   "name": "python3"
  },
  "language_info": {
   "codemirror_mode": {
    "name": "ipython",
    "version": 3
   },
   "file_extension": ".py",
   "mimetype": "text/x-python",
   "name": "python",
   "nbconvert_exporter": "python",
   "pygments_lexer": "ipython3",
   "version": "3.9.7"
  }
 },
 "nbformat": 4,
 "nbformat_minor": 5
}
