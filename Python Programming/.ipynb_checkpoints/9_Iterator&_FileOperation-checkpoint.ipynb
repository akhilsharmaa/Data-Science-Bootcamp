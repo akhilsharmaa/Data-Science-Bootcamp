{
 "cells": [
  {
   "cell_type": "markdown",
   "id": "b6f34af4",
   "metadata": {},
   "source": [
    "### Iterators "
   ]
  },
  {
   "cell_type": "code",
   "execution_count": 1,
   "id": "d3303b78",
   "metadata": {},
   "outputs": [],
   "source": [
    "l= [1, 2, 3, 7, 9]"
   ]
  },
  {
   "cell_type": "code",
   "execution_count": 2,
   "id": "40131e5d",
   "metadata": {
    "scrolled": true
   },
   "outputs": [
    {
     "name": "stdout",
     "output_type": "stream",
     "text": [
      "1\n",
      "2\n",
      "3\n",
      "7\n",
      "9\n"
     ]
    }
   ],
   "source": [
    "for i in l:\n",
    "    print(i)"
   ]
  },
  {
   "cell_type": "code",
   "execution_count": 4,
   "id": "59291280",
   "metadata": {},
   "outputs": [],
   "source": [
    "b = iter(l);"
   ]
  },
  {
   "cell_type": "code",
   "execution_count": 5,
   "id": "2a0ecb12",
   "metadata": {},
   "outputs": [
    {
     "data": {
      "text/plain": [
       "1"
      ]
     },
     "execution_count": 5,
     "metadata": {},
     "output_type": "execute_result"
    }
   ],
   "source": [
    "next(b)"
   ]
  },
  {
   "cell_type": "code",
   "execution_count": 6,
   "id": "872e3774",
   "metadata": {},
   "outputs": [
    {
     "data": {
      "text/plain": [
       "2"
      ]
     },
     "execution_count": 6,
     "metadata": {},
     "output_type": "execute_result"
    }
   ],
   "source": [
    "next(b)"
   ]
  },
  {
   "cell_type": "code",
   "execution_count": 7,
   "id": "82cedbb0",
   "metadata": {},
   "outputs": [
    {
     "data": {
      "text/plain": [
       "3"
      ]
     },
     "execution_count": 7,
     "metadata": {},
     "output_type": "execute_result"
    }
   ],
   "source": [
    "next(b)"
   ]
  },
  {
   "cell_type": "code",
   "execution_count": 8,
   "id": "8849df9e",
   "metadata": {},
   "outputs": [
    {
     "data": {
      "text/plain": [
       "7"
      ]
     },
     "execution_count": 8,
     "metadata": {},
     "output_type": "execute_result"
    }
   ],
   "source": [
    "next(b)"
   ]
  },
  {
   "cell_type": "code",
   "execution_count": 9,
   "id": "d5298eb1",
   "metadata": {},
   "outputs": [
    {
     "data": {
      "text/plain": [
       "9"
      ]
     },
     "execution_count": 9,
     "metadata": {},
     "output_type": "execute_result"
    }
   ],
   "source": [
    "next(b)"
   ]
  },
  {
   "cell_type": "code",
   "execution_count": 10,
   "id": "693120a6",
   "metadata": {},
   "outputs": [
    {
     "name": "stdout",
     "output_type": "stream",
     "text": [
      "1\n",
      "2\n",
      "3\n",
      "7\n",
      "9\n"
     ]
    }
   ],
   "source": [
    "for i in l:\n",
    "    print(i)"
   ]
  },
  {
   "cell_type": "code",
   "execution_count": 11,
   "id": "00d355dd",
   "metadata": {},
   "outputs": [],
   "source": [
    "s = \"akhil\";"
   ]
  },
  {
   "cell_type": "code",
   "execution_count": 12,
   "id": "66f51a5d",
   "metadata": {},
   "outputs": [],
   "source": [
    "i = iter(s)"
   ]
  },
  {
   "cell_type": "code",
   "execution_count": 13,
   "id": "0c3835ab",
   "metadata": {},
   "outputs": [
    {
     "data": {
      "text/plain": [
       "'a'"
      ]
     },
     "execution_count": 13,
     "metadata": {},
     "output_type": "execute_result"
    }
   ],
   "source": [
    "next(i)"
   ]
  },
  {
   "cell_type": "code",
   "execution_count": 14,
   "id": "293f496c",
   "metadata": {},
   "outputs": [
    {
     "data": {
      "text/plain": [
       "'k'"
      ]
     },
     "execution_count": 14,
     "metadata": {},
     "output_type": "execute_result"
    }
   ],
   "source": [
    "next(i)"
   ]
  },
  {
   "cell_type": "code",
   "execution_count": 15,
   "id": "74626175",
   "metadata": {},
   "outputs": [
    {
     "data": {
      "text/plain": [
       "'h'"
      ]
     },
     "execution_count": 15,
     "metadata": {},
     "output_type": "execute_result"
    }
   ],
   "source": [
    "next(i)"
   ]
  },
  {
   "cell_type": "code",
   "execution_count": 16,
   "id": "e0cd6ea5",
   "metadata": {},
   "outputs": [
    {
     "data": {
      "text/plain": [
       "'i'"
      ]
     },
     "execution_count": 16,
     "metadata": {},
     "output_type": "execute_result"
    }
   ],
   "source": [
    "next(i)"
   ]
  },
  {
   "cell_type": "code",
   "execution_count": 17,
   "id": "e7e12d5a",
   "metadata": {},
   "outputs": [
    {
     "data": {
      "text/plain": [
       "'l'"
      ]
     },
     "execution_count": 17,
     "metadata": {},
     "output_type": "execute_result"
    }
   ],
   "source": [
    "next(i)"
   ]
  },
  {
   "cell_type": "code",
   "execution_count": 18,
   "id": "77c5593a",
   "metadata": {},
   "outputs": [
    {
     "name": "stdout",
     "output_type": "stream",
     "text": [
      "a k h i l "
     ]
    }
   ],
   "source": [
    "for i in s: \n",
    "    print(i, end=\" \")"
   ]
  },
  {
   "cell_type": "code",
   "execution_count": 19,
   "id": "0d89820b",
   "metadata": {},
   "outputs": [
    {
     "data": {
      "text/plain": [
       "[1, 2, 3, 4, 5, 6, 7, 8, 9]"
      ]
     },
     "execution_count": 19,
     "metadata": {},
     "output_type": "execute_result"
    }
   ],
   "source": [
    "list(range(1, 10))"
   ]
  },
  {
   "cell_type": "code",
   "execution_count": 20,
   "id": "7f2d4539",
   "metadata": {},
   "outputs": [],
   "source": [
    "# Function to generate square function \n",
    "def sqr(x, y):\n",
    "    l = []\n",
    "    for i in range(1, 10):\n",
    "        l.append(i * i);\n",
    "    \n",
    "    return l;"
   ]
  },
  {
   "cell_type": "code",
   "execution_count": 21,
   "id": "80a5c87b",
   "metadata": {},
   "outputs": [],
   "source": [
    "# Function to generate square function \n",
    "def sqr2(x, y):\n",
    "    x = [i*i for i in range(x, y)];\n",
    "    return x;"
   ]
  },
  {
   "cell_type": "code",
   "execution_count": 22,
   "id": "f6386620",
   "metadata": {},
   "outputs": [],
   "source": [
    "l = sqr(0, 12);"
   ]
  },
  {
   "cell_type": "code",
   "execution_count": 23,
   "id": "01b8afc3",
   "metadata": {},
   "outputs": [
    {
     "name": "stdout",
     "output_type": "stream",
     "text": [
      "1 4 9 16 25 36 49 64 81 "
     ]
    }
   ],
   "source": [
    "for i in l:\n",
    "    print(i, end=\" \")"
   ]
  },
  {
   "cell_type": "code",
   "execution_count": 24,
   "id": "fc1b37cb",
   "metadata": {},
   "outputs": [],
   "source": [
    "# Function to generate square function \n",
    "def sqr3(x, y):\n",
    "    x = [i*i for i in range(x, y)];\n",
    "    yield x;"
   ]
  },
  {
   "cell_type": "code",
   "execution_count": 25,
   "id": "69711c98",
   "metadata": {},
   "outputs": [
    {
     "data": {
      "text/plain": [
       "<generator object sqr3 at 0x7fbd30045c10>"
      ]
     },
     "execution_count": 25,
     "metadata": {},
     "output_type": "execute_result"
    }
   ],
   "source": [
    "sqr3(3,12)"
   ]
  },
  {
   "cell_type": "code",
   "execution_count": 26,
   "id": "31842553",
   "metadata": {},
   "outputs": [
    {
     "name": "stdout",
     "output_type": "stream",
     "text": [
      "[4, 9, 16, 25, 36, 49, 64]\n"
     ]
    }
   ],
   "source": [
    "for i in sqr3(2, 9):\n",
    "    print(i)"
   ]
  },
  {
   "cell_type": "code",
   "execution_count": 27,
   "id": "2f2ed8be",
   "metadata": {},
   "outputs": [],
   "source": [
    "def getFibo(n):\n",
    "    a = 1\n",
    "    b = 1\n",
    "    l = []\n",
    "    for i in range(n):\n",
    "        l.append(a);\n",
    "        temp = b;\n",
    "        a, b= temp, a+temp;\n",
    "    yield l"
   ]
  },
  {
   "cell_type": "code",
   "execution_count": null,
   "id": "4b6d6151",
   "metadata": {},
   "outputs": [],
   "source": [
    "# l = getFibo(10)\n",
    "\n",
    "for i in getFibo(10000000000):\n",
    "    print(i)"
   ]
  },
  {
   "cell_type": "markdown",
   "id": "a2651a8e",
   "metadata": {},
   "source": [
    "## File Operation "
   ]
  },
  {
   "cell_type": "code",
   "execution_count": null,
   "id": "0d180a27",
   "metadata": {},
   "outputs": [],
   "source": [
    "# To open a file.\n",
    "f = open(\"akhil.txt\", \"w\")\n",
    "\n",
    "# This will create the file named \"akhil.txt\" ."
   ]
  },
  {
   "cell_type": "code",
   "execution_count": null,
   "id": "e9930d88",
   "metadata": {},
   "outputs": [],
   "source": [
    "ls"
   ]
  },
  {
   "cell_type": "code",
   "execution_count": null,
   "id": "1b57099b",
   "metadata": {},
   "outputs": [],
   "source": [
    "f.write(\"This is my First writing operation in python \")"
   ]
  },
  {
   "cell_type": "code",
   "execution_count": null,
   "id": "c61408d1",
   "metadata": {},
   "outputs": [],
   "source": [
    "f.close()"
   ]
  },
  {
   "cell_type": "code",
   "execution_count": null,
   "id": "cc777f13",
   "metadata": {},
   "outputs": [],
   "source": [
    "ls"
   ]
  },
  {
   "cell_type": "markdown",
   "id": "3875d60f",
   "metadata": {},
   "source": [
    " "
   ]
  },
  {
   "cell_type": "code",
   "execution_count": null,
   "id": "24a61c3c",
   "metadata": {},
   "outputs": [],
   "source": [
    "f1 = open(\"test1.txt\", \"w\");\n",
    "f1.write(\"This is second file operation \")"
   ]
  },
  {
   "cell_type": "code",
   "execution_count": null,
   "id": "f508ad45",
   "metadata": {},
   "outputs": [],
   "source": [
    "l = [i * i for i in range(0, 200)]\n"
   ]
  },
  {
   "cell_type": "code",
   "execution_count": null,
   "id": "5cbd211c",
   "metadata": {},
   "outputs": [],
   "source": [
    "f1.write(str(k))"
   ]
  },
  {
   "cell_type": "code",
   "execution_count": null,
   "id": "3674f428",
   "metadata": {},
   "outputs": [],
   "source": [
    "f1.close()"
   ]
  },
  {
   "cell_type": "code",
   "execution_count": null,
   "id": "223ecd26",
   "metadata": {},
   "outputs": [],
   "source": []
  }
 ],
 "metadata": {
  "kernelspec": {
   "display_name": "Python 3 (ipykernel)",
   "language": "python",
   "name": "python3"
  },
  "language_info": {
   "codemirror_mode": {
    "name": "ipython",
    "version": 3
   },
   "file_extension": ".py",
   "mimetype": "text/x-python",
   "name": "python",
   "nbconvert_exporter": "python",
   "pygments_lexer": "ipython3",
   "version": "3.9.7"
  }
 },
 "nbformat": 4,
 "nbformat_minor": 5
}
