{
 "cells": [
  {
   "cell_type": "code",
   "execution_count": 43,
   "id": "352b804f",
   "metadata": {},
   "outputs": [],
   "source": [
    "l = [1, 2, 3, 4, \"a\", \"c\", \"akhil\", \"*\"]"
   ]
  },
  {
   "cell_type": "code",
   "execution_count": 14,
   "id": "575548cc",
   "metadata": {},
   "outputs": [
    {
     "name": "stdout",
     "output_type": "stream",
     "text": [
      "1\n",
      "2\n",
      "23\n",
      "Aji\n",
      "*\n"
     ]
    }
   ],
   "source": [
    " for i in l :\n",
    "        print(i)"
   ]
  },
  {
   "cell_type": "code",
   "execution_count": 15,
   "id": "acfd5c66",
   "metadata": {},
   "outputs": [],
   "source": [
    " for i in l : \n",
    "    pass"
   ]
  },
  {
   "cell_type": "code",
   "execution_count": 16,
   "id": "47fb0077",
   "metadata": {},
   "outputs": [],
   "source": [
    "s = \"sudh\""
   ]
  },
  {
   "cell_type": "code",
   "execution_count": 17,
   "id": "51af2288",
   "metadata": {},
   "outputs": [
    {
     "name": "stdout",
     "output_type": "stream",
     "text": [
      "s\n",
      "u\n",
      "d\n",
      "h\n"
     ]
    }
   ],
   "source": [
    "for i in s : \n",
    "    print(i)"
   ]
  },
  {
   "cell_type": "code",
   "execution_count": 36,
   "id": "d28f66c5",
   "metadata": {},
   "outputs": [
    {
     "name": "stdout",
     "output_type": "stream",
     "text": [
      "1\n",
      "2\n",
      "23\n",
      "Aji\n",
      "*\n",
      "This will execute only if for is going to complete itself.\n"
     ]
    }
   ],
   "source": [
    "for i in l : \n",
    "    print(i);\n",
    "else : \n",
    "    print(\"This will execute only if for is going to complete itself.\");"
   ]
  },
  {
   "cell_type": "code",
   "execution_count": 34,
   "id": "a7dcd851",
   "metadata": {},
   "outputs": [
    {
     "name": "stdout",
     "output_type": "stream",
     "text": [
      "1\n",
      "2\n"
     ]
    }
   ],
   "source": [
    "for i in l : \n",
    "    if i == \"23\":\n",
    "        break;\n",
    "    print(i)\n",
    "else : \n",
    "    print(\"This will execute only if for is going to complete itself.\");"
   ]
  },
  {
   "cell_type": "code",
   "execution_count": 53,
   "id": "80cab5de",
   "metadata": {},
   "outputs": [
    {
     "name": "stdout",
     "output_type": "stream",
     "text": [
      "print char :  A\n",
      "print char :  k\n",
      "print char :  h\n",
      "print char :  i\n"
     ]
    }
   ],
   "source": [
    "a = \"Akhilesh\"\n",
    "\n",
    "for i in a :\n",
    "    if i == 'l' :\n",
    "        break;\n",
    "    print(\"print char : \", i)"
   ]
  },
  {
   "cell_type": "code",
   "execution_count": 56,
   "id": "37d9c0e1",
   "metadata": {},
   "outputs": [],
   "source": [
    "s = {1, 2, 3, 45, \"akhil\"}"
   ]
  },
  {
   "cell_type": "code",
   "execution_count": null,
   "id": "310e3b2e",
   "metadata": {},
   "outputs": [],
   "source": []
  }
 ],
 "metadata": {
  "kernelspec": {
   "display_name": "Python 3 (ipykernel)",
   "language": "python",
   "name": "python3"
  },
  "language_info": {
   "codemirror_mode": {
    "name": "ipython",
    "version": 3
   },
   "file_extension": ".py",
   "mimetype": "text/x-python",
   "name": "python",
   "nbconvert_exporter": "python",
   "pygments_lexer": "ipython3",
   "version": "3.9.7"
  }
 },
 "nbformat": 4,
 "nbformat_minor": 5
}
