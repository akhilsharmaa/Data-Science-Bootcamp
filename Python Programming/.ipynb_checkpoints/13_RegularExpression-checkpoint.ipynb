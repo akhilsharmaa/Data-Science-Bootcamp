{
 "cells": [
  {
   "cell_type": "markdown",
   "id": "a2f6913b",
   "metadata": {},
   "source": [
    "## Regular Expression ( RegEx )"
   ]
  },
  {
   "cell_type": "code",
   "execution_count": 4,
   "id": "b9955e15",
   "metadata": {},
   "outputs": [],
   "source": [
    "import re\n",
    "\n",
    "nameage= '''Jaince is 22 ans Theon is 33 \n",
    "Gabrial is 34'''"
   ]
  },
  {
   "cell_type": "code",
   "execution_count": 5,
   "id": "b2a85ed0",
   "metadata": {},
   "outputs": [
    {
     "data": {
      "text/plain": [
       "'Jaince is 22 ans Theon is 33 \\nGabrial is 34'"
      ]
     },
     "execution_count": 5,
     "metadata": {},
     "output_type": "execute_result"
    }
   ],
   "source": [
    "nameage"
   ]
  },
  {
   "cell_type": "code",
   "execution_count": 31,
   "id": "05c55392",
   "metadata": {},
   "outputs": [
    {
     "name": "stdout",
     "output_type": "stream",
     "text": [
      "['22', '33', '34']\n"
     ]
    }
   ],
   "source": [
    "# Finding all the The Numbers \n",
    "\n",
    "ages = re.findall(r'\\d{1,3}', nameage)\n",
    "print(ages)"
   ]
  },
  {
   "cell_type": "code",
   "execution_count": 32,
   "id": "01b20423",
   "metadata": {},
   "outputs": [
    {
     "name": "stdout",
     "output_type": "stream",
     "text": [
      "['Jaince', 'Theon', 'Gabrial']\n"
     ]
    }
   ],
   "source": [
    "# Find all the Words starting from Capital letter\n",
    "\n",
    "names = re.findall(r'[A-Z][a-z]*', nameage)\n",
    "print(names)"
   ]
  },
  {
   "cell_type": "code",
   "execution_count": 33,
   "id": "dcea5354",
   "metadata": {},
   "outputs": [
    {
     "data": {
      "text/plain": [
       "{'Jaince': '22', 'Theon': '33', 'Gabrial': '34'}"
      ]
     },
     "execution_count": 33,
     "metadata": {},
     "output_type": "execute_result"
    }
   ],
   "source": [
    "ageDict = {}\n",
    "\n",
    "x = 0\n",
    "for i in names: \n",
    "    ageDict[i] = ages[x]\n",
    "    x+= 1\n",
    "    \n",
    "ageDict"
   ]
  },
  {
   "cell_type": "markdown",
   "id": "7d7dc1b2",
   "metadata": {},
   "source": [
    "### Search using RegEx"
   ]
  },
  {
   "cell_type": "code",
   "execution_count": 34,
   "id": "a270f8b4",
   "metadata": {},
   "outputs": [
    {
     "name": "stdout",
     "output_type": "stream",
     "text": [
      "Yes Available\n"
     ]
    }
   ],
   "source": [
    "s = 'we need to informs him about the latest news.'\n",
    "\n",
    "if re.search(\"inform\", s): \n",
    "    print(\"Yes Available\")\n",
    "else :\n",
    "    print(\"Not Available\")"
   ]
  },
  {
   "cell_type": "code",
   "execution_count": 45,
   "id": "a5978abb",
   "metadata": {},
   "outputs": [
    {
     "name": "stdout",
     "output_type": "stream",
     "text": [
      "(11, 17)\n"
     ]
    }
   ],
   "source": [
    "# Find the Index of the searched word.\n",
    "str = 'we need to inform him about the latest news imformation that is imformed ?'\n",
    "\n",
    "for i in re.finditer(\"inform\", str):\n",
    "    tup = i.span()\n",
    "    print(tup)"
   ]
  },
  {
   "cell_type": "code",
   "execution_count": 61,
   "id": "7f0a0bb6",
   "metadata": {},
   "outputs": [
    {
     "name": "stdout",
     "output_type": "stream",
     "text": [
      "Sat\n",
      "Mat\n",
      "bat\n",
      "pat\n"
     ]
    }
   ],
   "source": [
    "str = \"Sat Mat bat pat\"\n",
    "allstr = re.findall('[SMbp]at', str)\n",
    "\n",
    "for i in allstr: \n",
    "    print(i)"
   ]
  },
  {
   "cell_type": "code",
   "execution_count": 66,
   "id": "58619b09",
   "metadata": {},
   "outputs": [
    {
     "name": "stdout",
     "output_type": "stream",
     "text": [
      "Sat\n",
      "bat\n",
      "pat\n"
     ]
    }
   ],
   "source": [
    "str = \"Sat Mat bat pat\"\n",
    "allstr = re.findall('[^H-M]at', str)\n",
    "\n",
    "for i in allstr: \n",
    "    print(i)"
   ]
  },
  {
   "cell_type": "code",
   "execution_count": null,
   "id": "91053fcd",
   "metadata": {},
   "outputs": [],
   "source": []
  }
 ],
 "metadata": {
  "kernelspec": {
   "display_name": "Python 3 (ipykernel)",
   "language": "python",
   "name": "python3"
  },
  "language_info": {
   "codemirror_mode": {
    "name": "ipython",
    "version": 3
   },
   "file_extension": ".py",
   "mimetype": "text/x-python",
   "name": "python",
   "nbconvert_exporter": "python",
   "pygments_lexer": "ipython3",
   "version": "3.9.7"
  }
 },
 "nbformat": 4,
 "nbformat_minor": 5
}
