{
 "cells": [
  {
   "cell_type": "markdown",
   "id": "b5700ee7",
   "metadata": {},
   "source": [
    "### While Loop"
   ]
  },
  {
   "cell_type": "code",
   "execution_count": 1,
   "id": "8a660534",
   "metadata": {},
   "outputs": [
    {
     "name": "stdout",
     "output_type": "stream",
     "text": [
      "1\n",
      "2\n",
      "3\n",
      "4\n",
      "5\n",
      "6\n",
      "7\n",
      "8\n",
      "9\n",
      "10\n",
      "11\n",
      "12\n"
     ]
    }
   ],
   "source": [
    "a = 1\n",
    "b = 12\n",
    "\n",
    "while a <= b : \n",
    "    print(a);\n",
    "    a = a+ 1;"
   ]
  },
  {
   "cell_type": "markdown",
   "id": "ac14384d",
   "metadata": {},
   "source": [
    "### While-Else Loop"
   ]
  },
  {
   "cell_type": "code",
   "execution_count": 2,
   "id": "212b3edf",
   "metadata": {
    "scrolled": true
   },
   "outputs": [
    {
     "name": "stdout",
     "output_type": "stream",
     "text": [
      "1\n",
      "2\n",
      "3\n",
      "4\n",
      "5\n",
      "6\n",
      "7\n",
      "8\n",
      "9\n",
      "10\n",
      "11\n",
      "12\n",
      "This runs while loop is completed\n"
     ]
    }
   ],
   "source": [
    "a = 1\n",
    "b = 12;\n",
    "\n",
    "while a <= b : \n",
    "    print(a);\n",
    "    a= a +1;\n",
    "else : \n",
    "    print(\"This runs while loop is completed\")"
   ]
  },
  {
   "cell_type": "code",
   "execution_count": 3,
   "id": "e3101f11",
   "metadata": {},
   "outputs": [
    {
     "name": "stdout",
     "output_type": "stream",
     "text": [
      "1\n",
      "2\n",
      "3\n",
      "4\n",
      "5\n",
      "6\n"
     ]
    }
   ],
   "source": [
    "a = 1\n",
    "b = 12;\n",
    "\n",
    "while a <= b : \n",
    "    print(a);\n",
    "    if a == 6 :\n",
    "        break;\n",
    "    a= a +1;\n",
    "else : \n",
    "    print(\"This runs while loop is completed\")"
   ]
  },
  {
   "cell_type": "markdown",
   "id": "043a4879",
   "metadata": {},
   "source": [
    "### While Else Loop"
   ]
  },
  {
   "cell_type": "code",
   "execution_count": 4,
   "id": "13426daf",
   "metadata": {},
   "outputs": [
    {
     "name": "stdout",
     "output_type": "stream",
     "text": [
      "2\n",
      "3\n",
      "4\n",
      "5\n",
      "7\n",
      "8\n",
      "9\n",
      "10\n",
      "11\n",
      "12\n",
      "13\n",
      "This runs while loop is completed\n"
     ]
    }
   ],
   "source": [
    "a = 1\n",
    "b = 12;\n",
    "\n",
    "while a <= b : \n",
    "    a= a +1;\n",
    "    if a == 6 :\n",
    "        continue;\n",
    "    print(a);\n",
    "    \n",
    "else : \n",
    "    print(\"This runs while loop is completed\")"
   ]
  },
  {
   "cell_type": "markdown",
   "id": "169500a1",
   "metadata": {},
   "source": [
    "### Print the list with while loop "
   ]
  },
  {
   "cell_type": "code",
   "execution_count": 5,
   "id": "b90f53e4",
   "metadata": {},
   "outputs": [
    {
     "name": "stdout",
     "output_type": "stream",
     "text": [
      "1\n",
      "3\n",
      "5\n",
      "10\n",
      "19\n",
      "122\n"
     ]
    }
   ],
   "source": [
    "l = [1, 3, 5, 10, 19, 122];\n",
    "\n",
    "i = 0\n",
    "\n",
    "while i < len(l) : \n",
    "    print(l[i]);\n",
    "    i = i +1;\n",
    "    "
   ]
  },
  {
   "cell_type": "code",
   "execution_count": 6,
   "id": "53d02bec",
   "metadata": {},
   "outputs": [
    {
     "name": "stdout",
     "output_type": "stream",
     "text": [
      "1\n",
      "4\n",
      "6\n",
      "112\n",
      "32\n",
      "Akhil\n",
      "3fj\n"
     ]
    }
   ],
   "source": [
    "# Print Tuples using while loop \n",
    "t = (1, 4, 6, 112, 32, \"Akhil\", \"3fj\")\n",
    "\n",
    "i = 0;\n",
    "while i < len(t):\n",
    "    print(t[i])\n",
    "    i = i + 1;"
   ]
  },
  {
   "cell_type": "code",
   "execution_count": 7,
   "id": "9075b8ae",
   "metadata": {
    "scrolled": true
   },
   "outputs": [
    {
     "name": "stdout",
     "output_type": "stream",
     "text": [
      "3fj\n",
      "Akhil\n",
      "32\n",
      "112\n",
      "6\n",
      "4\n",
      "1\n"
     ]
    }
   ],
   "source": [
    "# Print Tuples in backward indexes \n",
    "\n",
    "i = -1;\n",
    "n = -len(t);\n",
    "\n",
    "while i >= n :\n",
    "    print(t[i])\n",
    "    i-=1;\n",
    "    "
   ]
  },
  {
   "cell_type": "code",
   "execution_count": 2,
   "id": "5fea720a",
   "metadata": {},
   "outputs": [
    {
     "name": "stdout",
     "output_type": "stream",
     "text": [
      "Akhil\n",
      "Akki\n",
      "[1, 2, 3, 4, 5]\n",
      "(3, 4, 5)\n",
      "Kittu\n"
     ]
    }
   ],
   "source": [
    "# Print the Dictionary values through while loop\n",
    "\n",
    "d = {\"key\":\"Akhil\", \"Key2\":\"Akki\", 1:[1, 2, 3, 4, 5], 2:(3, 4, 5), \"Key3\":\"Kittu\"}\n",
    "\n",
    "a = 0\n",
    "b = list(d.keys());\n",
    "\n",
    "while a < len(b): \n",
    "    print(d[b[a]])\n",
    "    a+=1\n",
    "    "
   ]
  },
  {
   "cell_type": "code",
   "execution_count": 6,
   "id": "66ca68a6",
   "metadata": {},
   "outputs": [
    {
     "data": {
      "text/plain": [
       "['Akhil', 'Akki', [1, 2, 3, 4, 5], (3, 4, 5), 'Kittu']"
      ]
     },
     "execution_count": 6,
     "metadata": {},
     "output_type": "execute_result"
    }
   ],
   "source": [
    "b"
   ]
  },
  {
   "cell_type": "markdown",
   "id": "8c83cda7",
   "metadata": {},
   "source": [
    "# Functions \n",
    "with diffrent return type"
   ]
  },
  {
   "cell_type": "code",
   "execution_count": 6,
   "id": "dc8d2932",
   "metadata": {},
   "outputs": [],
   "source": [
    "# Funtion with name test - return type null \n",
    "\n",
    "def test():\n",
    "    print(\"This is Test Function.\")"
   ]
  },
  {
   "cell_type": "code",
   "execution_count": 10,
   "id": "7fdc09fe",
   "metadata": {},
   "outputs": [
    {
     "name": "stdout",
     "output_type": "stream",
     "text": [
      "This is Test Function.\n"
     ]
    }
   ],
   "source": [
    "test()"
   ]
  },
  {
   "cell_type": "code",
   "execution_count": 13,
   "id": "bf1173c2",
   "metadata": {},
   "outputs": [],
   "source": [
    "# Funtion with name test2 - return type string\n",
    "\n",
    "def test2():\n",
    "    return \"This is my test return function.\";"
   ]
  },
  {
   "cell_type": "code",
   "execution_count": 16,
   "id": "3dd1fa64",
   "metadata": {},
   "outputs": [
    {
     "data": {
      "text/plain": [
       "'This is my test return function.'"
      ]
     },
     "execution_count": 16,
     "metadata": {},
     "output_type": "execute_result"
    }
   ],
   "source": [
    "test2()"
   ]
  },
  {
   "cell_type": "code",
   "execution_count": 19,
   "id": "edea3feb",
   "metadata": {},
   "outputs": [
    {
     "data": {
      "text/plain": [
       "str"
      ]
     },
     "execution_count": 19,
     "metadata": {},
     "output_type": "execute_result"
    }
   ],
   "source": [
    "type(test2())"
   ]
  },
  {
   "cell_type": "code",
   "execution_count": 21,
   "id": "e2bdd2a5",
   "metadata": {},
   "outputs": [],
   "source": [
    "def test3():\n",
    "    pass"
   ]
  },
  {
   "cell_type": "code",
   "execution_count": 22,
   "id": "c93eb1a3",
   "metadata": {},
   "outputs": [],
   "source": [
    "def test4():\n",
    "    return 1, 3, 4, 5, {1, 5, 6, 9};x"
   ]
  },
  {
   "cell_type": "code",
   "execution_count": 24,
   "id": "e9be7fe0",
   "metadata": {},
   "outputs": [
    {
     "data": {
      "text/plain": [
       "(1, 3, 4, 5, {1, 5, 6, 9})"
      ]
     },
     "execution_count": 24,
     "metadata": {},
     "output_type": "execute_result"
    }
   ],
   "source": [
    "test4()"
   ]
  },
  {
   "cell_type": "code",
   "execution_count": 25,
   "id": "33892fdc",
   "metadata": {},
   "outputs": [],
   "source": [
    "def test5():\n",
    "    return 1, 4;"
   ]
  },
  {
   "cell_type": "code",
   "execution_count": 31,
   "id": "96e5a3ef",
   "metadata": {},
   "outputs": [],
   "source": [
    "g = test5()"
   ]
  },
  {
   "cell_type": "code",
   "execution_count": 32,
   "id": "07b4b7a8",
   "metadata": {},
   "outputs": [
    {
     "data": {
      "text/plain": [
       "(1, 4)"
      ]
     },
     "execution_count": 32,
     "metadata": {},
     "output_type": "execute_result"
    }
   ],
   "source": [
    "g"
   ]
  },
  {
   "cell_type": "code",
   "execution_count": 33,
   "id": "ee86a886",
   "metadata": {},
   "outputs": [],
   "source": [
    "_, b = g"
   ]
  },
  {
   "cell_type": "code",
   "execution_count": 34,
   "id": "7ad1f89b",
   "metadata": {},
   "outputs": [
    {
     "data": {
      "text/plain": [
       "4"
      ]
     },
     "execution_count": 34,
     "metadata": {},
     "output_type": "execute_result"
    }
   ],
   "source": [
    "b"
   ]
  },
  {
   "cell_type": "markdown",
   "id": "f4a8bc09",
   "metadata": {},
   "source": [
    "### Passing the value in Function "
   ]
  },
  {
   "cell_type": "code",
   "execution_count": 41,
   "id": "274befe8",
   "metadata": {},
   "outputs": [],
   "source": [
    "def test5(a, b):\n",
    "    while a <= b :\n",
    "        print(a);\n",
    "        a+= 1;"
   ]
  },
  {
   "cell_type": "code",
   "execution_count": 42,
   "id": "ea2485e1",
   "metadata": {},
   "outputs": [
    {
     "name": "stdout",
     "output_type": "stream",
     "text": [
      "0\n",
      "1\n",
      "2\n",
      "3\n",
      "4\n",
      "5\n"
     ]
    }
   ],
   "source": [
    "test5(0, 5);"
   ]
  },
  {
   "cell_type": "code",
   "execution_count": 2,
   "id": "50663952",
   "metadata": {},
   "outputs": [],
   "source": [
    "l3 = [1, 2, 34, 5, 8, 110]"
   ]
  },
  {
   "cell_type": "code",
   "execution_count": null,
   "id": "d2919cbe",
   "metadata": {},
   "outputs": [],
   "source": []
  }
 ],
 "metadata": {
  "kernelspec": {
   "display_name": "Python 3 (ipykernel)",
   "language": "python",
   "name": "python3"
  },
  "language_info": {
   "codemirror_mode": {
    "name": "ipython",
    "version": 3
   },
   "file_extension": ".py",
   "mimetype": "text/x-python",
   "name": "python",
   "nbconvert_exporter": "python",
   "pygments_lexer": "ipython3",
   "version": "3.9.7"
  }
 },
 "nbformat": 4,
 "nbformat_minor": 5
}
