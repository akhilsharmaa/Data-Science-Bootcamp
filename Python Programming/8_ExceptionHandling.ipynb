{
 "cells": [
  {
   "cell_type": "markdown",
   "id": "44457ead",
   "metadata": {},
   "source": [
    "# Types of Error \n",
    "\n",
    "### Why Exception handling \n",
    "* If we not do exception handling our further code will not run.\n",
    "* Not user friendly"
   ]
  },
  {
   "cell_type": "code",
   "execution_count": 1,
   "id": "d17e3e85",
   "metadata": {},
   "outputs": [
    {
     "name": "stdout",
     "output_type": "stream",
     "text": [
      "30\n"
     ]
    }
   ],
   "source": [
    "a = 10\n",
    "b = 20\n",
    "c = a + b;\n",
    "print(c)"
   ]
  },
  {
   "cell_type": "code",
   "execution_count": 2,
   "id": "6dbe6557",
   "metadata": {},
   "outputs": [
    {
     "ename": "SyntaxError",
     "evalue": "unexpected EOF while parsing (1262284374.py, line 4)",
     "output_type": "error",
     "traceback": [
      "\u001b[0;36m  File \u001b[0;32m\"/var/folders/72/_q59jbdn7sj2yp5__ym344bc0000gn/T/ipykernel_36459/1262284374.py\"\u001b[0;36m, line \u001b[0;32m4\u001b[0m\n\u001b[0;31m    print(c\u001b[0m\n\u001b[0m           ^\u001b[0m\n\u001b[0;31mSyntaxError\u001b[0m\u001b[0;31m:\u001b[0m unexpected EOF while parsing\n"
     ]
    }
   ],
   "source": [
    "a = 10\n",
    "b = 20\n",
    "c = a + b;\n",
    "print(c"
   ]
  },
  {
   "cell_type": "code",
   "execution_count": null,
   "id": "b492c0be",
   "metadata": {},
   "outputs": [],
   "source": [
    "a = 10\n",
    "b = 'a'\n",
    "c = a + b;\n",
    "print(c)\n",
    "\n",
    "# this is a Runtime error | This is a exception."
   ]
  },
  {
   "cell_type": "markdown",
   "id": "281880f8",
   "metadata": {},
   "source": [
    "## Runtime error aka Exception error"
   ]
  },
  {
   "cell_type": "code",
   "execution_count": 4,
   "id": "ae6437ef",
   "metadata": {},
   "outputs": [
    {
     "name": "stdout",
     "output_type": "stream",
     "text": [
      "Enter first number 10\n",
      "Enter second number 0\n"
     ]
    },
    {
     "ename": "ZeroDivisionError",
     "evalue": "division by zero",
     "output_type": "error",
     "traceback": [
      "\u001b[0;31m---------------------------------------------------------------------------\u001b[0m",
      "\u001b[0;31mZeroDivisionError\u001b[0m                         Traceback (most recent call last)",
      "\u001b[0;32m/var/folders/72/_q59jbdn7sj2yp5__ym344bc0000gn/T/ipykernel_36459/1261890584.py\u001b[0m in \u001b[0;36m<module>\u001b[0;34m\u001b[0m\n\u001b[1;32m      2\u001b[0m \u001b[0mb\u001b[0m\u001b[0;34m=\u001b[0m \u001b[0mint\u001b[0m\u001b[0;34m(\u001b[0m\u001b[0minput\u001b[0m\u001b[0;34m(\u001b[0m\u001b[0;34m\"Enter second number \"\u001b[0m\u001b[0;34m)\u001b[0m\u001b[0;34m)\u001b[0m\u001b[0;34m\u001b[0m\u001b[0;34m\u001b[0m\u001b[0m\n\u001b[1;32m      3\u001b[0m \u001b[0;34m\u001b[0m\u001b[0m\n\u001b[0;32m----> 4\u001b[0;31m \u001b[0mc\u001b[0m \u001b[0;34m=\u001b[0m \u001b[0ma\u001b[0m\u001b[0;34m/\u001b[0m\u001b[0mb\u001b[0m\u001b[0;34m;\u001b[0m\u001b[0;34m\u001b[0m\u001b[0;34m\u001b[0m\u001b[0m\n\u001b[0m\u001b[1;32m      5\u001b[0m \u001b[0mprint\u001b[0m\u001b[0;34m(\u001b[0m\u001b[0mc\u001b[0m\u001b[0;34m)\u001b[0m\u001b[0;34m\u001b[0m\u001b[0;34m\u001b[0m\u001b[0m\n",
      "\u001b[0;31mZeroDivisionError\u001b[0m: division by zero"
     ]
    }
   ],
   "source": [
    "a= int(input(\"Enter first number \"))\n",
    "b= int(input(\"Enter second number \"))\n",
    "\n",
    "c = a/b; \n",
    "print(c)\n",
    "\n",
    "# Exception Error "
   ]
  },
  {
   "cell_type": "markdown",
   "id": "1b616767",
   "metadata": {},
   "source": [
    "## To Handle Exception will have 5 keyword.\n",
    "```try``` \n",
    "\n",
    "```except```\n",
    " \n",
    "```else```\n",
    "\n",
    "```raise```\n",
    "\n",
    "```finally```"
   ]
  },
  {
   "cell_type": "code",
   "execution_count": 1,
   "id": "cf0fffd1",
   "metadata": {},
   "outputs": [
    {
     "name": "stdout",
     "output_type": "stream",
     "text": [
      "Enter first number 12\n",
      "Enter second number 0\n",
      "You can't divide by Zero\n"
     ]
    }
   ],
   "source": [
    "\n",
    "# Example \n",
    "a= int(input(\"Enter first number \"))\n",
    "b= int(input(\"Enter second number \"))\n",
    "\n",
    "# Here we are handling the exception which can be done by zero\n",
    "try:\n",
    "    c = a/b; \n",
    "    print(c)    \n",
    "except : \n",
    "    print(\"You can't divide by Zero\")"
   ]
  },
  {
   "cell_type": "code",
   "execution_count": 10,
   "id": "71f2d587",
   "metadata": {},
   "outputs": [
    {
     "ename": "SyntaxError",
     "evalue": "invalid syntax (3968793799.py, line 2)",
     "output_type": "error",
     "traceback": [
      "\u001b[0;36m  File \u001b[0;32m\"/var/folders/72/_q59jbdn7sj2yp5__ym344bc0000gn/T/ipykernel_36539/3968793799.py\"\u001b[0;36m, line \u001b[0;32m2\u001b[0m\n\u001b[0;31m    import traceback.format_exc()\u001b[0m\n\u001b[0m                               ^\u001b[0m\n\u001b[0;31mSyntaxError\u001b[0m\u001b[0;31m:\u001b[0m invalid syntax\n"
     ]
    }
   ],
   "source": [
    "import sys\n",
    "\n",
    "while True:\n",
    "    try:\n",
    "        a = int(input(\"Enter First Number: \"))\n",
    "        b = int(input(\"Enter Second Number: \"))\n",
    "        c = a / b;\n",
    "        print(c)\n",
    "        break;\n",
    "    except: \n",
    "        # print(sys.exc_info())\n",
    "        print(traceback.formate_exc())"
   ]
  },
  {
   "cell_type": "code",
   "execution_count": 15,
   "id": "8dd6ab29",
   "metadata": {},
   "outputs": [
    {
     "ename": "SyntaxError",
     "evalue": "invalid syntax (419569093.py, line 1)",
     "output_type": "error",
     "traceback": [
      "\u001b[0;36m  File \u001b[0;32m\"/var/folders/72/_q59jbdn7sj2yp5__ym344bc0000gn/T/ipykernel_36539/419569093.py\"\u001b[0;36m, line \u001b[0;32m1\u001b[0m\n\u001b[0;31m    import traceback.format_exc()\u001b[0m\n\u001b[0m                               ^\u001b[0m\n\u001b[0;31mSyntaxError\u001b[0m\u001b[0;31m:\u001b[0m invalid syntax\n"
     ]
    }
   ],
   "source": [
    "import traceback.format_exc()"
   ]
  }
 ],
 "metadata": {
  "kernelspec": {
   "display_name": "Python 3 (ipykernel)",
   "language": "python",
   "name": "python3"
  },
  "language_info": {
   "codemirror_mode": {
    "name": "ipython",
    "version": 3
   },
   "file_extension": ".py",
   "mimetype": "text/x-python",
   "name": "python",
   "nbconvert_exporter": "python",
   "pygments_lexer": "ipython3",
   "version": "3.9.7"
  }
 },
 "nbformat": 4,
 "nbformat_minor": 5
}
