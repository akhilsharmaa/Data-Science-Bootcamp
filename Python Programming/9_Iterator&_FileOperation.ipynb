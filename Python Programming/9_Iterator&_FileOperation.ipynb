{
 "cells": [
  {
   "cell_type": "markdown",
   "id": "4cc37665",
   "metadata": {},
   "source": [
    "## Iterators & File Operation"
   ]
  },
  {
   "cell_type": "code",
   "execution_count": 1,
   "id": "d3303b78",
   "metadata": {},
   "outputs": [],
   "source": [
    "l= [1, 2, 3, 7, 9]"
   ]
  },
  {
   "cell_type": "code",
   "execution_count": 2,
   "id": "40131e5d",
   "metadata": {
    "scrolled": true
   },
   "outputs": [
    {
     "name": "stdout",
     "output_type": "stream",
     "text": [
      "1\n",
      "2\n",
      "3\n",
      "7\n",
      "9\n"
     ]
    }
   ],
   "source": [
    "for i in l:\n",
    "    print(i)"
   ]
  },
  {
   "cell_type": "code",
   "execution_count": 3,
   "id": "59291280",
   "metadata": {},
   "outputs": [],
   "source": [
    "b = iter(l); #Iterator "
   ]
  },
  {
   "cell_type": "code",
   "execution_count": 4,
   "id": "2a0ecb12",
   "metadata": {},
   "outputs": [
    {
     "data": {
      "text/plain": [
       "1"
      ]
     },
     "execution_count": 4,
     "metadata": {},
     "output_type": "execute_result"
    }
   ],
   "source": [
    "next(b)"
   ]
  },
  {
   "cell_type": "code",
   "execution_count": 5,
   "id": "872e3774",
   "metadata": {},
   "outputs": [
    {
     "data": {
      "text/plain": [
       "2"
      ]
     },
     "execution_count": 5,
     "metadata": {},
     "output_type": "execute_result"
    }
   ],
   "source": [
    "next(b)"
   ]
  },
  {
   "cell_type": "code",
   "execution_count": 6,
   "id": "82cedbb0",
   "metadata": {},
   "outputs": [
    {
     "data": {
      "text/plain": [
       "3"
      ]
     },
     "execution_count": 6,
     "metadata": {},
     "output_type": "execute_result"
    }
   ],
   "source": [
    "next(b)"
   ]
  },
  {
   "cell_type": "code",
   "execution_count": 7,
   "id": "8849df9e",
   "metadata": {},
   "outputs": [
    {
     "data": {
      "text/plain": [
       "7"
      ]
     },
     "execution_count": 7,
     "metadata": {},
     "output_type": "execute_result"
    }
   ],
   "source": [
    "next(b)"
   ]
  },
  {
   "cell_type": "code",
   "execution_count": 8,
   "id": "d5298eb1",
   "metadata": {},
   "outputs": [
    {
     "data": {
      "text/plain": [
       "9"
      ]
     },
     "execution_count": 8,
     "metadata": {},
     "output_type": "execute_result"
    }
   ],
   "source": [
    "next(b)"
   ]
  },
  {
   "cell_type": "code",
   "execution_count": 9,
   "id": "693120a6",
   "metadata": {},
   "outputs": [
    {
     "name": "stdout",
     "output_type": "stream",
     "text": [
      "1\n",
      "2\n",
      "3\n",
      "7\n",
      "9\n"
     ]
    }
   ],
   "source": [
    "for i in l:\n",
    "    print(i)"
   ]
  },
  {
   "cell_type": "code",
   "execution_count": 10,
   "id": "00d355dd",
   "metadata": {},
   "outputs": [],
   "source": [
    "s = \"akhil\";"
   ]
  },
  {
   "cell_type": "code",
   "execution_count": 11,
   "id": "d3981490",
   "metadata": {},
   "outputs": [],
   "source": [
    "i = iter(s)"
   ]
  },
  {
   "cell_type": "code",
   "execution_count": 12,
   "id": "ed778e57",
   "metadata": {},
   "outputs": [
    {
     "data": {
      "text/plain": [
       "'a'"
      ]
     },
     "execution_count": 12,
     "metadata": {},
     "output_type": "execute_result"
    }
   ],
   "source": [
    "next(i)"
   ]
  },
  {
   "cell_type": "code",
   "execution_count": 13,
   "id": "8010002b",
   "metadata": {},
   "outputs": [
    {
     "data": {
      "text/plain": [
       "'k'"
      ]
     },
     "execution_count": 13,
     "metadata": {},
     "output_type": "execute_result"
    }
   ],
   "source": [
    "next(i)"
   ]
  },
  {
   "cell_type": "code",
   "execution_count": 14,
   "id": "d6fb0d1e",
   "metadata": {},
   "outputs": [
    {
     "data": {
      "text/plain": [
       "'h'"
      ]
     },
     "execution_count": 14,
     "metadata": {},
     "output_type": "execute_result"
    }
   ],
   "source": [
    "next(i)"
   ]
  },
  {
   "cell_type": "code",
   "execution_count": 15,
   "id": "b63f4705",
   "metadata": {},
   "outputs": [
    {
     "data": {
      "text/plain": [
       "'i'"
      ]
     },
     "execution_count": 15,
     "metadata": {},
     "output_type": "execute_result"
    }
   ],
   "source": [
    "next(i)"
   ]
  },
  {
   "cell_type": "code",
   "execution_count": 16,
   "id": "bc479050",
   "metadata": {},
   "outputs": [
    {
     "data": {
      "text/plain": [
       "'l'"
      ]
     },
     "execution_count": 16,
     "metadata": {},
     "output_type": "execute_result"
    }
   ],
   "source": [
    "next(i)"
   ]
  },
  {
   "cell_type": "code",
   "execution_count": 17,
   "id": "0bd5a766",
   "metadata": {},
   "outputs": [
    {
     "name": "stdout",
     "output_type": "stream",
     "text": [
      "a k h i l "
     ]
    }
   ],
   "source": [
    "for i in s: \n",
    "    print(i, end=\" \")"
   ]
  },
  {
   "cell_type": "code",
   "execution_count": 18,
   "id": "16da2529",
   "metadata": {},
   "outputs": [
    {
     "data": {
      "text/plain": [
       "[1, 2, 3, 4, 5, 6, 7, 8, 9]"
      ]
     },
     "execution_count": 18,
     "metadata": {},
     "output_type": "execute_result"
    }
   ],
   "source": [
    "list(range(1, 10))"
   ]
  },
  {
   "cell_type": "code",
   "execution_count": 19,
   "id": "d12885a3",
   "metadata": {},
   "outputs": [],
   "source": [
    "# Function to generate square function \n",
    "def sqr(x, y):\n",
    "    l = []\n",
    "    for i in range(1, 10):\n",
    "        l.append(i * i);\n",
    "    \n",
    "    return l;"
   ]
  },
  {
   "cell_type": "code",
   "execution_count": 20,
   "id": "0d8ff5b2",
   "metadata": {},
   "outputs": [],
   "source": [
    "# Function to generate square function \n",
    "def sqr2(x, y):\n",
    "    x = [i*i for i in range(x, y)];\n",
    "    return x;"
   ]
  },
  {
   "cell_type": "code",
   "execution_count": 21,
   "id": "e94ba88e",
   "metadata": {},
   "outputs": [],
   "source": [
    "l = sqr(0, 12);"
   ]
  },
  {
   "cell_type": "code",
   "execution_count": 22,
   "id": "5efa67f3",
   "metadata": {},
   "outputs": [
    {
     "name": "stdout",
     "output_type": "stream",
     "text": [
      "1 4 9 16 25 36 49 64 81 "
     ]
    }
   ],
   "source": [
    "for i in l:\n",
    "    print(i, end=\" \")"
   ]
  },
  {
   "cell_type": "code",
   "execution_count": 23,
   "id": "4e8b8e80",
   "metadata": {},
   "outputs": [],
   "source": [
    "# Function to generate square function \n",
    "def sqr3(x, y):\n",
    "    x = [i*i for i in range(x, y)];\n",
    "    yield x;"
   ]
  },
  {
   "cell_type": "code",
   "execution_count": 24,
   "id": "d290e9f5",
   "metadata": {},
   "outputs": [
    {
     "data": {
      "text/plain": [
       "<generator object sqr3 at 0x7feab1fd95f0>"
      ]
     },
     "execution_count": 24,
     "metadata": {},
     "output_type": "execute_result"
    }
   ],
   "source": [
    "sqr3(3,12)"
   ]
  },
  {
   "cell_type": "code",
   "execution_count": 25,
   "id": "9d4e8038",
   "metadata": {},
   "outputs": [
    {
     "name": "stdout",
     "output_type": "stream",
     "text": [
      "[4, 9, 16, 25, 36, 49, 64]\n"
     ]
    }
   ],
   "source": [
    "for i in sqr3(2, 9):\n",
    "    print(i)"
   ]
  },
  {
   "cell_type": "code",
   "execution_count": 26,
   "id": "c72f32fc",
   "metadata": {},
   "outputs": [],
   "source": [
    "def getFibo(n):\n",
    "    a = 1\n",
    "    b = 1\n",
    "    l = []\n",
    "    for i in range(n):\n",
    "        l.append(a);\n",
    "        temp = b;\n",
    "        a, b= temp, a+temp;\n",
    "    yield l"
   ]
  },
  {
   "cell_type": "code",
   "execution_count": 27,
   "id": "67b9713e",
   "metadata": {},
   "outputs": [
    {
     "name": "stdout",
     "output_type": "stream",
     "text": [
      "[1, 1, 2, 3, 5, 8, 13, 21, 34, 55, 89, 144, 233, 377, 610, 987, 1597, 2584, 4181, 6765, 10946, 17711, 28657, 46368, 75025, 121393, 196418, 317811, 514229, 832040, 1346269, 2178309, 3524578, 5702887, 9227465, 14930352, 24157817, 39088169, 63245986, 102334155, 165580141, 267914296, 433494437, 701408733, 1134903170, 1836311903, 2971215073, 4807526976, 7778742049, 12586269025, 20365011074, 32951280099, 53316291173, 86267571272, 139583862445, 225851433717, 365435296162, 591286729879, 956722026041, 1548008755920, 2504730781961, 4052739537881, 6557470319842, 10610209857723, 17167680177565, 27777890035288, 44945570212853, 72723460248141, 117669030460994, 190392490709135, 308061521170129, 498454011879264, 806515533049393, 1304969544928657, 2111485077978050, 3416454622906707, 5527939700884757, 8944394323791464, 14472334024676221, 23416728348467685, 37889062373143906, 61305790721611591, 99194853094755497, 160500643816367088, 259695496911122585, 420196140727489673, 679891637638612258, 1100087778366101931, 1779979416004714189, 2880067194370816120, 4660046610375530309, 7540113804746346429, 12200160415121876738, 19740274219868223167, 31940434634990099905, 51680708854858323072, 83621143489848422977, 135301852344706746049, 218922995834555169026, 354224848179261915075]\n"
     ]
    }
   ],
   "source": [
    "# l = getFibo(10)\n",
    "\n",
    "for i in getFibo(100):\n",
    "    print(i)"
   ]
  },
  {
   "cell_type": "markdown",
   "id": "87b9f960",
   "metadata": {},
   "source": [
    "# File Operations"
   ]
  },
  {
   "cell_type": "code",
   "execution_count": 28,
   "id": "6360e3aa",
   "metadata": {},
   "outputs": [],
   "source": [
    "# To open a file.\n",
    "f = open(\"akhil.txt\", \"w\")\n",
    "\n",
    "# This will create the file named \"akhil.txt\" ."
   ]
  },
  {
   "cell_type": "code",
   "execution_count": 29,
   "id": "1e31a130",
   "metadata": {},
   "outputs": [
    {
     "name": "stdout",
     "output_type": "stream",
     "text": [
      "1_python_basics.ipynb             8_ExceptionHandling.ipynb\r\n",
      "2_python_string.ipynb             9_Iterator&_FileOperation.ipynb\r\n",
      "3_python_list.ipynb               akhil.txt\r\n",
      "4_python_ifElse.ipynb             test.akhil\r\n",
      "5_ForLoop.ipynb                   test1.txt\r\n",
      "6_WhileLoop_FunctionBasics.ipynb  test7.txt\r\n",
      "7_Functions_Parameters.ipynb\r\n"
     ]
    }
   ],
   "source": [
    "ls"
   ]
  },
  {
   "cell_type": "code",
   "execution_count": 30,
   "id": "69493812",
   "metadata": {},
   "outputs": [
    {
     "data": {
      "text/plain": [
       "45"
      ]
     },
     "execution_count": 30,
     "metadata": {},
     "output_type": "execute_result"
    }
   ],
   "source": [
    "f.write(\"This is my First writing operation in python \")"
   ]
  },
  {
   "cell_type": "code",
   "execution_count": 31,
   "id": "dbf6cd60",
   "metadata": {},
   "outputs": [],
   "source": [
    "f.close()"
   ]
  },
  {
   "cell_type": "code",
   "execution_count": 32,
   "id": "d7b0ce3e",
   "metadata": {},
   "outputs": [
    {
     "name": "stdout",
     "output_type": "stream",
     "text": [
      "1_python_basics.ipynb             8_ExceptionHandling.ipynb\r\n",
      "2_python_string.ipynb             9_Iterator&_FileOperation.ipynb\r\n",
      "3_python_list.ipynb               akhil.txt\r\n",
      "4_python_ifElse.ipynb             test.akhil\r\n",
      "5_ForLoop.ipynb                   test1.txt\r\n",
      "6_WhileLoop_FunctionBasics.ipynb  test7.txt\r\n",
      "7_Functions_Parameters.ipynb\r\n"
     ]
    }
   ],
   "source": [
    "ls"
   ]
  },
  {
   "cell_type": "markdown",
   "id": "c3d0e0f8",
   "metadata": {},
   "source": [
    " "
   ]
  },
  {
   "cell_type": "code",
   "execution_count": 33,
   "id": "095d71bb",
   "metadata": {},
   "outputs": [
    {
     "data": {
      "text/plain": [
       "30"
      ]
     },
     "execution_count": 33,
     "metadata": {},
     "output_type": "execute_result"
    }
   ],
   "source": [
    "f1 = open(\"test1.txt\", \"w\");\n",
    "f1.write(\"This is second file operation \")"
   ]
  },
  {
   "cell_type": "code",
   "execution_count": 34,
   "id": "187afd89",
   "metadata": {},
   "outputs": [],
   "source": [
    "l = [i * i for i in range(0, 200)]\n"
   ]
  },
  {
   "cell_type": "code",
   "execution_count": 35,
   "id": "1f99463c",
   "metadata": {},
   "outputs": [
    {
     "data": {
      "text/plain": [
       "1254"
      ]
     },
     "execution_count": 35,
     "metadata": {},
     "output_type": "execute_result"
    }
   ],
   "source": [
    "f1.write(str(l))"
   ]
  },
  {
   "cell_type": "code",
   "execution_count": 36,
   "id": "41ac1996",
   "metadata": {},
   "outputs": [],
   "source": [
    "f1.close()"
   ]
  },
  {
   "cell_type": "code",
   "execution_count": 37,
   "id": "dc506f52",
   "metadata": {},
   "outputs": [],
   "source": [
    "f3 = open(\"test.akhil\", \"w\");\n",
    "f3.write(\"Hello i am akhil\");\n",
    "f3.close()"
   ]
  },
  {
   "cell_type": "markdown",
   "id": "fceb1d04",
   "metadata": {},
   "source": [
    "#### Other way of writing file "
   ]
  },
  {
   "cell_type": "code",
   "execution_count": 38,
   "id": "e49cd34d",
   "metadata": {},
   "outputs": [
    {
     "name": "stdout",
     "output_type": "stream",
     "text": [
      "Overwriting test7.txt\n"
     ]
    }
   ],
   "source": [
    "%%writefile test7.txt\n",
    "This is my diff approach of writing in file\n",
    "This is my diff approach of writing in file\n",
    "This is my diff approach of writing in file\n",
    "This is my diff approach of writing in file\n",
    "This is my diff approach of writing in file\n"
   ]
  },
  {
   "cell_type": "code",
   "execution_count": 39,
   "id": "51c98745",
   "metadata": {},
   "outputs": [
    {
     "data": {
      "text/plain": [
       "'This is my diff approach of writing in file\\nThis is my diff approach of writing in file\\nThis is my diff approach of writing in file\\nThis is my diff approach of writing in file\\nThis is my diff approach of writing in file\\n'"
      ]
     },
     "execution_count": 39,
     "metadata": {},
     "output_type": "execute_result"
    }
   ],
   "source": [
    "# Lets read the test7.txt file \n",
    "f = open(\"test7.txt\", \"r\")\n",
    "f.read() # This will read the file content\n"
   ]
  },
  {
   "cell_type": "code",
   "execution_count": 40,
   "id": "db9f9e10",
   "metadata": {},
   "outputs": [
    {
     "data": {
      "text/plain": [
       "''"
      ]
     },
     "execution_count": 40,
     "metadata": {},
     "output_type": "execute_result"
    }
   ],
   "source": [
    "f.read() # Here you will not get any output because the f pointer is present in the last."
   ]
  },
  {
   "cell_type": "code",
   "execution_count": 41,
   "id": "09d474e2",
   "metadata": {},
   "outputs": [
    {
     "data": {
      "text/plain": [
       "0"
      ]
     },
     "execution_count": 41,
     "metadata": {},
     "output_type": "execute_result"
    }
   ],
   "source": [
    "# Change the f pointer from last to start postion (0).\n",
    "f.seek(0) "
   ]
  },
  {
   "cell_type": "code",
   "execution_count": 42,
   "id": "e39e53da",
   "metadata": {},
   "outputs": [
    {
     "data": {
      "text/plain": [
       "'This is my diff approach of writing in file\\nThis is my diff approach of writing in file\\nThis is my diff approach of writing in file\\nThis is my diff approach of writing in file\\nThis is my diff approach of writing in file\\n'"
      ]
     },
     "execution_count": 42,
     "metadata": {},
     "output_type": "execute_result"
    }
   ],
   "source": [
    "f.read() # As you can see we have changed the position of the pointer."
   ]
  },
  {
   "cell_type": "code",
   "execution_count": 43,
   "id": "fbc42ecf",
   "metadata": {},
   "outputs": [
    {
     "data": {
      "text/plain": [
       "220"
      ]
     },
     "execution_count": 43,
     "metadata": {},
     "output_type": "execute_result"
    }
   ],
   "source": [
    "f.tell() # Tell where the pointer is now ?"
   ]
  },
  {
   "cell_type": "code",
   "execution_count": 44,
   "id": "2b5e200d",
   "metadata": {},
   "outputs": [
    {
     "data": {
      "text/plain": [
       "'This is my diff approach of wr'"
      ]
     },
     "execution_count": 44,
     "metadata": {},
     "output_type": "execute_result"
    }
   ],
   "source": [
    "f.seek(0)\n",
    "f.read(30)"
   ]
  },
  {
   "cell_type": "code",
   "execution_count": 45,
   "id": "0f0d633d",
   "metadata": {},
   "outputs": [
    {
     "data": {
      "text/plain": [
       "'iting in file\\n'"
      ]
     },
     "execution_count": 45,
     "metadata": {},
     "output_type": "execute_result"
    }
   ],
   "source": [
    "f.readline() # return a line"
   ]
  },
  {
   "cell_type": "code",
   "execution_count": 46,
   "id": "0105b8d5",
   "metadata": {},
   "outputs": [
    {
     "data": {
      "text/plain": [
       "['This is my diff approach of writing in file\\n',\n",
       " 'This is my diff approach of writing in file\\n',\n",
       " 'This is my diff approach of writing in file\\n',\n",
       " 'This is my diff approach of writing in file\\n']"
      ]
     },
     "execution_count": 46,
     "metadata": {},
     "output_type": "execute_result"
    }
   ],
   "source": [
    "f.readlines() # return all the lines in form of LIST."
   ]
  },
  {
   "cell_type": "code",
   "execution_count": 47,
   "id": "47d29b36",
   "metadata": {},
   "outputs": [],
   "source": [
    "f.fileno()\n",
    "f.close()"
   ]
  },
  {
   "cell_type": "markdown",
   "id": "37643536",
   "metadata": {},
   "source": [
    "#### Appending File "
   ]
  },
  {
   "cell_type": "code",
   "execution_count": 48,
   "id": "4ef3f1ec",
   "metadata": {},
   "outputs": [
    {
     "data": {
      "text/plain": [
       "21"
      ]
     },
     "execution_count": 48,
     "metadata": {},
     "output_type": "execute_result"
    }
   ],
   "source": [
    "f = open(\"test7.txt\", \"a\")\n",
    "f.write(\"This is Appended Data\")"
   ]
  },
  {
   "cell_type": "code",
   "execution_count": 49,
   "id": "aa469caf",
   "metadata": {},
   "outputs": [
    {
     "data": {
      "text/plain": [
       "'test7.txt'"
      ]
     },
     "execution_count": 49,
     "metadata": {},
     "output_type": "execute_result"
    }
   ],
   "source": [
    "f.name"
   ]
  },
  {
   "cell_type": "code",
   "execution_count": 50,
   "id": "95c9a7a3",
   "metadata": {},
   "outputs": [
    {
     "data": {
      "text/plain": [
       "'a'"
      ]
     },
     "execution_count": 50,
     "metadata": {},
     "output_type": "execute_result"
    }
   ],
   "source": [
    "f.mode"
   ]
  },
  {
   "cell_type": "code",
   "execution_count": 51,
   "id": "a9baf9df",
   "metadata": {},
   "outputs": [],
   "source": [
    "f.close()"
   ]
  },
  {
   "cell_type": "markdown",
   "id": "b775ddb5",
   "metadata": {},
   "source": [
    " \n",
    "  \n",
    "  \n",
    "  \n",
    "  .\n",
    "  \n",
    "  \n",
    "  \n",
    "  \n",
    " ## Map, Reduce, Filter \n",
    "  "
   ]
  },
  {
   "cell_type": "markdown",
   "id": "6d63a4c5",
   "metadata": {},
   "source": [
    "### MAP function"
   ]
  },
  {
   "cell_type": "code",
   "execution_count": 52,
   "id": "0e9320c8",
   "metadata": {},
   "outputs": [],
   "source": [
    "# Question - Find the square of every element as a list.\n",
    "l = [1, 4, 5, 0, 1]"
   ]
  },
  {
   "cell_type": "code",
   "execution_count": 53,
   "id": "3d9a4169",
   "metadata": {},
   "outputs": [],
   "source": [
    "def sqr(n):\n",
    "    return n*n;"
   ]
  },
  {
   "cell_type": "code",
   "execution_count": 54,
   "id": "bec1c47d",
   "metadata": {},
   "outputs": [
    {
     "data": {
      "text/plain": [
       "[1, 16, 25, 0, 1]"
      ]
     },
     "execution_count": 54,
     "metadata": {},
     "output_type": "execute_result"
    }
   ],
   "source": [
    "list(map(sqr, l))"
   ]
  },
  {
   "cell_type": "code",
   "execution_count": 56,
   "id": "290888f9",
   "metadata": {},
   "outputs": [],
   "source": [
    "list(map(lambda x : x*x, l));"
   ]
  },
  {
   "cell_type": "markdown",
   "id": "7b07be03",
   "metadata": {},
   "source": [
    "### Reduce Function "
   ]
  },
  {
   "cell_type": "code",
   "execution_count": 60,
   "id": "6d76b7de",
   "metadata": {},
   "outputs": [],
   "source": [
    "from functools import reduce\n",
    "\n",
    "l= [3, 4, 5, 8, 10]"
   ]
  },
  {
   "cell_type": "code",
   "execution_count": 61,
   "id": "4e976896",
   "metadata": {},
   "outputs": [
    {
     "data": {
      "text/plain": [
       "30"
      ]
     },
     "execution_count": 61,
     "metadata": {},
     "output_type": "execute_result"
    }
   ],
   "source": [
    "sum(l)"
   ]
  },
  {
   "cell_type": "code",
   "execution_count": 62,
   "id": "44e641d1",
   "metadata": {
    "scrolled": true
   },
   "outputs": [
    {
     "data": {
      "text/plain": [
       "30"
      ]
     },
     "execution_count": 62,
     "metadata": {},
     "output_type": "execute_result"
    }
   ],
   "source": [
    "# Reduce Option.\n",
    "reduce(lambda a, b: a+b, l)"
   ]
  },
  {
   "cell_type": "code",
   "execution_count": null,
   "id": "63c29cae",
   "metadata": {},
   "outputs": [],
   "source": []
  }
 ],
 "metadata": {
  "kernelspec": {
   "display_name": "Python 3 (ipykernel)",
   "language": "python",
   "name": "python3"
  },
  "language_info": {
   "codemirror_mode": {
    "name": "ipython",
    "version": 3
   },
   "file_extension": ".py",
   "mimetype": "text/x-python",
   "name": "python",
   "nbconvert_exporter": "python",
   "pygments_lexer": "ipython3",
   "version": "3.9.7"
  }
 },
 "nbformat": 4,
 "nbformat_minor": 5
}
