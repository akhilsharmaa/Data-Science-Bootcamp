{
 "cells": [
  {
   "cell_type": "code",
   "execution_count": 3,
   "metadata": {},
   "outputs": [],
   "source": [
    "a = 9\n",
    "\n",
    "if a == 10 : \n",
    "    print(\"Yes it is 10\")"
   ]
  },
  {
   "cell_type": "code",
   "execution_count": 4,
   "metadata": {},
   "outputs": [
    {
     "name": "stdout",
     "output_type": "stream",
     "text": [
      "A is not equal to 10\n"
     ]
    }
   ],
   "source": [
    "if a == 11:\n",
    "    print(\"I am here\")\n",
    "elif : \n",
    "    print(\"A is not equal to 10\")\n",
    "else : \n",
    "    print(\"A is not equal to 10\")"
   ]
  },
  {
   "cell_type": "code",
   "execution_count": 8,
   "metadata": {},
   "outputs": [
    {
     "name": "stdout",
     "output_type": "stream",
     "text": [
      "b is 11\n"
     ]
    }
   ],
   "source": [
    "b = 12;\n",
    "\n",
    "if b > 10 :\n",
    "    if b > 11 : \n",
    "        print(\"b is 11\")\n",
    "    elif b == 2: \n",
    "        print(\"b is 12\")\n",
    "    else : \n",
    "        print(\"b is Not 11\")\n",
    "else : \n",
    "    print(\"b is less than 12\")"
   ]
  },
  {
   "cell_type": "code",
   "execution_count": 9,
   "metadata": {},
   "outputs": [],
   "source": [
    "if a == 12 and b == 10 and c == 12 : \n",
    "    print(\"Clear your mind\")"
   ]
  },
  {
   "cell_type": "code",
   "execution_count": null,
   "metadata": {},
   "outputs": [],
   "source": []
  }
 ],
 "metadata": {
  "interpreter": {
   "hash": "b0fa6594d8f4cbf19f97940f81e996739fb7646882a419484c72d19e05852a7e"
  },
  "kernelspec": {
   "display_name": "Python 3.9.12 64-bit",
   "language": "python",
   "name": "python3"
  },
  "language_info": {
   "codemirror_mode": {
    "name": "ipython",
    "version": 3
   },
   "file_extension": ".py",
   "mimetype": "text/x-python",
   "name": "python",
   "nbconvert_exporter": "python",
   "pygments_lexer": "ipython3",
   "version": "3.9.12"
  },
  "orig_nbformat": 4
 },
 "nbformat": 4,
 "nbformat_minor": 2
}
