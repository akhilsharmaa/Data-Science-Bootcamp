{
 "cells": [
  {
   "cell_type": "markdown",
   "metadata": {},
   "source": [
    "# Multi level Inheritances "
   ]
  },
  {
   "cell_type": "code",
   "execution_count": 1,
   "metadata": {},
   "outputs": [
    {
     "name": "stdout",
     "output_type": "stream",
     "text": [
      "<__main__.car object at 0x1060d3eb0>\n",
      "<__main__.tata object at 0x1060d3f10>\n",
      "milage of this car \n",
      "None\n",
      "this will show you all the transaction happend to icici throuhg hdfc\n",
      "this will show your deposited amount\n",
      "this will show you your account open status \n",
      "total transaction value \n"
     ]
    }
   ],
   "source": [
    "class car :\n",
    "\n",
    "    def __init__(self , body , engin , tyre):\n",
    "        self.body = body\n",
    "        self.engin = engin\n",
    "        self.tyre = tyre\n",
    "\n",
    "    def milage (self):\n",
    "        print(\"milage of this car \")\n",
    "\n",
    "c = car(\"sold\" , \"v6\" , \"radial\")\n",
    "print(c)\n",
    "\n",
    "class tata(car):\n",
    "    pass\n",
    "\n",
    "t = tata(\"solid1\" , \"v8\" , \"radial1\")\n",
    "print(t)\n",
    "print(t.milage())\n",
    "\n",
    "\n",
    "\n",
    "class bank :\n",
    "    def transaction(self) :\n",
    "        print(\"total transaction value \")\n",
    "    def account_opening(self):\n",
    "        print(\"this will show you your account open status \")\n",
    "    def deposite(self):\n",
    "        print(\"this will show your deposited amount\")\n",
    "\n",
    "class HDFC_bank(bank):\n",
    "    def hdfc_to_icici(self):\n",
    "        print(\"this will show you all the transaction happend to icici throuhg hdfc\")\n",
    "\n",
    "class icici(HDFC_bank):\n",
    "    pass\n",
    "\n",
    "i = icici()\n",
    "i.hdfc_to_icici()\n",
    "i.deposite()\n",
    "i.account_opening()\n",
    "i.transaction()"
   ]
  },
  {
   "cell_type": "markdown",
   "metadata": {},
   "source": []
  },
  {
   "cell_type": "markdown",
   "metadata": {},
   "source": [
    "# Multiple Inheritance "
   ]
  },
  {
   "cell_type": "code",
   "execution_count": 4,
   "metadata": {},
   "outputs": [
    {
     "name": "stdout",
     "output_type": "stream",
     "text": [
      "this will show you all the transaction happend to icici throuhg hdfc\n",
      "total transaction value \n",
      "this will show your deposited amount\n",
      "this will show you your account open status \n",
      "this is a test method form hdfc bank \n"
     ]
    }
   ],
   "source": [
    "\n",
    "class bank :\n",
    "    def transaction(self) :\n",
    "        print(\"total transaction value \")\n",
    "    def account_opening(self):\n",
    "        print(\"this will show you your account open status \")\n",
    "    def deposite(self):\n",
    "        print(\"this will show your deposited amount\")\n",
    "    def test(self):\n",
    "        print(\"this is a test methond form bank class \")\n",
    "\n",
    "\n",
    "class HDFC_bank:\n",
    "    def hdfc_to_icici(self):\n",
    "        print(\"this will show you all the transaction happend to icici throuhg hdfc\")\n",
    "    def test(self):\n",
    "        print(\"this is a test method form hdfc bank \")\n",
    "\n",
    "class ineron_bank:\n",
    "    def account_status_icici(self):\n",
    "        print(\"print a account status in icici \")\n",
    "\n",
    "class icici(HDFC_bank , bank , ineron_bank):\n",
    "    pass\n",
    "\n",
    "i = icici()\n",
    "i.hdfc_to_icici()\n",
    "i.transaction()\n",
    "i.deposite()\n",
    "i.account_opening()\n",
    "i.test()"
   ]
  },
  {
   "cell_type": "code",
   "execution_count": null,
   "metadata": {},
   "outputs": [],
   "source": []
  }
 ],
 "metadata": {
  "kernelspec": {
   "display_name": "Python 3.9.12 64-bit",
   "language": "python",
   "name": "python3"
  },
  "language_info": {
   "codemirror_mode": {
    "name": "ipython",
    "version": 3
   },
   "file_extension": ".py",
   "mimetype": "text/x-python",
   "name": "python",
   "nbconvert_exporter": "python",
   "pygments_lexer": "ipython3",
   "version": "3.9.12"
  },
  "orig_nbformat": 4,
  "vscode": {
   "interpreter": {
    "hash": "b0fa6594d8f4cbf19f97940f81e996739fb7646882a419484c72d19e05852a7e"
   }
  }
 },
 "nbformat": 4,
 "nbformat_minor": 2
}
