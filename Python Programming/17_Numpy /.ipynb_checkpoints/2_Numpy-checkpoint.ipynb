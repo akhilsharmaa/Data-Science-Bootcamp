{
 "cells": [
  {
   "cell_type": "code",
   "execution_count": 1,
   "id": "70e29bc7",
   "metadata": {},
   "outputs": [],
   "source": [
    "import numpy as np"
   ]
  },
  {
   "cell_type": "code",
   "execution_count": 2,
   "id": "2fef252d",
   "metadata": {},
   "outputs": [],
   "source": [
    "l = [1, 2, 3, 4, 5, 6]"
   ]
  },
  {
   "cell_type": "code",
   "execution_count": 3,
   "id": "724ed83f",
   "metadata": {},
   "outputs": [
    {
     "data": {
      "text/plain": [
       "array([1, 2, 3, 4, 5, 6])"
      ]
     },
     "execution_count": 3,
     "metadata": {},
     "output_type": "execute_result"
    }
   ],
   "source": [
    "# Will convert list to array\n",
    "np.array(l) "
   ]
  },
  {
   "cell_type": "code",
   "execution_count": 4,
   "id": "12b061b2",
   "metadata": {},
   "outputs": [],
   "source": [
    "l1 = [4,6,7,8, \"akhil\", 34.45, True]"
   ]
  },
  {
   "cell_type": "code",
   "execution_count": 5,
   "id": "190a6f43",
   "metadata": {},
   "outputs": [],
   "source": [
    "a1 = np.array(l1)"
   ]
  },
  {
   "cell_type": "code",
   "execution_count": 6,
   "id": "8cc979c9",
   "metadata": {},
   "outputs": [],
   "source": [
    "a2 = np.array([[1, 2, 3], [4,5,6]])\n",
    "a3 = np.array([[[1,2,3], [4,5,6], [7,8,9]]])"
   ]
  },
  {
   "cell_type": "code",
   "execution_count": 7,
   "id": "d10b845f",
   "metadata": {},
   "outputs": [
    {
     "data": {
      "text/plain": [
       "1"
      ]
     },
     "execution_count": 7,
     "metadata": {},
     "output_type": "execute_result"
    }
   ],
   "source": [
    "a1.ndim # Direction of Array"
   ]
  },
  {
   "cell_type": "code",
   "execution_count": 8,
   "id": "f8823e2b",
   "metadata": {},
   "outputs": [
    {
     "data": {
      "text/plain": [
       "2"
      ]
     },
     "execution_count": 8,
     "metadata": {},
     "output_type": "execute_result"
    }
   ],
   "source": [
    "a2.ndim # Direction of Array"
   ]
  },
  {
   "cell_type": "code",
   "execution_count": 9,
   "id": "e4f180e0",
   "metadata": {},
   "outputs": [
    {
     "data": {
      "text/plain": [
       "3"
      ]
     },
     "execution_count": 9,
     "metadata": {},
     "output_type": "execute_result"
    }
   ],
   "source": [
    "a3.ndim # Direction of Array"
   ]
  },
  {
   "cell_type": "code",
   "execution_count": 10,
   "id": "2a20079e",
   "metadata": {},
   "outputs": [
    {
     "data": {
      "text/plain": [
       "7"
      ]
     },
     "execution_count": 10,
     "metadata": {},
     "output_type": "execute_result"
    }
   ],
   "source": [
    "a1.size # Total no. of element"
   ]
  },
  {
   "cell_type": "code",
   "execution_count": 11,
   "id": "d1b3fc51",
   "metadata": {},
   "outputs": [
    {
     "data": {
      "text/plain": [
       "9"
      ]
     },
     "execution_count": 11,
     "metadata": {},
     "output_type": "execute_result"
    }
   ],
   "source": [
    "a3.size"
   ]
  },
  {
   "cell_type": "code",
   "execution_count": 12,
   "id": "c4ffacb3",
   "metadata": {},
   "outputs": [
    {
     "data": {
      "text/plain": [
       "(2, 3)"
      ]
     },
     "execution_count": 12,
     "metadata": {},
     "output_type": "execute_result"
    }
   ],
   "source": [
    "# Shape of the Array \n",
    "a2.shape "
   ]
  },
  {
   "cell_type": "code",
   "execution_count": 13,
   "id": "4cd116aa",
   "metadata": {},
   "outputs": [
    {
     "data": {
      "text/plain": [
       "array([[6, 8, 6, 6],\n",
       "       [9, 8, 6, 6],\n",
       "       [7, 5, 6, 8]])"
      ]
     },
     "execution_count": 13,
     "metadata": {},
     "output_type": "execute_result"
    }
   ],
   "source": [
    "# Generate random Int b/w [5 to 10]\n",
    "np.random.randint(5, 10, (3, 4), )"
   ]
  },
  {
   "cell_type": "code",
   "execution_count": 14,
   "id": "8e931e73",
   "metadata": {},
   "outputs": [
    {
     "data": {
      "text/plain": [
       "array([[46, 45, 32, 22],\n",
       "       [12, 46,  2,  3],\n",
       "       [ 9, 39, 20, 18]])"
      ]
     },
     "execution_count": 14,
     "metadata": {},
     "output_type": "execute_result"
    }
   ],
   "source": [
    "# Generate 2nd Data \n",
    "np.random.randint(2, 50, (3, 4))"
   ]
  },
  {
   "cell_type": "code",
   "execution_count": 15,
   "id": "4653961d",
   "metadata": {},
   "outputs": [
    {
     "data": {
      "text/plain": [
       "array([[0.83632491, 0.845385  , 0.56070277],\n",
       "       [0.89953564, 0.73913791, 0.00556518]])"
      ]
     },
     "execution_count": 15,
     "metadata": {},
     "output_type": "execute_result"
    }
   ],
   "source": [
    "np.random.rand(2,3)"
   ]
  },
  {
   "cell_type": "code",
   "execution_count": 16,
   "id": "cca754cd",
   "metadata": {},
   "outputs": [],
   "source": [
    "a4 = np.random.randn(4, 4)"
   ]
  },
  {
   "cell_type": "code",
   "execution_count": 17,
   "id": "64cacd5d",
   "metadata": {},
   "outputs": [
    {
     "data": {
      "text/plain": [
       "array([[-0.17358355, -0.24596729, -2.05140758,  1.04099226],\n",
       "       [-0.51074797, -0.32203541,  1.26144925,  1.59349764],\n",
       "       [-1.55865406, -0.61194274, -0.75508404,  1.71141479],\n",
       "       [ 0.5224269 , -0.42794021,  0.59196753,  1.35947074]])"
      ]
     },
     "execution_count": 17,
     "metadata": {},
     "output_type": "execute_result"
    }
   ],
   "source": [
    "a4"
   ]
  },
  {
   "cell_type": "code",
   "execution_count": 18,
   "id": "9c46df6e",
   "metadata": {},
   "outputs": [
    {
     "data": {
      "text/plain": [
       "array([[-0.17358355, -0.24596729, -2.05140758,  1.04099226, -0.51074797,\n",
       "        -0.32203541,  1.26144925,  1.59349764],\n",
       "       [-1.55865406, -0.61194274, -0.75508404,  1.71141479,  0.5224269 ,\n",
       "        -0.42794021,  0.59196753,  1.35947074]])"
      ]
     },
     "execution_count": 18,
     "metadata": {},
     "output_type": "execute_result"
    }
   ],
   "source": [
    "a4.reshape(2, 8)"
   ]
  },
  {
   "cell_type": "code",
   "execution_count": 19,
   "id": "d7c2d11f",
   "metadata": {},
   "outputs": [
    {
     "data": {
      "text/plain": [
       "array([[-0.17358355, -0.24596729],\n",
       "       [-2.05140758,  1.04099226],\n",
       "       [-0.51074797, -0.32203541],\n",
       "       [ 1.26144925,  1.59349764],\n",
       "       [-1.55865406, -0.61194274],\n",
       "       [-0.75508404,  1.71141479],\n",
       "       [ 0.5224269 , -0.42794021],\n",
       "       [ 0.59196753,  1.35947074]])"
      ]
     },
     "execution_count": 19,
     "metadata": {},
     "output_type": "execute_result"
    }
   ],
   "source": [
    "a4.reshape(8, 2)"
   ]
  },
  {
   "cell_type": "code",
   "execution_count": 20,
   "id": "bd0f4a97",
   "metadata": {},
   "outputs": [
    {
     "data": {
      "text/plain": [
       "array([[-0.17358355],\n",
       "       [-0.24596729],\n",
       "       [-2.05140758],\n",
       "       [ 1.04099226],\n",
       "       [-0.51074797],\n",
       "       [-0.32203541],\n",
       "       [ 1.26144925],\n",
       "       [ 1.59349764],\n",
       "       [-1.55865406],\n",
       "       [-0.61194274],\n",
       "       [-0.75508404],\n",
       "       [ 1.71141479],\n",
       "       [ 0.5224269 ],\n",
       "       [-0.42794021],\n",
       "       [ 0.59196753],\n",
       "       [ 1.35947074]])"
      ]
     },
     "execution_count": 20,
     "metadata": {},
     "output_type": "execute_result"
    }
   ],
   "source": [
    "a4.reshape(16, 1)"
   ]
  },
  {
   "cell_type": "code",
   "execution_count": 21,
   "id": "d6dd2fe6",
   "metadata": {},
   "outputs": [
    {
     "data": {
      "text/plain": [
       "array([[-0.17358355, -0.24596729, -2.05140758,  1.04099226, -0.51074797,\n",
       "        -0.32203541,  1.26144925,  1.59349764],\n",
       "       [-1.55865406, -0.61194274, -0.75508404,  1.71141479,  0.5224269 ,\n",
       "        -0.42794021,  0.59196753,  1.35947074]])"
      ]
     },
     "execution_count": 21,
     "metadata": {},
     "output_type": "execute_result"
    }
   ],
   "source": [
    "a4.reshape(2, -1) # Automaticaly detect the Shape -1 "
   ]
  },
  {
   "cell_type": "code",
   "execution_count": 22,
   "id": "6b2b3344",
   "metadata": {},
   "outputs": [
    {
     "data": {
      "text/plain": [
       "array([[[-0.17358355, -0.24596729, -2.05140758,  1.04099226],\n",
       "        [-0.51074797, -0.32203541,  1.26144925,  1.59349764]],\n",
       "\n",
       "       [[-1.55865406, -0.61194274, -0.75508404,  1.71141479],\n",
       "        [ 0.5224269 , -0.42794021,  0.59196753,  1.35947074]]])"
      ]
     },
     "execution_count": 22,
     "metadata": {},
     "output_type": "execute_result"
    }
   ],
   "source": [
    "a4.reshape(2, 2, 4) # Reshaping in 3D."
   ]
  },
  {
   "cell_type": "code",
   "execution_count": 23,
   "id": "774807c5",
   "metadata": {},
   "outputs": [
    {
     "data": {
      "text/plain": [
       "array(['4', '6', '7', '8', 'akhil', '34.45', 'True'], dtype='<U32')"
      ]
     },
     "execution_count": 23,
     "metadata": {},
     "output_type": "execute_result"
    }
   ],
   "source": [
    "a1"
   ]
  },
  {
   "cell_type": "code",
   "execution_count": 24,
   "id": "74bf19c5",
   "metadata": {},
   "outputs": [
    {
     "data": {
      "text/plain": [
       "'4'"
      ]
     },
     "execution_count": 24,
     "metadata": {},
     "output_type": "execute_result"
    }
   ],
   "source": [
    "a1[0]"
   ]
  },
  {
   "cell_type": "code",
   "execution_count": 25,
   "id": "cd2897af",
   "metadata": {},
   "outputs": [
    {
     "data": {
      "text/plain": [
       "array(['7', '8', 'akhil', '34.45'], dtype='<U32')"
      ]
     },
     "execution_count": 25,
     "metadata": {},
     "output_type": "execute_result"
    }
   ],
   "source": [
    "a1[2:6]"
   ]
  },
  {
   "cell_type": "code",
   "execution_count": 26,
   "id": "84b9a71e",
   "metadata": {},
   "outputs": [
    {
     "data": {
      "text/plain": [
       "array(['7', 'akhil'], dtype='<U32')"
      ]
     },
     "execution_count": 26,
     "metadata": {},
     "output_type": "execute_result"
    }
   ],
   "source": [
    "a1[2:6:2]"
   ]
  },
  {
   "cell_type": "code",
   "execution_count": 27,
   "id": "183b7061",
   "metadata": {},
   "outputs": [
    {
     "data": {
      "text/plain": [
       "array(['True', '34.45', 'akhil', '8', '7', '6', '4'], dtype='<U32')"
      ]
     },
     "execution_count": 27,
     "metadata": {},
     "output_type": "execute_result"
    }
   ],
   "source": [
    "a1[::-1]"
   ]
  },
  {
   "cell_type": "code",
   "execution_count": 44,
   "id": "79ed09e4",
   "metadata": {},
   "outputs": [
    {
     "data": {
      "text/plain": [
       "array([[1, 2, 3],\n",
       "       [4, 5, 6]])"
      ]
     },
     "execution_count": 44,
     "metadata": {},
     "output_type": "execute_result"
    }
   ],
   "source": [
    "a2"
   ]
  },
  {
   "cell_type": "code",
   "execution_count": null,
   "id": "7b3cc9ec",
   "metadata": {},
   "outputs": [],
   "source": []
  },
  {
   "cell_type": "code",
   "execution_count": 45,
   "id": "6c82d2de",
   "metadata": {},
   "outputs": [
    {
     "data": {
      "text/plain": [
       "array([[2, 3],\n",
       "       [5, 6]])"
      ]
     },
     "execution_count": 45,
     "metadata": {},
     "output_type": "execute_result"
    }
   ],
   "source": [
    "a2[:,1:] # Getting the Matrix Data "
   ]
  },
  {
   "cell_type": "code",
   "execution_count": 46,
   "id": "1b682f62",
   "metadata": {},
   "outputs": [
    {
     "data": {
      "text/plain": [
       "array([[2, 3],\n",
       "       [5, 6]])"
      ]
     },
     "execution_count": 46,
     "metadata": {},
     "output_type": "execute_result"
    }
   ],
   "source": [
    "a2[:,[1,2 ]] # Getting the Matrix Data "
   ]
  },
  {
   "cell_type": "code",
   "execution_count": 84,
   "id": "c733ae61",
   "metadata": {},
   "outputs": [
    {
     "data": {
      "text/plain": [
       "array([[2, 3],\n",
       "       [5, 6]])"
      ]
     },
     "execution_count": 84,
     "metadata": {},
     "output_type": "execute_result"
    }
   ],
   "source": [
    "a2[[0,1],1:]"
   ]
  },
  {
   "cell_type": "code",
   "execution_count": 85,
   "id": "e73b1c4d",
   "metadata": {},
   "outputs": [],
   "source": [
    "a5 = np.random.randint(2, 90, (6, 5))"
   ]
  },
  {
   "cell_type": "code",
   "execution_count": 86,
   "id": "998b7e89",
   "metadata": {},
   "outputs": [
    {
     "data": {
      "text/plain": [
       "array([[50, 48, 45, 56, 53],\n",
       "       [ 6,  6, 59, 53, 74],\n",
       "       [20,  2, 61, 29,  7],\n",
       "       [38, 51, 53, 76, 58],\n",
       "       [70, 54, 58, 20, 23],\n",
       "       [ 4, 41, 78, 45, 48]])"
      ]
     },
     "execution_count": 86,
     "metadata": {},
     "output_type": "execute_result"
    }
   ],
   "source": [
    "a5"
   ]
  },
  {
   "cell_type": "code",
   "execution_count": 87,
   "id": "93933f5d",
   "metadata": {},
   "outputs": [
    {
     "data": {
      "text/plain": [
       "array([50, 48, 45, 56, 53, 59, 53, 74, 61, 51, 53, 76, 58, 70, 54, 58, 41,\n",
       "       78, 45, 48])"
      ]
     },
     "execution_count": 87,
     "metadata": {},
     "output_type": "execute_result"
    }
   ],
   "source": [
    "a5[a5>40]"
   ]
  },
  {
   "cell_type": "code",
   "execution_count": 88,
   "id": "57732fa5",
   "metadata": {},
   "outputs": [
    {
     "data": {
      "text/plain": [
       "array([[50, 48, 45, 56, 53],\n",
       "       [ 6,  6, 59, 53, 74],\n",
       "       [20,  2, 61, 29,  7],\n",
       "       [38, 51, 53, 76, 58],\n",
       "       [70, 54, 58, 20, 23],\n",
       "       [ 4, 41, 78, 45, 48]])"
      ]
     },
     "execution_count": 88,
     "metadata": {},
     "output_type": "execute_result"
    }
   ],
   "source": [
    "a5"
   ]
  },
  {
   "cell_type": "code",
   "execution_count": 98,
   "id": "4bcbd787",
   "metadata": {},
   "outputs": [],
   "source": [
    "a5[0,1] = 11"
   ]
  },
  {
   "cell_type": "code",
   "execution_count": 99,
   "id": "4e8f1187",
   "metadata": {},
   "outputs": [
    {
     "data": {
      "text/plain": [
       "11"
      ]
     },
     "execution_count": 99,
     "metadata": {},
     "output_type": "execute_result"
    }
   ],
   "source": [
    "a5[0,1]"
   ]
  },
  {
   "cell_type": "code",
   "execution_count": 100,
   "id": "743aeb51",
   "metadata": {},
   "outputs": [],
   "source": [
    "a6 = np.random.randint(0, 3, (3, 2))"
   ]
  },
  {
   "cell_type": "code",
   "execution_count": 101,
   "id": "f6d14abb",
   "metadata": {},
   "outputs": [
    {
     "data": {
      "text/plain": [
       "array([[0, 0],\n",
       "       [1, 1],\n",
       "       [0, 1]])"
      ]
     },
     "execution_count": 101,
     "metadata": {},
     "output_type": "execute_result"
    }
   ],
   "source": [
    "a6"
   ]
  },
  {
   "cell_type": "code",
   "execution_count": 102,
   "id": "ce2c7df8",
   "metadata": {},
   "outputs": [],
   "source": [
    "a7 = np.random.randint(0, 3, (3, 3))"
   ]
  },
  {
   "cell_type": "code",
   "execution_count": null,
   "id": "00d1acdf",
   "metadata": {},
   "outputs": [],
   "source": []
  }
 ],
 "metadata": {
  "kernelspec": {
   "display_name": "Python 3 (ipykernel)",
   "language": "python",
   "name": "python3"
  },
  "language_info": {
   "codemirror_mode": {
    "name": "ipython",
    "version": 3
   },
   "file_extension": ".py",
   "mimetype": "text/x-python",
   "name": "python",
   "nbconvert_exporter": "python",
   "pygments_lexer": "ipython3",
   "version": "3.9.12"
  }
 },
 "nbformat": 4,
 "nbformat_minor": 5
}
